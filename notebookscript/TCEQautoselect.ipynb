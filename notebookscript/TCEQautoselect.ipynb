{
 "cells": [
  {
   "cell_type": "code",
   "execution_count": 72,
   "id": "8fac41b0-76a4-4b81-a3c0-f0b3a5d9e371",
   "metadata": {},
   "outputs": [],
   "source": [
    "from selenium import webdriver\n",
    "\n",
    "from selenium.webdriver.common.by import By\n",
    "driver = webdriver.Chrome()\n",
    "\n",
    "driver.get(\"https://www.tceq.texas.gov/cgi-bin/compliance/monops/dailywater.pl\")"
   ]
  },
  {
   "cell_type": "code",
   "execution_count": 73,
   "id": "80960354-b3d2-4f19-9613-4a4765fde355",
   "metadata": {},
   "outputs": [],
   "source": [
    "from selenium.webdriver.common.action_chains import ActionChains\n",
    "from selenium.webdriver.common.keys import Keys\n",
    "import time\n",
    "from selenium.webdriver.common.by import By\n",
    "from selenium.webdriver.support.ui import Select"
   ]
  },
  {
   "cell_type": "code",
   "execution_count": 74,
   "id": "d0108d97-edd9-44a8-adbf-5aac6671ad6e",
   "metadata": {},
   "outputs": [],
   "source": [
    "SDinput = driver.find_element(By.NAME, \"start_date\")\n",
    "SDinput.clear()\n",
    "SDinput.send_keys('01/01/2023')\n",
    "time.sleep(1)\n",
    "\n",
    "#do not key down and up to hit enter, the form will refresh"
   ]
  },
  {
   "cell_type": "code",
   "execution_count": 75,
   "id": "ed0e3713-2e95-4a58-b77b-1398303903be",
   "metadata": {},
   "outputs": [],
   "source": [
    "daysInput = driver.find_element(By.NAME, \"number_days\")\n",
    "daysInput.clear()\n",
    "daysInput.send_keys('31')\n",
    "time.sleep(1)"
   ]
  },
  {
   "cell_type": "code",
   "execution_count": 76,
   "id": "aff5aeae-d7bd-48b6-87f2-b8817b037826",
   "metadata": {},
   "outputs": [],
   "source": [
    "selectSite = driver.find_element(By.NAME,'select_site')\n",
    "dropdown = Select(selectSite)\n",
    "dropdown.select_by_value('site|CAMS 749|Pine Island Bayou C749|88_245_0749|749')"
   ]
  },
  {
   "cell_type": "code",
   "execution_count": 78,
   "id": "295539b4-fff3-4c1a-8453-29ac56453fb2",
   "metadata": {},
   "outputs": [],
   "source": [
    "tableOnly = driver.find_element(By.NAME, \"graphic\")\n",
    "tableOnly.click()"
   ]
  },
  {
   "cell_type": "code",
   "execution_count": 80,
   "id": "789b5117-820a-424b-ac8f-3a583042b9b6",
   "metadata": {},
   "outputs": [],
   "source": [
    "finalSub = driver.find_element(By.XPATH, '//input[@type=\"submit\" and @value=\"G e n e r a t e   R e p o r t\"]')\n",
    "finalSub.click()"
   ]
  }
 ],
 "metadata": {
  "kernelspec": {
   "display_name": "Python 3 (ipykernel)",
   "language": "python",
   "name": "python3"
  },
  "language_info": {
   "codemirror_mode": {
    "name": "ipython",
    "version": 3
   },
   "file_extension": ".py",
   "mimetype": "text/x-python",
   "name": "python",
   "nbconvert_exporter": "python",
   "pygments_lexer": "ipython3",
   "version": "3.12.4"
  }
 },
 "nbformat": 4,
 "nbformat_minor": 5
}
