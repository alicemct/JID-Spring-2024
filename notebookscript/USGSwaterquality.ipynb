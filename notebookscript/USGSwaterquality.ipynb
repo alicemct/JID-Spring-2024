{
 "cells": [
  {
   "cell_type": "code",
   "execution_count": 1,
   "id": "7e22fc59-d1c6-4a52-8ebb-56f4f6e78c7a",
   "metadata": {},
   "outputs": [],
   "source": [
    "import pandas as pd"
   ]
  },
  {
   "cell_type": "code",
   "execution_count": 2,
   "id": "a4ca257d-1ec6-4b32-8bce-9272df69c3c1",
   "metadata": {},
   "outputs": [
    {
     "name": "stdout",
     "output_type": "stream",
     "text": [
      "C:\\Users\\alicm\\OneDrive\\Documents\\GitHub\\JID-Spring-2024\\notebookscript\n"
     ]
    }
   ],
   "source": [
    "import os\n",
    "\n",
    "current_directory = os.getcwd()\n",
    "print(current_directory)"
   ]
  },
  {
   "cell_type": "code",
   "execution_count": 3,
   "id": "5a49e1ae-6b7c-448e-bf5c-60fe8c5f728b",
   "metadata": {},
   "outputs": [
    {
     "name": "stdout",
     "output_type": "stream",
     "text": [
      "C:\\Users\\alicm\\OneDrive\\Documents\\GitHub\\JID-Spring-2024\n"
     ]
    },
    {
     "name": "stderr",
     "output_type": "stream",
     "text": [
      "C:\\Users\\alicm\\anaconda3\\envs\\JIDsummer24\\Lib\\site-packages\\IPython\\core\\magics\\osm.py:417: UserWarning: This is now an optional IPython functionality, setting dhist requires you to install the `pickleshare` library.\n",
      "  self.shell.db['dhist'] = compress_dhist(dhist)[-100:]\n"
     ]
    }
   ],
   "source": [
    "cd .."
   ]
  },
  {
   "cell_type": "code",
   "execution_count": 4,
   "id": "9ee38a0a-cb1c-4798-aee7-d35218d41ccf",
   "metadata": {},
   "outputs": [
    {
     "name": "stdout",
     "output_type": "stream",
     "text": [
      "C:\\Users\\alicm\\OneDrive\\Documents\\GitHub\\JID-Spring-2024\\data\n"
     ]
    }
   ],
   "source": [
    "cd data"
   ]
  },
  {
   "cell_type": "code",
   "execution_count": 5,
   "id": "65698a26-d15f-4f05-b67f-321fed1640c2",
   "metadata": {},
   "outputs": [],
   "source": [
    "dataPath = \"usgs_wqdata.tsv\""
   ]
  },
  {
   "cell_type": "code",
   "execution_count": 6,
   "id": "8d1f7233-c012-46d9-9e07-3d96db6a24de",
   "metadata": {},
   "outputs": [],
   "source": [
    "usgsWQdata = pd.read_csv(dataPath, sep='\\t')"
   ]
  },
  {
   "cell_type": "code",
   "execution_count": 7,
   "id": "307a2360-6f44-48c0-99ee-314f1e479a8c",
   "metadata": {},
   "outputs": [
    {
     "name": "stdout",
     "output_type": "stream",
     "text": [
      "   agency_cd          site_no   sample_dt sample_tm sample_end_dt  \\\n",
      "0         5s              15s         10d        5d           10d   \n",
      "1       USGS         08057200  2023-01-09     10:30           NaN   \n",
      "2       USGS         08057200  2023-01-23     10:00           NaN   \n",
      "3       USGS         08068500  2023-01-24     09:30           NaN   \n",
      "4       USGS         08069500  2023-01-10     09:15           NaN   \n",
      "5       USGS         08069500  2023-01-23     10:45           NaN   \n",
      "6       USGS         08070200  2023-01-12     08:30           NaN   \n",
      "7       USGS         08072050  2023-01-09     12:00           NaN   \n",
      "8       USGS         08072050  2023-01-09     12:45           NaN   \n",
      "9       USGS         08072050  2023-01-26     11:30           NaN   \n",
      "10      USGS         08072050  2023-01-26     12:00           NaN   \n",
      "11      USGS         08072050  2023-01-30     13:45           NaN   \n",
      "12      USGS         08084000  2023-01-10     11:30           NaN   \n",
      "13      USGS         08085500  2023-01-09     10:30           NaN   \n",
      "14      USGS         08104500  2023-01-30     17:00           NaN   \n",
      "15      USGS         08106500  2023-01-30     13:00           NaN   \n",
      "16      USGS         08116650  2023-01-17     09:50           NaN   \n",
      "17      USGS         08155500  2023-01-12     10:00           NaN   \n",
      "18      USGS         08195000  2023-01-10     10:00           NaN   \n",
      "19      USGS         08195000  2023-01-10     10:30           NaN   \n",
      "20      USGS  292618099165901  2023-01-12     12:00           NaN   \n",
      "21      USGS  293516098325501  2023-01-18     10:00           NaN   \n",
      "22      USGS         08057410  2023-01-10     10:00           NaN   \n",
      "23      USGS  292458094534206  2023-01-25       NaN           NaN   \n",
      "24      USGS  294206095162601  2023-01-25       NaN           NaN   \n",
      "25      USGS  294237095093204  2023-01-25       NaN           NaN   \n",
      "26      USGS  293352095011601  2023-01-25       NaN           NaN   \n",
      "27      USGS  293306095054101  2023-01-25       NaN           NaN   \n",
      "28      USGS  293349095070901  2023-01-25       NaN           NaN   \n",
      "29      USGS  293348095070604  2023-01-25       NaN           NaN   \n",
      "30      USGS  294527095014911  2023-01-25       NaN           NaN   \n",
      "31      USGS  294726095351102  2023-01-23       NaN           NaN   \n",
      "32      USGS  294527095014910  2023-01-25       NaN           NaN   \n",
      "33      USGS  294338095270402  2023-01-23       NaN           NaN   \n",
      "34      USGS  295449095084105  2023-01-26       NaN           NaN   \n",
      "35      USGS  294728095200106  2023-01-26       NaN           NaN   \n",
      "36      USGS         08074710  2023-01-14     19:12           NaN   \n",
      "37      USGS         08074710  2023-01-17     13:30           NaN   \n",
      "38      USGS         08074710  2023-01-17     13:37           NaN   \n",
      "39      USGS         08074710  2023-01-17     13:44           NaN   \n",
      "40      USGS         08074710  2023-01-17     13:45           NaN   \n",
      "41      USGS         08074710  2023-01-17     13:52           NaN   \n",
      "42      USGS         08074710  2023-01-17     14:00           NaN   \n",
      "43      USGS         08074710  2023-01-24     15:50           NaN   \n",
      "44      USGS         08074710  2023-01-24     15:55           NaN   \n",
      "45      USGS         08074710  2023-01-24     16:00           NaN   \n",
      "46      USGS         08074710  2023-01-24     16:01           NaN   \n",
      "47      USGS         08074710  2023-01-24     16:05           NaN   \n",
      "48      USGS         08074710  2023-01-24     16:10           NaN   \n",
      "49      USGS  293252098380801  2023-01-09     11:30           NaN   \n",
      "50      USGS  293559098284801  2023-01-11     11:00           NaN   \n",
      "51      USGS  294300098080001  2023-01-19     09:30           NaN   \n",
      "52      USGS         08084100  2023-01-10     10:20           NaN   \n",
      "53      USGS  292943098354404  2023-01-19     11:00           NaN   \n",
      "54      USGS         08084200  2023-01-09     11:50           NaN   \n",
      "55      USGS         08084300  2023-01-11     11:40           NaN   \n",
      "56      USGS  294327095445201  2023-01-23       NaN           NaN   \n",
      "57      USGS         08067250  2023-01-30     12:30           NaN   \n",
      "\n",
      "   sample_end_tm sample_start_time_datum_cd tm_datum_rlbty_cd coll_ent_cd  \\\n",
      "0             5d                         3s                1s          8s   \n",
      "1            NaN                        CST                 K    USGS-WRD   \n",
      "2            NaN                        CST                 K    USGS-WRD   \n",
      "3            NaN                        CST                 K    USGS-WRD   \n",
      "4            NaN                        CST                 K    USGS-WRD   \n",
      "5            NaN                        CST                 K    USGS-WRD   \n",
      "6            NaN                        CST                 K    USGS-WRD   \n",
      "7            NaN                        CST                 K    USGS-WRD   \n",
      "8            NaN                        CST                 K    USGS-WRD   \n",
      "9            NaN                        CST                 K    USGS-WRD   \n",
      "10           NaN                        CST                 K    USGS-WRD   \n",
      "11           NaN                        CST                 K    USGS-WRD   \n",
      "12           NaN                        CST                 K    USGS-WRD   \n",
      "13           NaN                        CST                 K    USGS-WRD   \n",
      "14           NaN                        CST                 K    USGS-WRD   \n",
      "15           NaN                        CST                 K    USGS-WRD   \n",
      "16           NaN                        CST                 K    USGS-WRD   \n",
      "17           NaN                        CST                 K    USGS-WRD   \n",
      "18           NaN                        CST                 K    USGS-WRD   \n",
      "19           NaN                        CST                 K    USGS-WRD   \n",
      "20           NaN                        CST                 K    USGS-WRD   \n",
      "21           NaN                        CST                 K    USGS-WRD   \n",
      "22           NaN                        CST                 K    USGS-WRD   \n",
      "23           NaN                        CST                 K    USGS-WRD   \n",
      "24           NaN                        CST                 K    USGS-WRD   \n",
      "25           NaN                        CST                 K    USGS-WRD   \n",
      "26           NaN                        CST                 K    USGS-WRD   \n",
      "27           NaN                        CST                 K    USGS-WRD   \n",
      "28           NaN                        CST                 K    USGS-WRD   \n",
      "29           NaN                        CST                 K    USGS-WRD   \n",
      "30           NaN                        CST                 K    USGS-WRD   \n",
      "31           NaN                        CST                 K    USGS-WRD   \n",
      "32           NaN                        CST                 K    USGS-WRD   \n",
      "33           NaN                        CST                 K    USGS-WRD   \n",
      "34           NaN                        CST                 K    USGS-WRD   \n",
      "35           NaN                        CST                 K    USGS-WRD   \n",
      "36           NaN                        CST                 K    USGS-WRD   \n",
      "37           NaN                        CST                 K    USGS-WRD   \n",
      "38           NaN                        CST                 K    USGS-WRD   \n",
      "39           NaN                        CST                 K    USGS-WRD   \n",
      "40           NaN                        CST                 K    USGS-WRD   \n",
      "41           NaN                        CST                 K    USGS-WRD   \n",
      "42           NaN                        CST                 K    USGS-WRD   \n",
      "43           NaN                        CST                 K    USGS-WRD   \n",
      "44           NaN                        CST                 K    USGS-WRD   \n",
      "45           NaN                        CST                 K    USGS-WRD   \n",
      "46           NaN                        CST                 K    USGS-WRD   \n",
      "47           NaN                        CST                 K    USGS-WRD   \n",
      "48           NaN                        CST                 K    USGS-WRD   \n",
      "49           NaN                        CST                 K    USGS-WRD   \n",
      "50           NaN                        CST                 K    USGS-WRD   \n",
      "51           NaN                        CST                 K    USGS-WRD   \n",
      "52           NaN                        CST                 K    USGS-WRD   \n",
      "53           NaN                        CST                 K    USGS-WRD   \n",
      "54           NaN                        CST                 K    USGS-WRD   \n",
      "55           NaN                        CST                 K    USGS-WRD   \n",
      "56           NaN                        CST                 K    USGS-WRD   \n",
      "57           NaN                        CST                 K    USGS-WRD   \n",
      "\n",
      "   medium_cd  ... r99206 p99206 r99833 p99833 r99834 p99834 r99870    p99870  \\\n",
      "0         3s  ...    12s    12s    12s    12s    12s    12s    12s       12s   \n",
      "1         WS  ...    NaN  10082    NaN    NaN    NaN    NaN    NaN       NaN   \n",
      "2         WS  ...    NaN  10083    NaN    NaN    NaN    NaN    NaN       NaN   \n",
      "3         WS  ...    NaN  10082    NaN    NaN    NaN    NaN    NaN  20230000   \n",
      "4         WS  ...    NaN  10082    NaN    NaN    NaN    NaN    NaN  20230000   \n",
      "5         WS  ...    NaN  10082    NaN    NaN    NaN    NaN    NaN  20230000   \n",
      "6         WS  ...    NaN    NaN    NaN    NaN    NaN    NaN    NaN  20230000   \n",
      "7         WS  ...    NaN    NaN    NaN    NaN    NaN    NaN    NaN       NaN   \n",
      "8         WS  ...    NaN  10082    NaN    NaN    NaN    NaN    NaN       NaN   \n",
      "9         WS  ...    NaN    NaN    NaN    NaN    NaN    NaN    NaN       NaN   \n",
      "10        WS  ...    NaN  10082    NaN    NaN    NaN    NaN    NaN       NaN   \n",
      "11        WS  ...    NaN  10082    NaN    NaN    NaN    NaN    NaN       NaN   \n",
      "12        WS  ...    NaN  10079    NaN    NaN    NaN    NaN    NaN       NaN   \n",
      "13        WS  ...    NaN  10079    NaN    NaN    NaN    NaN    NaN       NaN   \n",
      "14        WS  ...    NaN    NaN    NaN    NaN    NaN    NaN    NaN       NaN   \n",
      "15        WS  ...    NaN    NaN    NaN    NaN    NaN    NaN    NaN       NaN   \n",
      "16        WS  ...    NaN  10082    NaN    NaN    NaN    NaN    NaN       NaN   \n",
      "17        WS  ...    NaN  10079    NaN   89.8    NaN   82.2    NaN       NaN   \n",
      "18        WS  ...    NaN  10082    NaN    NaN    NaN    NaN    NaN       NaN   \n",
      "19        WS  ...    NaN  10082    NaN    NaN    NaN    NaN    NaN       NaN   \n",
      "20        WG  ...    NaN  10082    NaN    NaN    NaN    NaN    NaN       NaN   \n",
      "21        WG  ...    NaN  10082    NaN    NaN    NaN    NaN    NaN       NaN   \n",
      "22        WS  ...    NaN  10082    NaN    NaN    NaN    NaN    NaN       NaN   \n",
      "23        SO  ...    NaN    NaN    NaN    NaN    NaN    NaN    NaN       NaN   \n",
      "24        SO  ...    NaN    NaN    NaN    NaN    NaN    NaN    NaN       NaN   \n",
      "25        SO  ...    NaN    NaN    NaN    NaN    NaN    NaN    NaN       NaN   \n",
      "26        SO  ...    NaN    NaN    NaN    NaN    NaN    NaN    NaN       NaN   \n",
      "27        SO  ...    NaN    NaN    NaN    NaN    NaN    NaN    NaN       NaN   \n",
      "28        SO  ...    NaN    NaN    NaN    NaN    NaN    NaN    NaN       NaN   \n",
      "29        SO  ...    NaN    NaN    NaN    NaN    NaN    NaN    NaN       NaN   \n",
      "30        SO  ...    NaN    NaN    NaN    NaN    NaN    NaN    NaN       NaN   \n",
      "31        SO  ...    NaN    NaN    NaN    NaN    NaN    NaN    NaN       NaN   \n",
      "32        SO  ...    NaN    NaN    NaN    NaN    NaN    NaN    NaN       NaN   \n",
      "33        SO  ...    NaN    NaN    NaN    NaN    NaN    NaN    NaN       NaN   \n",
      "34        SO  ...    NaN    NaN    NaN    NaN    NaN    NaN    NaN       NaN   \n",
      "35        SO  ...    NaN    NaN    NaN    NaN    NaN    NaN    NaN       NaN   \n",
      "36        WS  ...    NaN    NaN    NaN    NaN    NaN    NaN    NaN       NaN   \n",
      "37        WS  ...    NaN    NaN    NaN    NaN    NaN    NaN    NaN       NaN   \n",
      "38        WS  ...    NaN    NaN    NaN    NaN    NaN    NaN    NaN       NaN   \n",
      "39        WS  ...    NaN    NaN    NaN    NaN    NaN    NaN    NaN       NaN   \n",
      "40        WS  ...    NaN    NaN    NaN    NaN    NaN    NaN    NaN       NaN   \n",
      "41        WS  ...    NaN    NaN    NaN    NaN    NaN    NaN    NaN       NaN   \n",
      "42        WS  ...    NaN    NaN    NaN    NaN    NaN    NaN    NaN       NaN   \n",
      "43        WS  ...    NaN    NaN    NaN    NaN    NaN    NaN    NaN       NaN   \n",
      "44        WS  ...    NaN    NaN    NaN    NaN    NaN    NaN    NaN       NaN   \n",
      "45        WS  ...    NaN    NaN    NaN    NaN    NaN    NaN    NaN       NaN   \n",
      "46        WS  ...    NaN    NaN    NaN    NaN    NaN    NaN    NaN       NaN   \n",
      "47        WS  ...    NaN    NaN    NaN    NaN    NaN    NaN    NaN       NaN   \n",
      "48        WS  ...    NaN    NaN    NaN    NaN    NaN    NaN    NaN       NaN   \n",
      "49        WG  ...    NaN  10082    NaN    NaN    NaN    NaN    NaN       NaN   \n",
      "50        WG  ...    NaN  10082    NaN    NaN    NaN    NaN    NaN       NaN   \n",
      "51        WS  ...    NaN  10082    NaN    NaN    NaN    NaN    NaN       NaN   \n",
      "52        WS  ...    NaN  10079    NaN    NaN    NaN    NaN    NaN       NaN   \n",
      "53        WG  ...    NaN  10082    NaN    NaN    NaN    NaN    NaN       NaN   \n",
      "54        WS  ...    NaN  10079    NaN    NaN    NaN    NaN    NaN       NaN   \n",
      "55        WS  ...    NaN  10079    NaN    NaN    NaN    NaN    NaN       NaN   \n",
      "56        SO  ...    NaN    NaN    NaN    NaN    NaN    NaN    NaN       NaN   \n",
      "57        WS  ...    NaN    NaN    NaN    NaN    NaN    NaN    NaN       NaN   \n",
      "\n",
      "   r99871 p99871  \n",
      "0     12s    12s  \n",
      "1     NaN    NaN  \n",
      "2     NaN    NaN  \n",
      "3     NaN    NaN  \n",
      "4     NaN    NaN  \n",
      "5     NaN    NaN  \n",
      "6     NaN    NaN  \n",
      "7     NaN    NaN  \n",
      "8     NaN    NaN  \n",
      "9     NaN    NaN  \n",
      "10    NaN    NaN  \n",
      "11    NaN    NaN  \n",
      "12    NaN    NaN  \n",
      "13    NaN    NaN  \n",
      "14    NaN    NaN  \n",
      "15    NaN    NaN  \n",
      "16    NaN    NaN  \n",
      "17    NaN    0.0  \n",
      "18    NaN    NaN  \n",
      "19    NaN    NaN  \n",
      "20    NaN    NaN  \n",
      "21    NaN    NaN  \n",
      "22    NaN    NaN  \n",
      "23    NaN    NaN  \n",
      "24    NaN    NaN  \n",
      "25    NaN    NaN  \n",
      "26    NaN    NaN  \n",
      "27    NaN    NaN  \n",
      "28    NaN    NaN  \n",
      "29    NaN    NaN  \n",
      "30    NaN    NaN  \n",
      "31    NaN    NaN  \n",
      "32    NaN    NaN  \n",
      "33    NaN    NaN  \n",
      "34    NaN    NaN  \n",
      "35    NaN    NaN  \n",
      "36    NaN    NaN  \n",
      "37    NaN    NaN  \n",
      "38    NaN    NaN  \n",
      "39    NaN    NaN  \n",
      "40    NaN    NaN  \n",
      "41    NaN    NaN  \n",
      "42    NaN    NaN  \n",
      "43    NaN    NaN  \n",
      "44    NaN    NaN  \n",
      "45    NaN    NaN  \n",
      "46    NaN    NaN  \n",
      "47    NaN    NaN  \n",
      "48    NaN    NaN  \n",
      "49    NaN    NaN  \n",
      "50    NaN    NaN  \n",
      "51    NaN    NaN  \n",
      "52    NaN    NaN  \n",
      "53    NaN    NaN  \n",
      "54    NaN    NaN  \n",
      "55    NaN    NaN  \n",
      "56    NaN    NaN  \n",
      "57    NaN    NaN  \n",
      "\n",
      "[58 rows x 748 columns]\n"
     ]
    }
   ],
   "source": [
    "print(usgsWQdata)"
   ]
  },
  {
   "cell_type": "code",
   "execution_count": 10,
   "id": "fe672a6b-7a13-45ae-bc6f-953715dae561",
   "metadata": {},
   "outputs": [
    {
     "name": "stdout",
     "output_type": "stream",
     "text": [
      "   agency_cd          site_no   sample_dt sample_tm sample_end_dt  \\\n",
      "2       USGS         08057200  2023-01-23     10:00           NaN   \n",
      "3       USGS         08068500  2023-01-24     09:30           NaN   \n",
      "4       USGS         08069500  2023-01-10     09:15           NaN   \n",
      "5       USGS         08069500  2023-01-23     10:45           NaN   \n",
      "6       USGS         08070200  2023-01-12     08:30           NaN   \n",
      "7       USGS         08072050  2023-01-09     12:00           NaN   \n",
      "8       USGS         08072050  2023-01-09     12:45           NaN   \n",
      "9       USGS         08072050  2023-01-26     11:30           NaN   \n",
      "10      USGS         08072050  2023-01-26     12:00           NaN   \n",
      "11      USGS         08072050  2023-01-30     13:45           NaN   \n",
      "12      USGS         08084000  2023-01-10     11:30           NaN   \n",
      "13      USGS         08085500  2023-01-09     10:30           NaN   \n",
      "14      USGS         08104500  2023-01-30     17:00           NaN   \n",
      "15      USGS         08106500  2023-01-30     13:00           NaN   \n",
      "16      USGS         08116650  2023-01-17     09:50           NaN   \n",
      "17      USGS         08155500  2023-01-12     10:00           NaN   \n",
      "18      USGS         08195000  2023-01-10     10:00           NaN   \n",
      "19      USGS         08195000  2023-01-10     10:30           NaN   \n",
      "20      USGS  292618099165901  2023-01-12     12:00           NaN   \n",
      "21      USGS  293516098325501  2023-01-18     10:00           NaN   \n",
      "22      USGS         08057410  2023-01-10     10:00           NaN   \n",
      "23      USGS  292458094534206  2023-01-25       NaN           NaN   \n",
      "24      USGS  294206095162601  2023-01-25       NaN           NaN   \n",
      "25      USGS  294237095093204  2023-01-25       NaN           NaN   \n",
      "26      USGS  293352095011601  2023-01-25       NaN           NaN   \n",
      "27      USGS  293306095054101  2023-01-25       NaN           NaN   \n",
      "28      USGS  293349095070901  2023-01-25       NaN           NaN   \n",
      "29      USGS  293348095070604  2023-01-25       NaN           NaN   \n",
      "30      USGS  294527095014911  2023-01-25       NaN           NaN   \n",
      "31      USGS  294726095351102  2023-01-23       NaN           NaN   \n",
      "32      USGS  294527095014910  2023-01-25       NaN           NaN   \n",
      "33      USGS  294338095270402  2023-01-23       NaN           NaN   \n",
      "34      USGS  295449095084105  2023-01-26       NaN           NaN   \n",
      "35      USGS  294728095200106  2023-01-26       NaN           NaN   \n",
      "36      USGS         08074710  2023-01-14     19:12           NaN   \n",
      "37      USGS         08074710  2023-01-17     13:30           NaN   \n",
      "38      USGS         08074710  2023-01-17     13:37           NaN   \n",
      "39      USGS         08074710  2023-01-17     13:44           NaN   \n",
      "40      USGS         08074710  2023-01-17     13:45           NaN   \n",
      "41      USGS         08074710  2023-01-17     13:52           NaN   \n",
      "42      USGS         08074710  2023-01-17     14:00           NaN   \n",
      "43      USGS         08074710  2023-01-24     15:50           NaN   \n",
      "44      USGS         08074710  2023-01-24     15:55           NaN   \n",
      "45      USGS         08074710  2023-01-24     16:00           NaN   \n",
      "46      USGS         08074710  2023-01-24     16:01           NaN   \n",
      "47      USGS         08074710  2023-01-24     16:05           NaN   \n",
      "48      USGS         08074710  2023-01-24     16:10           NaN   \n",
      "49      USGS  293252098380801  2023-01-09     11:30           NaN   \n",
      "50      USGS  293559098284801  2023-01-11     11:00           NaN   \n",
      "51      USGS  294300098080001  2023-01-19     09:30           NaN   \n",
      "52      USGS         08084100  2023-01-10     10:20           NaN   \n",
      "53      USGS  292943098354404  2023-01-19     11:00           NaN   \n",
      "54      USGS         08084200  2023-01-09     11:50           NaN   \n",
      "55      USGS         08084300  2023-01-11     11:40           NaN   \n",
      "56      USGS  294327095445201  2023-01-23       NaN           NaN   \n",
      "57      USGS         08067250  2023-01-30     12:30           NaN   \n",
      "\n",
      "   sample_end_tm sample_start_time_datum_cd tm_datum_rlbty_cd coll_ent_cd  \\\n",
      "2            NaN                        CST                 K    USGS-WRD   \n",
      "3            NaN                        CST                 K    USGS-WRD   \n",
      "4            NaN                        CST                 K    USGS-WRD   \n",
      "5            NaN                        CST                 K    USGS-WRD   \n",
      "6            NaN                        CST                 K    USGS-WRD   \n",
      "7            NaN                        CST                 K    USGS-WRD   \n",
      "8            NaN                        CST                 K    USGS-WRD   \n",
      "9            NaN                        CST                 K    USGS-WRD   \n",
      "10           NaN                        CST                 K    USGS-WRD   \n",
      "11           NaN                        CST                 K    USGS-WRD   \n",
      "12           NaN                        CST                 K    USGS-WRD   \n",
      "13           NaN                        CST                 K    USGS-WRD   \n",
      "14           NaN                        CST                 K    USGS-WRD   \n",
      "15           NaN                        CST                 K    USGS-WRD   \n",
      "16           NaN                        CST                 K    USGS-WRD   \n",
      "17           NaN                        CST                 K    USGS-WRD   \n",
      "18           NaN                        CST                 K    USGS-WRD   \n",
      "19           NaN                        CST                 K    USGS-WRD   \n",
      "20           NaN                        CST                 K    USGS-WRD   \n",
      "21           NaN                        CST                 K    USGS-WRD   \n",
      "22           NaN                        CST                 K    USGS-WRD   \n",
      "23           NaN                        CST                 K    USGS-WRD   \n",
      "24           NaN                        CST                 K    USGS-WRD   \n",
      "25           NaN                        CST                 K    USGS-WRD   \n",
      "26           NaN                        CST                 K    USGS-WRD   \n",
      "27           NaN                        CST                 K    USGS-WRD   \n",
      "28           NaN                        CST                 K    USGS-WRD   \n",
      "29           NaN                        CST                 K    USGS-WRD   \n",
      "30           NaN                        CST                 K    USGS-WRD   \n",
      "31           NaN                        CST                 K    USGS-WRD   \n",
      "32           NaN                        CST                 K    USGS-WRD   \n",
      "33           NaN                        CST                 K    USGS-WRD   \n",
      "34           NaN                        CST                 K    USGS-WRD   \n",
      "35           NaN                        CST                 K    USGS-WRD   \n",
      "36           NaN                        CST                 K    USGS-WRD   \n",
      "37           NaN                        CST                 K    USGS-WRD   \n",
      "38           NaN                        CST                 K    USGS-WRD   \n",
      "39           NaN                        CST                 K    USGS-WRD   \n",
      "40           NaN                        CST                 K    USGS-WRD   \n",
      "41           NaN                        CST                 K    USGS-WRD   \n",
      "42           NaN                        CST                 K    USGS-WRD   \n",
      "43           NaN                        CST                 K    USGS-WRD   \n",
      "44           NaN                        CST                 K    USGS-WRD   \n",
      "45           NaN                        CST                 K    USGS-WRD   \n",
      "46           NaN                        CST                 K    USGS-WRD   \n",
      "47           NaN                        CST                 K    USGS-WRD   \n",
      "48           NaN                        CST                 K    USGS-WRD   \n",
      "49           NaN                        CST                 K    USGS-WRD   \n",
      "50           NaN                        CST                 K    USGS-WRD   \n",
      "51           NaN                        CST                 K    USGS-WRD   \n",
      "52           NaN                        CST                 K    USGS-WRD   \n",
      "53           NaN                        CST                 K    USGS-WRD   \n",
      "54           NaN                        CST                 K    USGS-WRD   \n",
      "55           NaN                        CST                 K    USGS-WRD   \n",
      "56           NaN                        CST                 K    USGS-WRD   \n",
      "57           NaN                        CST                 K    USGS-WRD   \n",
      "\n",
      "   medium_cd  ... r99206 p99206 r99833 p99833 r99834 p99834 r99870    p99870  \\\n",
      "2         WS  ...    NaN  10083    NaN    NaN    NaN    NaN    NaN       NaN   \n",
      "3         WS  ...    NaN  10082    NaN    NaN    NaN    NaN    NaN  20230000   \n",
      "4         WS  ...    NaN  10082    NaN    NaN    NaN    NaN    NaN  20230000   \n",
      "5         WS  ...    NaN  10082    NaN    NaN    NaN    NaN    NaN  20230000   \n",
      "6         WS  ...    NaN    NaN    NaN    NaN    NaN    NaN    NaN  20230000   \n",
      "7         WS  ...    NaN    NaN    NaN    NaN    NaN    NaN    NaN       NaN   \n",
      "8         WS  ...    NaN  10082    NaN    NaN    NaN    NaN    NaN       NaN   \n",
      "9         WS  ...    NaN    NaN    NaN    NaN    NaN    NaN    NaN       NaN   \n",
      "10        WS  ...    NaN  10082    NaN    NaN    NaN    NaN    NaN       NaN   \n",
      "11        WS  ...    NaN  10082    NaN    NaN    NaN    NaN    NaN       NaN   \n",
      "12        WS  ...    NaN  10079    NaN    NaN    NaN    NaN    NaN       NaN   \n",
      "13        WS  ...    NaN  10079    NaN    NaN    NaN    NaN    NaN       NaN   \n",
      "14        WS  ...    NaN    NaN    NaN    NaN    NaN    NaN    NaN       NaN   \n",
      "15        WS  ...    NaN    NaN    NaN    NaN    NaN    NaN    NaN       NaN   \n",
      "16        WS  ...    NaN  10082    NaN    NaN    NaN    NaN    NaN       NaN   \n",
      "17        WS  ...    NaN  10079    NaN   89.8    NaN   82.2    NaN       NaN   \n",
      "18        WS  ...    NaN  10082    NaN    NaN    NaN    NaN    NaN       NaN   \n",
      "19        WS  ...    NaN  10082    NaN    NaN    NaN    NaN    NaN       NaN   \n",
      "20        WG  ...    NaN  10082    NaN    NaN    NaN    NaN    NaN       NaN   \n",
      "21        WG  ...    NaN  10082    NaN    NaN    NaN    NaN    NaN       NaN   \n",
      "22        WS  ...    NaN  10082    NaN    NaN    NaN    NaN    NaN       NaN   \n",
      "23        SO  ...    NaN    NaN    NaN    NaN    NaN    NaN    NaN       NaN   \n",
      "24        SO  ...    NaN    NaN    NaN    NaN    NaN    NaN    NaN       NaN   \n",
      "25        SO  ...    NaN    NaN    NaN    NaN    NaN    NaN    NaN       NaN   \n",
      "26        SO  ...    NaN    NaN    NaN    NaN    NaN    NaN    NaN       NaN   \n",
      "27        SO  ...    NaN    NaN    NaN    NaN    NaN    NaN    NaN       NaN   \n",
      "28        SO  ...    NaN    NaN    NaN    NaN    NaN    NaN    NaN       NaN   \n",
      "29        SO  ...    NaN    NaN    NaN    NaN    NaN    NaN    NaN       NaN   \n",
      "30        SO  ...    NaN    NaN    NaN    NaN    NaN    NaN    NaN       NaN   \n",
      "31        SO  ...    NaN    NaN    NaN    NaN    NaN    NaN    NaN       NaN   \n",
      "32        SO  ...    NaN    NaN    NaN    NaN    NaN    NaN    NaN       NaN   \n",
      "33        SO  ...    NaN    NaN    NaN    NaN    NaN    NaN    NaN       NaN   \n",
      "34        SO  ...    NaN    NaN    NaN    NaN    NaN    NaN    NaN       NaN   \n",
      "35        SO  ...    NaN    NaN    NaN    NaN    NaN    NaN    NaN       NaN   \n",
      "36        WS  ...    NaN    NaN    NaN    NaN    NaN    NaN    NaN       NaN   \n",
      "37        WS  ...    NaN    NaN    NaN    NaN    NaN    NaN    NaN       NaN   \n",
      "38        WS  ...    NaN    NaN    NaN    NaN    NaN    NaN    NaN       NaN   \n",
      "39        WS  ...    NaN    NaN    NaN    NaN    NaN    NaN    NaN       NaN   \n",
      "40        WS  ...    NaN    NaN    NaN    NaN    NaN    NaN    NaN       NaN   \n",
      "41        WS  ...    NaN    NaN    NaN    NaN    NaN    NaN    NaN       NaN   \n",
      "42        WS  ...    NaN    NaN    NaN    NaN    NaN    NaN    NaN       NaN   \n",
      "43        WS  ...    NaN    NaN    NaN    NaN    NaN    NaN    NaN       NaN   \n",
      "44        WS  ...    NaN    NaN    NaN    NaN    NaN    NaN    NaN       NaN   \n",
      "45        WS  ...    NaN    NaN    NaN    NaN    NaN    NaN    NaN       NaN   \n",
      "46        WS  ...    NaN    NaN    NaN    NaN    NaN    NaN    NaN       NaN   \n",
      "47        WS  ...    NaN    NaN    NaN    NaN    NaN    NaN    NaN       NaN   \n",
      "48        WS  ...    NaN    NaN    NaN    NaN    NaN    NaN    NaN       NaN   \n",
      "49        WG  ...    NaN  10082    NaN    NaN    NaN    NaN    NaN       NaN   \n",
      "50        WG  ...    NaN  10082    NaN    NaN    NaN    NaN    NaN       NaN   \n",
      "51        WS  ...    NaN  10082    NaN    NaN    NaN    NaN    NaN       NaN   \n",
      "52        WS  ...    NaN  10079    NaN    NaN    NaN    NaN    NaN       NaN   \n",
      "53        WG  ...    NaN  10082    NaN    NaN    NaN    NaN    NaN       NaN   \n",
      "54        WS  ...    NaN  10079    NaN    NaN    NaN    NaN    NaN       NaN   \n",
      "55        WS  ...    NaN  10079    NaN    NaN    NaN    NaN    NaN       NaN   \n",
      "56        SO  ...    NaN    NaN    NaN    NaN    NaN    NaN    NaN       NaN   \n",
      "57        WS  ...    NaN    NaN    NaN    NaN    NaN    NaN    NaN       NaN   \n",
      "\n",
      "   r99871 p99871  \n",
      "2     NaN    NaN  \n",
      "3     NaN    NaN  \n",
      "4     NaN    NaN  \n",
      "5     NaN    NaN  \n",
      "6     NaN    NaN  \n",
      "7     NaN    NaN  \n",
      "8     NaN    NaN  \n",
      "9     NaN    NaN  \n",
      "10    NaN    NaN  \n",
      "11    NaN    NaN  \n",
      "12    NaN    NaN  \n",
      "13    NaN    NaN  \n",
      "14    NaN    NaN  \n",
      "15    NaN    NaN  \n",
      "16    NaN    NaN  \n",
      "17    NaN    0.0  \n",
      "18    NaN    NaN  \n",
      "19    NaN    NaN  \n",
      "20    NaN    NaN  \n",
      "21    NaN    NaN  \n",
      "22    NaN    NaN  \n",
      "23    NaN    NaN  \n",
      "24    NaN    NaN  \n",
      "25    NaN    NaN  \n",
      "26    NaN    NaN  \n",
      "27    NaN    NaN  \n",
      "28    NaN    NaN  \n",
      "29    NaN    NaN  \n",
      "30    NaN    NaN  \n",
      "31    NaN    NaN  \n",
      "32    NaN    NaN  \n",
      "33    NaN    NaN  \n",
      "34    NaN    NaN  \n",
      "35    NaN    NaN  \n",
      "36    NaN    NaN  \n",
      "37    NaN    NaN  \n",
      "38    NaN    NaN  \n",
      "39    NaN    NaN  \n",
      "40    NaN    NaN  \n",
      "41    NaN    NaN  \n",
      "42    NaN    NaN  \n",
      "43    NaN    NaN  \n",
      "44    NaN    NaN  \n",
      "45    NaN    NaN  \n",
      "46    NaN    NaN  \n",
      "47    NaN    NaN  \n",
      "48    NaN    NaN  \n",
      "49    NaN    NaN  \n",
      "50    NaN    NaN  \n",
      "51    NaN    NaN  \n",
      "52    NaN    NaN  \n",
      "53    NaN    NaN  \n",
      "54    NaN    NaN  \n",
      "55    NaN    NaN  \n",
      "56    NaN    NaN  \n",
      "57    NaN    NaN  \n",
      "\n",
      "[56 rows x 748 columns]\n"
     ]
    }
   ],
   "source": [
    "usgsWQdata = usgsWQdata.iloc[1:]\n",
    "print(usgsWQdata)"
   ]
  },
  {
   "cell_type": "code",
   "execution_count": 11,
   "id": "75d281e6-f33b-4641-9888-9fe10a3eea77",
   "metadata": {},
   "outputs": [
    {
     "data": {
      "text/plain": [
       "Index(['agency_cd', 'site_no', 'sample_dt', 'sample_tm', 'sample_end_dt',\n",
       "       'sample_end_tm', 'sample_start_time_datum_cd', 'tm_datum_rlbty_cd',\n",
       "       'coll_ent_cd', 'medium_cd',\n",
       "       ...\n",
       "       'r99206', 'p99206', 'r99833', 'p99833', 'r99834', 'p99834', 'r99870',\n",
       "       'p99870', 'r99871', 'p99871'],\n",
       "      dtype='object', length=748)"
      ]
     },
     "execution_count": 11,
     "metadata": {},
     "output_type": "execute_result"
    }
   ],
   "source": [
    "usgsWQdata.columns"
   ]
  },
  {
   "cell_type": "code",
   "execution_count": 12,
   "id": "a20fef54-0bab-4e5b-bd99-97686e98cf03",
   "metadata": {},
   "outputs": [
    {
     "name": "stdout",
     "output_type": "stream",
     "text": [
      "   agency_cd          site_no   sample_dt sample_tm sample_end_dt  \\\n",
      "2       USGS         08057200  2023-01-23     10:00           NaN   \n",
      "3       USGS         08068500  2023-01-24     09:30           NaN   \n",
      "4       USGS         08069500  2023-01-10     09:15           NaN   \n",
      "5       USGS         08069500  2023-01-23     10:45           NaN   \n",
      "6       USGS         08070200  2023-01-12     08:30           NaN   \n",
      "7       USGS         08072050  2023-01-09     12:00           NaN   \n",
      "8       USGS         08072050  2023-01-09     12:45           NaN   \n",
      "9       USGS         08072050  2023-01-26     11:30           NaN   \n",
      "10      USGS         08072050  2023-01-26     12:00           NaN   \n",
      "11      USGS         08072050  2023-01-30     13:45           NaN   \n",
      "12      USGS         08084000  2023-01-10     11:30           NaN   \n",
      "13      USGS         08085500  2023-01-09     10:30           NaN   \n",
      "14      USGS         08104500  2023-01-30     17:00           NaN   \n",
      "15      USGS         08106500  2023-01-30     13:00           NaN   \n",
      "16      USGS         08116650  2023-01-17     09:50           NaN   \n",
      "17      USGS         08155500  2023-01-12     10:00           NaN   \n",
      "18      USGS         08195000  2023-01-10     10:00           NaN   \n",
      "19      USGS         08195000  2023-01-10     10:30           NaN   \n",
      "20      USGS  292618099165901  2023-01-12     12:00           NaN   \n",
      "21      USGS  293516098325501  2023-01-18     10:00           NaN   \n",
      "22      USGS         08057410  2023-01-10     10:00           NaN   \n",
      "23      USGS  292458094534206  2023-01-25       NaN           NaN   \n",
      "24      USGS  294206095162601  2023-01-25       NaN           NaN   \n",
      "25      USGS  294237095093204  2023-01-25       NaN           NaN   \n",
      "26      USGS  293352095011601  2023-01-25       NaN           NaN   \n",
      "27      USGS  293306095054101  2023-01-25       NaN           NaN   \n",
      "28      USGS  293349095070901  2023-01-25       NaN           NaN   \n",
      "29      USGS  293348095070604  2023-01-25       NaN           NaN   \n",
      "30      USGS  294527095014911  2023-01-25       NaN           NaN   \n",
      "31      USGS  294726095351102  2023-01-23       NaN           NaN   \n",
      "32      USGS  294527095014910  2023-01-25       NaN           NaN   \n",
      "33      USGS  294338095270402  2023-01-23       NaN           NaN   \n",
      "34      USGS  295449095084105  2023-01-26       NaN           NaN   \n",
      "35      USGS  294728095200106  2023-01-26       NaN           NaN   \n",
      "36      USGS         08074710  2023-01-14     19:12           NaN   \n",
      "37      USGS         08074710  2023-01-17     13:30           NaN   \n",
      "38      USGS         08074710  2023-01-17     13:37           NaN   \n",
      "39      USGS         08074710  2023-01-17     13:44           NaN   \n",
      "40      USGS         08074710  2023-01-17     13:45           NaN   \n",
      "41      USGS         08074710  2023-01-17     13:52           NaN   \n",
      "42      USGS         08074710  2023-01-17     14:00           NaN   \n",
      "43      USGS         08074710  2023-01-24     15:50           NaN   \n",
      "44      USGS         08074710  2023-01-24     15:55           NaN   \n",
      "45      USGS         08074710  2023-01-24     16:00           NaN   \n",
      "46      USGS         08074710  2023-01-24     16:01           NaN   \n",
      "47      USGS         08074710  2023-01-24     16:05           NaN   \n",
      "48      USGS         08074710  2023-01-24     16:10           NaN   \n",
      "49      USGS  293252098380801  2023-01-09     11:30           NaN   \n",
      "50      USGS  293559098284801  2023-01-11     11:00           NaN   \n",
      "51      USGS  294300098080001  2023-01-19     09:30           NaN   \n",
      "52      USGS         08084100  2023-01-10     10:20           NaN   \n",
      "53      USGS  292943098354404  2023-01-19     11:00           NaN   \n",
      "54      USGS         08084200  2023-01-09     11:50           NaN   \n",
      "55      USGS         08084300  2023-01-11     11:40           NaN   \n",
      "56      USGS  294327095445201  2023-01-23       NaN           NaN   \n",
      "57      USGS         08067250  2023-01-30     12:30           NaN   \n",
      "\n",
      "   sample_end_tm sample_start_time_datum_cd tm_datum_rlbty_cd coll_ent_cd  \\\n",
      "2            NaN                        CST                 K    USGS-WRD   \n",
      "3            NaN                        CST                 K    USGS-WRD   \n",
      "4            NaN                        CST                 K    USGS-WRD   \n",
      "5            NaN                        CST                 K    USGS-WRD   \n",
      "6            NaN                        CST                 K    USGS-WRD   \n",
      "7            NaN                        CST                 K    USGS-WRD   \n",
      "8            NaN                        CST                 K    USGS-WRD   \n",
      "9            NaN                        CST                 K    USGS-WRD   \n",
      "10           NaN                        CST                 K    USGS-WRD   \n",
      "11           NaN                        CST                 K    USGS-WRD   \n",
      "12           NaN                        CST                 K    USGS-WRD   \n",
      "13           NaN                        CST                 K    USGS-WRD   \n",
      "14           NaN                        CST                 K    USGS-WRD   \n",
      "15           NaN                        CST                 K    USGS-WRD   \n",
      "16           NaN                        CST                 K    USGS-WRD   \n",
      "17           NaN                        CST                 K    USGS-WRD   \n",
      "18           NaN                        CST                 K    USGS-WRD   \n",
      "19           NaN                        CST                 K    USGS-WRD   \n",
      "20           NaN                        CST                 K    USGS-WRD   \n",
      "21           NaN                        CST                 K    USGS-WRD   \n",
      "22           NaN                        CST                 K    USGS-WRD   \n",
      "23           NaN                        CST                 K    USGS-WRD   \n",
      "24           NaN                        CST                 K    USGS-WRD   \n",
      "25           NaN                        CST                 K    USGS-WRD   \n",
      "26           NaN                        CST                 K    USGS-WRD   \n",
      "27           NaN                        CST                 K    USGS-WRD   \n",
      "28           NaN                        CST                 K    USGS-WRD   \n",
      "29           NaN                        CST                 K    USGS-WRD   \n",
      "30           NaN                        CST                 K    USGS-WRD   \n",
      "31           NaN                        CST                 K    USGS-WRD   \n",
      "32           NaN                        CST                 K    USGS-WRD   \n",
      "33           NaN                        CST                 K    USGS-WRD   \n",
      "34           NaN                        CST                 K    USGS-WRD   \n",
      "35           NaN                        CST                 K    USGS-WRD   \n",
      "36           NaN                        CST                 K    USGS-WRD   \n",
      "37           NaN                        CST                 K    USGS-WRD   \n",
      "38           NaN                        CST                 K    USGS-WRD   \n",
      "39           NaN                        CST                 K    USGS-WRD   \n",
      "40           NaN                        CST                 K    USGS-WRD   \n",
      "41           NaN                        CST                 K    USGS-WRD   \n",
      "42           NaN                        CST                 K    USGS-WRD   \n",
      "43           NaN                        CST                 K    USGS-WRD   \n",
      "44           NaN                        CST                 K    USGS-WRD   \n",
      "45           NaN                        CST                 K    USGS-WRD   \n",
      "46           NaN                        CST                 K    USGS-WRD   \n",
      "47           NaN                        CST                 K    USGS-WRD   \n",
      "48           NaN                        CST                 K    USGS-WRD   \n",
      "49           NaN                        CST                 K    USGS-WRD   \n",
      "50           NaN                        CST                 K    USGS-WRD   \n",
      "51           NaN                        CST                 K    USGS-WRD   \n",
      "52           NaN                        CST                 K    USGS-WRD   \n",
      "53           NaN                        CST                 K    USGS-WRD   \n",
      "54           NaN                        CST                 K    USGS-WRD   \n",
      "55           NaN                        CST                 K    USGS-WRD   \n",
      "56           NaN                        CST                 K    USGS-WRD   \n",
      "57           NaN                        CST                 K    USGS-WRD   \n",
      "\n",
      "   medium_cd  ... p99206 r99833 p99833 r99834 p99834 r99870    p99870 r99871  \\\n",
      "2         WS  ...  10083    NaN    NaN    NaN    NaN    NaN       NaN    NaN   \n",
      "3         WS  ...  10082    NaN    NaN    NaN    NaN    NaN  20230000    NaN   \n",
      "4         WS  ...  10082    NaN    NaN    NaN    NaN    NaN  20230000    NaN   \n",
      "5         WS  ...  10082    NaN    NaN    NaN    NaN    NaN  20230000    NaN   \n",
      "6         WS  ...    NaN    NaN    NaN    NaN    NaN    NaN  20230000    NaN   \n",
      "7         WS  ...    NaN    NaN    NaN    NaN    NaN    NaN       NaN    NaN   \n",
      "8         WS  ...  10082    NaN    NaN    NaN    NaN    NaN       NaN    NaN   \n",
      "9         WS  ...    NaN    NaN    NaN    NaN    NaN    NaN       NaN    NaN   \n",
      "10        WS  ...  10082    NaN    NaN    NaN    NaN    NaN       NaN    NaN   \n",
      "11        WS  ...  10082    NaN    NaN    NaN    NaN    NaN       NaN    NaN   \n",
      "12        WS  ...  10079    NaN    NaN    NaN    NaN    NaN       NaN    NaN   \n",
      "13        WS  ...  10079    NaN    NaN    NaN    NaN    NaN       NaN    NaN   \n",
      "14        WS  ...    NaN    NaN    NaN    NaN    NaN    NaN       NaN    NaN   \n",
      "15        WS  ...    NaN    NaN    NaN    NaN    NaN    NaN       NaN    NaN   \n",
      "16        WS  ...  10082    NaN    NaN    NaN    NaN    NaN       NaN    NaN   \n",
      "17        WS  ...  10079    NaN   89.8    NaN   82.2    NaN       NaN    NaN   \n",
      "18        WS  ...  10082    NaN    NaN    NaN    NaN    NaN       NaN    NaN   \n",
      "19        WS  ...  10082    NaN    NaN    NaN    NaN    NaN       NaN    NaN   \n",
      "20        WG  ...  10082    NaN    NaN    NaN    NaN    NaN       NaN    NaN   \n",
      "21        WG  ...  10082    NaN    NaN    NaN    NaN    NaN       NaN    NaN   \n",
      "22        WS  ...  10082    NaN    NaN    NaN    NaN    NaN       NaN    NaN   \n",
      "23        SO  ...    NaN    NaN    NaN    NaN    NaN    NaN       NaN    NaN   \n",
      "24        SO  ...    NaN    NaN    NaN    NaN    NaN    NaN       NaN    NaN   \n",
      "25        SO  ...    NaN    NaN    NaN    NaN    NaN    NaN       NaN    NaN   \n",
      "26        SO  ...    NaN    NaN    NaN    NaN    NaN    NaN       NaN    NaN   \n",
      "27        SO  ...    NaN    NaN    NaN    NaN    NaN    NaN       NaN    NaN   \n",
      "28        SO  ...    NaN    NaN    NaN    NaN    NaN    NaN       NaN    NaN   \n",
      "29        SO  ...    NaN    NaN    NaN    NaN    NaN    NaN       NaN    NaN   \n",
      "30        SO  ...    NaN    NaN    NaN    NaN    NaN    NaN       NaN    NaN   \n",
      "31        SO  ...    NaN    NaN    NaN    NaN    NaN    NaN       NaN    NaN   \n",
      "32        SO  ...    NaN    NaN    NaN    NaN    NaN    NaN       NaN    NaN   \n",
      "33        SO  ...    NaN    NaN    NaN    NaN    NaN    NaN       NaN    NaN   \n",
      "34        SO  ...    NaN    NaN    NaN    NaN    NaN    NaN       NaN    NaN   \n",
      "35        SO  ...    NaN    NaN    NaN    NaN    NaN    NaN       NaN    NaN   \n",
      "36        WS  ...    NaN    NaN    NaN    NaN    NaN    NaN       NaN    NaN   \n",
      "37        WS  ...    NaN    NaN    NaN    NaN    NaN    NaN       NaN    NaN   \n",
      "38        WS  ...    NaN    NaN    NaN    NaN    NaN    NaN       NaN    NaN   \n",
      "39        WS  ...    NaN    NaN    NaN    NaN    NaN    NaN       NaN    NaN   \n",
      "40        WS  ...    NaN    NaN    NaN    NaN    NaN    NaN       NaN    NaN   \n",
      "41        WS  ...    NaN    NaN    NaN    NaN    NaN    NaN       NaN    NaN   \n",
      "42        WS  ...    NaN    NaN    NaN    NaN    NaN    NaN       NaN    NaN   \n",
      "43        WS  ...    NaN    NaN    NaN    NaN    NaN    NaN       NaN    NaN   \n",
      "44        WS  ...    NaN    NaN    NaN    NaN    NaN    NaN       NaN    NaN   \n",
      "45        WS  ...    NaN    NaN    NaN    NaN    NaN    NaN       NaN    NaN   \n",
      "46        WS  ...    NaN    NaN    NaN    NaN    NaN    NaN       NaN    NaN   \n",
      "47        WS  ...    NaN    NaN    NaN    NaN    NaN    NaN       NaN    NaN   \n",
      "48        WS  ...    NaN    NaN    NaN    NaN    NaN    NaN       NaN    NaN   \n",
      "49        WG  ...  10082    NaN    NaN    NaN    NaN    NaN       NaN    NaN   \n",
      "50        WG  ...  10082    NaN    NaN    NaN    NaN    NaN       NaN    NaN   \n",
      "51        WS  ...  10082    NaN    NaN    NaN    NaN    NaN       NaN    NaN   \n",
      "52        WS  ...  10079    NaN    NaN    NaN    NaN    NaN       NaN    NaN   \n",
      "53        WG  ...  10082    NaN    NaN    NaN    NaN    NaN       NaN    NaN   \n",
      "54        WS  ...  10079    NaN    NaN    NaN    NaN    NaN       NaN    NaN   \n",
      "55        WS  ...  10079    NaN    NaN    NaN    NaN    NaN       NaN    NaN   \n",
      "56        SO  ...    NaN    NaN    NaN    NaN    NaN    NaN       NaN    NaN   \n",
      "57        WS  ...    NaN    NaN    NaN    NaN    NaN    NaN       NaN    NaN   \n",
      "\n",
      "   p99871            DateTime  \n",
      "2     NaN 2023-01-23 10:00:00  \n",
      "3     NaN 2023-01-24 09:30:00  \n",
      "4     NaN 2023-01-10 09:15:00  \n",
      "5     NaN 2023-01-23 10:45:00  \n",
      "6     NaN 2023-01-12 08:30:00  \n",
      "7     NaN 2023-01-09 12:00:00  \n",
      "8     NaN 2023-01-09 12:45:00  \n",
      "9     NaN 2023-01-26 11:30:00  \n",
      "10    NaN 2023-01-26 12:00:00  \n",
      "11    NaN 2023-01-30 13:45:00  \n",
      "12    NaN 2023-01-10 11:30:00  \n",
      "13    NaN 2023-01-09 10:30:00  \n",
      "14    NaN 2023-01-30 17:00:00  \n",
      "15    NaN 2023-01-30 13:00:00  \n",
      "16    NaN 2023-01-17 09:50:00  \n",
      "17    0.0 2023-01-12 10:00:00  \n",
      "18    NaN 2023-01-10 10:00:00  \n",
      "19    NaN 2023-01-10 10:30:00  \n",
      "20    NaN 2023-01-12 12:00:00  \n",
      "21    NaN 2023-01-18 10:00:00  \n",
      "22    NaN 2023-01-10 10:00:00  \n",
      "23    NaN                 NaT  \n",
      "24    NaN                 NaT  \n",
      "25    NaN                 NaT  \n",
      "26    NaN                 NaT  \n",
      "27    NaN                 NaT  \n",
      "28    NaN                 NaT  \n",
      "29    NaN                 NaT  \n",
      "30    NaN                 NaT  \n",
      "31    NaN                 NaT  \n",
      "32    NaN                 NaT  \n",
      "33    NaN                 NaT  \n",
      "34    NaN                 NaT  \n",
      "35    NaN                 NaT  \n",
      "36    NaN 2023-01-14 19:12:00  \n",
      "37    NaN 2023-01-17 13:30:00  \n",
      "38    NaN 2023-01-17 13:37:00  \n",
      "39    NaN 2023-01-17 13:44:00  \n",
      "40    NaN 2023-01-17 13:45:00  \n",
      "41    NaN 2023-01-17 13:52:00  \n",
      "42    NaN 2023-01-17 14:00:00  \n",
      "43    NaN 2023-01-24 15:50:00  \n",
      "44    NaN 2023-01-24 15:55:00  \n",
      "45    NaN 2023-01-24 16:00:00  \n",
      "46    NaN 2023-01-24 16:01:00  \n",
      "47    NaN 2023-01-24 16:05:00  \n",
      "48    NaN 2023-01-24 16:10:00  \n",
      "49    NaN 2023-01-09 11:30:00  \n",
      "50    NaN 2023-01-11 11:00:00  \n",
      "51    NaN 2023-01-19 09:30:00  \n",
      "52    NaN 2023-01-10 10:20:00  \n",
      "53    NaN 2023-01-19 11:00:00  \n",
      "54    NaN 2023-01-09 11:50:00  \n",
      "55    NaN 2023-01-11 11:40:00  \n",
      "56    NaN                 NaT  \n",
      "57    NaN 2023-01-30 12:30:00  \n",
      "\n",
      "[56 rows x 749 columns]\n"
     ]
    }
   ],
   "source": [
    "DateTime = usgsWQdata[\"sample_dt\"] + \" \" + usgsWQdata[\"sample_tm\"]\n",
    "DateTime = pd.to_datetime(DateTime, format='%Y-%m-%d %H:%M')\n",
    "usgsWQdata[\"DateTime\"] = DateTime\n",
    "\n",
    "print(usgsWQdata)"
   ]
  },
  {
   "cell_type": "code",
   "execution_count": 13,
   "id": "3a56dd13-cf37-40c8-8969-c5871d82dd14",
   "metadata": {},
   "outputs": [
    {
     "name": "stdout",
     "output_type": "stream",
     "text": [
      "   agency_cd          site_no sample_start_time_datum_cd r00003 p00003 r00004  \\\n",
      "2       USGS         08057200                        CST    NaN    NaN    NaN   \n",
      "3       USGS         08068500                        CST    NaN    NaN    NaN   \n",
      "4       USGS         08069500                        CST    NaN    NaN    NaN   \n",
      "5       USGS         08069500                        CST    NaN    NaN    NaN   \n",
      "6       USGS         08070200                        CST    NaN    NaN    NaN   \n",
      "7       USGS         08072050                        CST    NaN    NaN    NaN   \n",
      "8       USGS         08072050                        CST    NaN    NaN    NaN   \n",
      "9       USGS         08072050                        CST    NaN    NaN    NaN   \n",
      "10      USGS         08072050                        CST    NaN    NaN    NaN   \n",
      "11      USGS         08072050                        CST    NaN    NaN    NaN   \n",
      "12      USGS         08084000                        CST    NaN    NaN    NaN   \n",
      "13      USGS         08085500                        CST    NaN    NaN    NaN   \n",
      "14      USGS         08104500                        CST    NaN    NaN    NaN   \n",
      "15      USGS         08106500                        CST    NaN    NaN    NaN   \n",
      "16      USGS         08116650                        CST    NaN    NaN    NaN   \n",
      "17      USGS         08155500                        CST    NaN    NaN    NaN   \n",
      "18      USGS         08195000                        CST    NaN    NaN    NaN   \n",
      "19      USGS         08195000                        CST    NaN    NaN    NaN   \n",
      "20      USGS  292618099165901                        CST    NaN    200    NaN   \n",
      "21      USGS  293516098325501                        CST    NaN    255    NaN   \n",
      "22      USGS         08057410                        CST    NaN    NaN    NaN   \n",
      "23      USGS  292458094534206                        CST    NaN    NaN    NaN   \n",
      "24      USGS  294206095162601                        CST    NaN    NaN    NaN   \n",
      "25      USGS  294237095093204                        CST    NaN    NaN    NaN   \n",
      "26      USGS  293352095011601                        CST    NaN    NaN    NaN   \n",
      "27      USGS  293306095054101                        CST    NaN    NaN    NaN   \n",
      "28      USGS  293349095070901                        CST    NaN    NaN    NaN   \n",
      "29      USGS  293348095070604                        CST    NaN    NaN    NaN   \n",
      "30      USGS  294527095014911                        CST    NaN    NaN    NaN   \n",
      "31      USGS  294726095351102                        CST    NaN    NaN    NaN   \n",
      "32      USGS  294527095014910                        CST    NaN    NaN    NaN   \n",
      "33      USGS  294338095270402                        CST    NaN    NaN    NaN   \n",
      "34      USGS  295449095084105                        CST    NaN    NaN    NaN   \n",
      "35      USGS  294728095200106                        CST    NaN    NaN    NaN   \n",
      "36      USGS         08074710                        CST    NaN    NaN    NaN   \n",
      "37      USGS         08074710                        CST    NaN   1.00    NaN   \n",
      "38      USGS         08074710                        CST    NaN   1.00    NaN   \n",
      "39      USGS         08074710                        CST    NaN    NaN    NaN   \n",
      "40      USGS         08074710                        CST    NaN   1.00    NaN   \n",
      "41      USGS         08074710                        CST    NaN   1.00    NaN   \n",
      "42      USGS         08074710                        CST    NaN   1.00    NaN   \n",
      "43      USGS         08074710                        CST    NaN   1.00    NaN   \n",
      "44      USGS         08074710                        CST    NaN   1.00    NaN   \n",
      "45      USGS         08074710                        CST    NaN   1.00    NaN   \n",
      "46      USGS         08074710                        CST    NaN    NaN    NaN   \n",
      "47      USGS         08074710                        CST    NaN   1.00    NaN   \n",
      "48      USGS         08074710                        CST    NaN   1.00    NaN   \n",
      "49      USGS  293252098380801                        CST    NaN    220    NaN   \n",
      "50      USGS  293559098284801                        CST    NaN    200    NaN   \n",
      "51      USGS  294300098080001                        CST    NaN    NaN    NaN   \n",
      "52      USGS         08084100                        CST    NaN    NaN    NaN   \n",
      "53      USGS  292943098354404                        CST    NaN    210    NaN   \n",
      "54      USGS         08084200                        CST    NaN    NaN    NaN   \n",
      "55      USGS         08084300                        CST    NaN    NaN    NaN   \n",
      "56      USGS  294327095445201                        CST    NaN    NaN    NaN   \n",
      "57      USGS         08067250                        CST    NaN    NaN    NaN   \n",
      "\n",
      "   p00004 r00009 p00009 r00010  ... p99206 r99833 p99833 r99834 p99834 r99870  \\\n",
      "2    24.0    NaN    NaN    NaN  ...  10083    NaN    NaN    NaN    NaN    NaN   \n",
      "3    80.0    NaN    NaN    NaN  ...  10082    NaN    NaN    NaN    NaN    NaN   \n",
      "4     400    NaN    NaN    NaN  ...  10082    NaN    NaN    NaN    NaN    NaN   \n",
      "5     NaN    NaN    NaN    NaN  ...  10082    NaN    NaN    NaN    NaN    NaN   \n",
      "6    60.0    NaN    NaN    NaN  ...    NaN    NaN    NaN    NaN    NaN    NaN   \n",
      "7     NaN    NaN    NaN    NaN  ...    NaN    NaN    NaN    NaN    NaN    NaN   \n",
      "8     NaN    NaN    NaN    NaN  ...  10082    NaN    NaN    NaN    NaN    NaN   \n",
      "9     NaN    NaN    NaN    NaN  ...    NaN    NaN    NaN    NaN    NaN    NaN   \n",
      "10    506    NaN    NaN    NaN  ...  10082    NaN    NaN    NaN    NaN    NaN   \n",
      "11    525    NaN    NaN    NaN  ...  10082    NaN    NaN    NaN    NaN    NaN   \n",
      "12   15.0    NaN    NaN    NaN  ...  10079    NaN    NaN    NaN    NaN    NaN   \n",
      "13   21.0    NaN    NaN    NaN  ...  10079    NaN    NaN    NaN    NaN    NaN   \n",
      "14   35.8    NaN    NaN    NaN  ...    NaN    NaN    NaN    NaN    NaN    NaN   \n",
      "15   73.0    NaN    NaN    NaN  ...    NaN    NaN    NaN    NaN    NaN    NaN   \n",
      "16    160    NaN    NaN    NaN  ...  10082    NaN    NaN    NaN    NaN    NaN   \n",
      "17    NaN    NaN    NaN    NaN  ...  10079    NaN   89.8    NaN   82.2    NaN   \n",
      "18   73.0    NaN    NaN    NaN  ...  10082    NaN    NaN    NaN    NaN    NaN   \n",
      "19   73.0    NaN    NaN    NaN  ...  10082    NaN    NaN    NaN    NaN    NaN   \n",
      "20    NaN    NaN    NaN    NaN  ...  10082    NaN    NaN    NaN    NaN    NaN   \n",
      "21    NaN    NaN    NaN    NaN  ...  10082    NaN    NaN    NaN    NaN    NaN   \n",
      "22   39.0    NaN    NaN    NaN  ...  10082    NaN    NaN    NaN    NaN    NaN   \n",
      "23    NaN    NaN    NaN    NaN  ...    NaN    NaN    NaN    NaN    NaN    NaN   \n",
      "24    NaN    NaN    NaN    NaN  ...    NaN    NaN    NaN    NaN    NaN    NaN   \n",
      "25    NaN    NaN    NaN    NaN  ...    NaN    NaN    NaN    NaN    NaN    NaN   \n",
      "26    NaN    NaN    NaN    NaN  ...    NaN    NaN    NaN    NaN    NaN    NaN   \n",
      "27    NaN    NaN    NaN    NaN  ...    NaN    NaN    NaN    NaN    NaN    NaN   \n",
      "28    NaN    NaN    NaN    NaN  ...    NaN    NaN    NaN    NaN    NaN    NaN   \n",
      "29    NaN    NaN    NaN    NaN  ...    NaN    NaN    NaN    NaN    NaN    NaN   \n",
      "30    NaN    NaN    NaN    NaN  ...    NaN    NaN    NaN    NaN    NaN    NaN   \n",
      "31    NaN    NaN    NaN    NaN  ...    NaN    NaN    NaN    NaN    NaN    NaN   \n",
      "32    NaN    NaN    NaN    NaN  ...    NaN    NaN    NaN    NaN    NaN    NaN   \n",
      "33    NaN    NaN    NaN    NaN  ...    NaN    NaN    NaN    NaN    NaN    NaN   \n",
      "34    NaN    NaN    NaN    NaN  ...    NaN    NaN    NaN    NaN    NaN    NaN   \n",
      "35    NaN    NaN    NaN    NaN  ...    NaN    NaN    NaN    NaN    NaN    NaN   \n",
      "36    462    NaN    NaN    NaN  ...    NaN    NaN    NaN    NaN    NaN    NaN   \n",
      "37    462    NaN   45.0    NaN  ...    NaN    NaN    NaN    NaN    NaN    NaN   \n",
      "38    462    NaN    135    NaN  ...    NaN    NaN    NaN    NaN    NaN    NaN   \n",
      "39    462    NaN    NaN    NaN  ...    NaN    NaN    NaN    NaN    NaN    NaN   \n",
      "40    NaN    NaN    225    NaN  ...    NaN    NaN    NaN    NaN    NaN    NaN   \n",
      "41    NaN    NaN    315    NaN  ...    NaN    NaN    NaN    NaN    NaN    NaN   \n",
      "42    NaN    NaN    405    NaN  ...    NaN    NaN    NaN    NaN    NaN    NaN   \n",
      "43    NaN    NaN   49.0    NaN  ...    NaN    NaN    NaN    NaN    NaN    NaN   \n",
      "44    NaN    NaN    148    NaN  ...    NaN    NaN    NaN    NaN    NaN    NaN   \n",
      "45    NaN    NaN    247    NaN  ...    NaN    NaN    NaN    NaN    NaN    NaN   \n",
      "46    NaN    NaN    NaN    NaN  ...    NaN    NaN    NaN    NaN    NaN    NaN   \n",
      "47    NaN    NaN    346    NaN  ...    NaN    NaN    NaN    NaN    NaN    NaN   \n",
      "48    NaN    NaN    445    NaN  ...    NaN    NaN    NaN    NaN    NaN    NaN   \n",
      "49    NaN    NaN    NaN    NaN  ...  10082    NaN    NaN    NaN    NaN    NaN   \n",
      "50    NaN    NaN    NaN    NaN  ...  10082    NaN    NaN    NaN    NaN    NaN   \n",
      "51    NaN    NaN    NaN    NaN  ...  10082    NaN    NaN    NaN    NaN    NaN   \n",
      "52   18.0    NaN    NaN    NaN  ...  10079    NaN    NaN    NaN    NaN    NaN   \n",
      "53    NaN    NaN    NaN    NaN  ...  10082    NaN    NaN    NaN    NaN    NaN   \n",
      "54   9.00    NaN    NaN    NaN  ...  10079    NaN    NaN    NaN    NaN    NaN   \n",
      "55   13.0    NaN    NaN    NaN  ...  10079    NaN    NaN    NaN    NaN    NaN   \n",
      "56    NaN    NaN    NaN    NaN  ...    NaN    NaN    NaN    NaN    NaN    NaN   \n",
      "57    NaN    NaN    NaN    NaN  ...    NaN    NaN    NaN    NaN    NaN    NaN   \n",
      "\n",
      "      p99870 r99871 p99871            DateTime  \n",
      "2        NaN    NaN    NaN 2023-01-23 10:00:00  \n",
      "3   20230000    NaN    NaN 2023-01-24 09:30:00  \n",
      "4   20230000    NaN    NaN 2023-01-10 09:15:00  \n",
      "5   20230000    NaN    NaN 2023-01-23 10:45:00  \n",
      "6   20230000    NaN    NaN 2023-01-12 08:30:00  \n",
      "7        NaN    NaN    NaN 2023-01-09 12:00:00  \n",
      "8        NaN    NaN    NaN 2023-01-09 12:45:00  \n",
      "9        NaN    NaN    NaN 2023-01-26 11:30:00  \n",
      "10       NaN    NaN    NaN 2023-01-26 12:00:00  \n",
      "11       NaN    NaN    NaN 2023-01-30 13:45:00  \n",
      "12       NaN    NaN    NaN 2023-01-10 11:30:00  \n",
      "13       NaN    NaN    NaN 2023-01-09 10:30:00  \n",
      "14       NaN    NaN    NaN 2023-01-30 17:00:00  \n",
      "15       NaN    NaN    NaN 2023-01-30 13:00:00  \n",
      "16       NaN    NaN    NaN 2023-01-17 09:50:00  \n",
      "17       NaN    NaN    0.0 2023-01-12 10:00:00  \n",
      "18       NaN    NaN    NaN 2023-01-10 10:00:00  \n",
      "19       NaN    NaN    NaN 2023-01-10 10:30:00  \n",
      "20       NaN    NaN    NaN 2023-01-12 12:00:00  \n",
      "21       NaN    NaN    NaN 2023-01-18 10:00:00  \n",
      "22       NaN    NaN    NaN 2023-01-10 10:00:00  \n",
      "23       NaN    NaN    NaN                 NaT  \n",
      "24       NaN    NaN    NaN                 NaT  \n",
      "25       NaN    NaN    NaN                 NaT  \n",
      "26       NaN    NaN    NaN                 NaT  \n",
      "27       NaN    NaN    NaN                 NaT  \n",
      "28       NaN    NaN    NaN                 NaT  \n",
      "29       NaN    NaN    NaN                 NaT  \n",
      "30       NaN    NaN    NaN                 NaT  \n",
      "31       NaN    NaN    NaN                 NaT  \n",
      "32       NaN    NaN    NaN                 NaT  \n",
      "33       NaN    NaN    NaN                 NaT  \n",
      "34       NaN    NaN    NaN                 NaT  \n",
      "35       NaN    NaN    NaN                 NaT  \n",
      "36       NaN    NaN    NaN 2023-01-14 19:12:00  \n",
      "37       NaN    NaN    NaN 2023-01-17 13:30:00  \n",
      "38       NaN    NaN    NaN 2023-01-17 13:37:00  \n",
      "39       NaN    NaN    NaN 2023-01-17 13:44:00  \n",
      "40       NaN    NaN    NaN 2023-01-17 13:45:00  \n",
      "41       NaN    NaN    NaN 2023-01-17 13:52:00  \n",
      "42       NaN    NaN    NaN 2023-01-17 14:00:00  \n",
      "43       NaN    NaN    NaN 2023-01-24 15:50:00  \n",
      "44       NaN    NaN    NaN 2023-01-24 15:55:00  \n",
      "45       NaN    NaN    NaN 2023-01-24 16:00:00  \n",
      "46       NaN    NaN    NaN 2023-01-24 16:01:00  \n",
      "47       NaN    NaN    NaN 2023-01-24 16:05:00  \n",
      "48       NaN    NaN    NaN 2023-01-24 16:10:00  \n",
      "49       NaN    NaN    NaN 2023-01-09 11:30:00  \n",
      "50       NaN    NaN    NaN 2023-01-11 11:00:00  \n",
      "51       NaN    NaN    NaN 2023-01-19 09:30:00  \n",
      "52       NaN    NaN    NaN 2023-01-10 10:20:00  \n",
      "53       NaN    NaN    NaN 2023-01-19 11:00:00  \n",
      "54       NaN    NaN    NaN 2023-01-09 11:50:00  \n",
      "55       NaN    NaN    NaN 2023-01-11 11:40:00  \n",
      "56       NaN    NaN    NaN                 NaT  \n",
      "57       NaN    NaN    NaN 2023-01-30 12:30:00  \n",
      "\n",
      "[56 rows x 740 columns]\n"
     ]
    }
   ],
   "source": [
    "usgsWQdata.drop(columns=['sample_dt','sample_tm','sample_end_dt','sample_end_tm','medium_cd','tm_datum_rlbty_cd','body_part_id','tu_id','coll_ent_cd'], inplace=True)\n",
    "print(usgsWQdata)"
   ]
  },
  {
   "cell_type": "code",
   "execution_count": 14,
   "id": "d6ff13e5-46d9-4cae-89b3-a55c7136033b",
   "metadata": {},
   "outputs": [
    {
     "data": {
      "text/plain": [
       "Index(['agency_cd', 'site_no', 'sample_start_time_datum_cd', 'r00003',\n",
       "       'p00003', 'r00004', 'p00004', 'r00009', 'p00009', 'r00010',\n",
       "       ...\n",
       "       'p99206', 'r99833', 'p99833', 'r99834', 'p99834', 'r99870', 'p99870',\n",
       "       'r99871', 'p99871', 'DateTime'],\n",
       "      dtype='object', length=740)"
      ]
     },
     "execution_count": 14,
     "metadata": {},
     "output_type": "execute_result"
    }
   ],
   "source": [
    "usgsWQdata.columns"
   ]
  },
  {
   "cell_type": "code",
   "execution_count": 15,
   "id": "71d64d27-83b5-4d0c-a42a-df59ad459381",
   "metadata": {},
   "outputs": [
    {
     "name": "stdout",
     "output_type": "stream",
     "text": [
      "              DateTime sample_start_time_datum_cd agency_cd          site_no  \\\n",
      "2  2023-01-23 10:00:00                        CST      USGS         08057200   \n",
      "3  2023-01-24 09:30:00                        CST      USGS         08068500   \n",
      "4  2023-01-10 09:15:00                        CST      USGS         08069500   \n",
      "5  2023-01-23 10:45:00                        CST      USGS         08069500   \n",
      "6  2023-01-12 08:30:00                        CST      USGS         08070200   \n",
      "7  2023-01-09 12:00:00                        CST      USGS         08072050   \n",
      "8  2023-01-09 12:45:00                        CST      USGS         08072050   \n",
      "9  2023-01-26 11:30:00                        CST      USGS         08072050   \n",
      "10 2023-01-26 12:00:00                        CST      USGS         08072050   \n",
      "11 2023-01-30 13:45:00                        CST      USGS         08072050   \n",
      "12 2023-01-10 11:30:00                        CST      USGS         08084000   \n",
      "13 2023-01-09 10:30:00                        CST      USGS         08085500   \n",
      "14 2023-01-30 17:00:00                        CST      USGS         08104500   \n",
      "15 2023-01-30 13:00:00                        CST      USGS         08106500   \n",
      "16 2023-01-17 09:50:00                        CST      USGS         08116650   \n",
      "17 2023-01-12 10:00:00                        CST      USGS         08155500   \n",
      "18 2023-01-10 10:00:00                        CST      USGS         08195000   \n",
      "19 2023-01-10 10:30:00                        CST      USGS         08195000   \n",
      "20 2023-01-12 12:00:00                        CST      USGS  292618099165901   \n",
      "21 2023-01-18 10:00:00                        CST      USGS  293516098325501   \n",
      "22 2023-01-10 10:00:00                        CST      USGS         08057410   \n",
      "23                 NaT                        CST      USGS  292458094534206   \n",
      "24                 NaT                        CST      USGS  294206095162601   \n",
      "25                 NaT                        CST      USGS  294237095093204   \n",
      "26                 NaT                        CST      USGS  293352095011601   \n",
      "27                 NaT                        CST      USGS  293306095054101   \n",
      "28                 NaT                        CST      USGS  293349095070901   \n",
      "29                 NaT                        CST      USGS  293348095070604   \n",
      "30                 NaT                        CST      USGS  294527095014911   \n",
      "31                 NaT                        CST      USGS  294726095351102   \n",
      "32                 NaT                        CST      USGS  294527095014910   \n",
      "33                 NaT                        CST      USGS  294338095270402   \n",
      "34                 NaT                        CST      USGS  295449095084105   \n",
      "35                 NaT                        CST      USGS  294728095200106   \n",
      "36 2023-01-14 19:12:00                        CST      USGS         08074710   \n",
      "37 2023-01-17 13:30:00                        CST      USGS         08074710   \n",
      "38 2023-01-17 13:37:00                        CST      USGS         08074710   \n",
      "39 2023-01-17 13:44:00                        CST      USGS         08074710   \n",
      "40 2023-01-17 13:45:00                        CST      USGS         08074710   \n",
      "41 2023-01-17 13:52:00                        CST      USGS         08074710   \n",
      "42 2023-01-17 14:00:00                        CST      USGS         08074710   \n",
      "43 2023-01-24 15:50:00                        CST      USGS         08074710   \n",
      "44 2023-01-24 15:55:00                        CST      USGS         08074710   \n",
      "45 2023-01-24 16:00:00                        CST      USGS         08074710   \n",
      "46 2023-01-24 16:01:00                        CST      USGS         08074710   \n",
      "47 2023-01-24 16:05:00                        CST      USGS         08074710   \n",
      "48 2023-01-24 16:10:00                        CST      USGS         08074710   \n",
      "49 2023-01-09 11:30:00                        CST      USGS  293252098380801   \n",
      "50 2023-01-11 11:00:00                        CST      USGS  293559098284801   \n",
      "51 2023-01-19 09:30:00                        CST      USGS  294300098080001   \n",
      "52 2023-01-10 10:20:00                        CST      USGS         08084100   \n",
      "53 2023-01-19 11:00:00                        CST      USGS  292943098354404   \n",
      "54 2023-01-09 11:50:00                        CST      USGS         08084200   \n",
      "55 2023-01-11 11:40:00                        CST      USGS         08084300   \n",
      "56                 NaT                        CST      USGS  294327095445201   \n",
      "57 2023-01-30 12:30:00                        CST      USGS         08067250   \n",
      "\n",
      "   r00003 p00003 r00004 p00004 r00009 p00009  ... p99206 r99833 p99833 r99834  \\\n",
      "2     NaN    NaN    NaN   24.0    NaN    NaN  ...  10083    NaN    NaN    NaN   \n",
      "3     NaN    NaN    NaN   80.0    NaN    NaN  ...  10082    NaN    NaN    NaN   \n",
      "4     NaN    NaN    NaN    400    NaN    NaN  ...  10082    NaN    NaN    NaN   \n",
      "5     NaN    NaN    NaN    NaN    NaN    NaN  ...  10082    NaN    NaN    NaN   \n",
      "6     NaN    NaN    NaN   60.0    NaN    NaN  ...    NaN    NaN    NaN    NaN   \n",
      "7     NaN    NaN    NaN    NaN    NaN    NaN  ...    NaN    NaN    NaN    NaN   \n",
      "8     NaN    NaN    NaN    NaN    NaN    NaN  ...  10082    NaN    NaN    NaN   \n",
      "9     NaN    NaN    NaN    NaN    NaN    NaN  ...    NaN    NaN    NaN    NaN   \n",
      "10    NaN    NaN    NaN    506    NaN    NaN  ...  10082    NaN    NaN    NaN   \n",
      "11    NaN    NaN    NaN    525    NaN    NaN  ...  10082    NaN    NaN    NaN   \n",
      "12    NaN    NaN    NaN   15.0    NaN    NaN  ...  10079    NaN    NaN    NaN   \n",
      "13    NaN    NaN    NaN   21.0    NaN    NaN  ...  10079    NaN    NaN    NaN   \n",
      "14    NaN    NaN    NaN   35.8    NaN    NaN  ...    NaN    NaN    NaN    NaN   \n",
      "15    NaN    NaN    NaN   73.0    NaN    NaN  ...    NaN    NaN    NaN    NaN   \n",
      "16    NaN    NaN    NaN    160    NaN    NaN  ...  10082    NaN    NaN    NaN   \n",
      "17    NaN    NaN    NaN    NaN    NaN    NaN  ...  10079    NaN   89.8    NaN   \n",
      "18    NaN    NaN    NaN   73.0    NaN    NaN  ...  10082    NaN    NaN    NaN   \n",
      "19    NaN    NaN    NaN   73.0    NaN    NaN  ...  10082    NaN    NaN    NaN   \n",
      "20    NaN    200    NaN    NaN    NaN    NaN  ...  10082    NaN    NaN    NaN   \n",
      "21    NaN    255    NaN    NaN    NaN    NaN  ...  10082    NaN    NaN    NaN   \n",
      "22    NaN    NaN    NaN   39.0    NaN    NaN  ...  10082    NaN    NaN    NaN   \n",
      "23    NaN    NaN    NaN    NaN    NaN    NaN  ...    NaN    NaN    NaN    NaN   \n",
      "24    NaN    NaN    NaN    NaN    NaN    NaN  ...    NaN    NaN    NaN    NaN   \n",
      "25    NaN    NaN    NaN    NaN    NaN    NaN  ...    NaN    NaN    NaN    NaN   \n",
      "26    NaN    NaN    NaN    NaN    NaN    NaN  ...    NaN    NaN    NaN    NaN   \n",
      "27    NaN    NaN    NaN    NaN    NaN    NaN  ...    NaN    NaN    NaN    NaN   \n",
      "28    NaN    NaN    NaN    NaN    NaN    NaN  ...    NaN    NaN    NaN    NaN   \n",
      "29    NaN    NaN    NaN    NaN    NaN    NaN  ...    NaN    NaN    NaN    NaN   \n",
      "30    NaN    NaN    NaN    NaN    NaN    NaN  ...    NaN    NaN    NaN    NaN   \n",
      "31    NaN    NaN    NaN    NaN    NaN    NaN  ...    NaN    NaN    NaN    NaN   \n",
      "32    NaN    NaN    NaN    NaN    NaN    NaN  ...    NaN    NaN    NaN    NaN   \n",
      "33    NaN    NaN    NaN    NaN    NaN    NaN  ...    NaN    NaN    NaN    NaN   \n",
      "34    NaN    NaN    NaN    NaN    NaN    NaN  ...    NaN    NaN    NaN    NaN   \n",
      "35    NaN    NaN    NaN    NaN    NaN    NaN  ...    NaN    NaN    NaN    NaN   \n",
      "36    NaN    NaN    NaN    462    NaN    NaN  ...    NaN    NaN    NaN    NaN   \n",
      "37    NaN   1.00    NaN    462    NaN   45.0  ...    NaN    NaN    NaN    NaN   \n",
      "38    NaN   1.00    NaN    462    NaN    135  ...    NaN    NaN    NaN    NaN   \n",
      "39    NaN    NaN    NaN    462    NaN    NaN  ...    NaN    NaN    NaN    NaN   \n",
      "40    NaN   1.00    NaN    NaN    NaN    225  ...    NaN    NaN    NaN    NaN   \n",
      "41    NaN   1.00    NaN    NaN    NaN    315  ...    NaN    NaN    NaN    NaN   \n",
      "42    NaN   1.00    NaN    NaN    NaN    405  ...    NaN    NaN    NaN    NaN   \n",
      "43    NaN   1.00    NaN    NaN    NaN   49.0  ...    NaN    NaN    NaN    NaN   \n",
      "44    NaN   1.00    NaN    NaN    NaN    148  ...    NaN    NaN    NaN    NaN   \n",
      "45    NaN   1.00    NaN    NaN    NaN    247  ...    NaN    NaN    NaN    NaN   \n",
      "46    NaN    NaN    NaN    NaN    NaN    NaN  ...    NaN    NaN    NaN    NaN   \n",
      "47    NaN   1.00    NaN    NaN    NaN    346  ...    NaN    NaN    NaN    NaN   \n",
      "48    NaN   1.00    NaN    NaN    NaN    445  ...    NaN    NaN    NaN    NaN   \n",
      "49    NaN    220    NaN    NaN    NaN    NaN  ...  10082    NaN    NaN    NaN   \n",
      "50    NaN    200    NaN    NaN    NaN    NaN  ...  10082    NaN    NaN    NaN   \n",
      "51    NaN    NaN    NaN    NaN    NaN    NaN  ...  10082    NaN    NaN    NaN   \n",
      "52    NaN    NaN    NaN   18.0    NaN    NaN  ...  10079    NaN    NaN    NaN   \n",
      "53    NaN    210    NaN    NaN    NaN    NaN  ...  10082    NaN    NaN    NaN   \n",
      "54    NaN    NaN    NaN   9.00    NaN    NaN  ...  10079    NaN    NaN    NaN   \n",
      "55    NaN    NaN    NaN   13.0    NaN    NaN  ...  10079    NaN    NaN    NaN   \n",
      "56    NaN    NaN    NaN    NaN    NaN    NaN  ...    NaN    NaN    NaN    NaN   \n",
      "57    NaN    NaN    NaN    NaN    NaN    NaN  ...    NaN    NaN    NaN    NaN   \n",
      "\n",
      "   p99834 r99870    p99870 r99871 p99871 p00600  \n",
      "2     NaN    NaN       NaN    NaN    NaN    2.3  \n",
      "3     NaN    NaN  20230000    NaN    NaN    6.4  \n",
      "4     NaN    NaN  20230000    NaN    NaN    1.9  \n",
      "5     NaN    NaN  20230000    NaN    NaN    5.8  \n",
      "6     NaN    NaN  20230000    NaN    NaN   0.94  \n",
      "7     NaN    NaN       NaN    NaN    NaN    NaN  \n",
      "8     NaN    NaN       NaN    NaN    NaN    1.9  \n",
      "9     NaN    NaN       NaN    NaN    NaN    NaN  \n",
      "10    NaN    NaN       NaN    NaN    NaN    2.0  \n",
      "11    NaN    NaN       NaN    NaN    NaN    1.3  \n",
      "12    NaN    NaN       NaN    NaN    NaN    NaN  \n",
      "13    NaN    NaN       NaN    NaN    NaN    NaN  \n",
      "14    NaN    NaN       NaN    NaN    NaN    NaN  \n",
      "15    NaN    NaN       NaN    NaN    NaN    NaN  \n",
      "16    NaN    NaN       NaN    NaN    NaN    1.5  \n",
      "17   82.2    NaN       NaN    NaN    0.0    1.7  \n",
      "18    NaN    NaN       NaN    NaN    NaN    NaN  \n",
      "19    NaN    NaN       NaN    NaN    NaN   0.12  \n",
      "20    NaN    NaN       NaN    NaN    NaN    1.1  \n",
      "21    NaN    NaN       NaN    NaN    NaN    2.2  \n",
      "22    NaN    NaN       NaN    NaN    NaN    9.7  \n",
      "23    NaN    NaN       NaN    NaN    NaN    NaN  \n",
      "24    NaN    NaN       NaN    NaN    NaN    NaN  \n",
      "25    NaN    NaN       NaN    NaN    NaN    NaN  \n",
      "26    NaN    NaN       NaN    NaN    NaN    NaN  \n",
      "27    NaN    NaN       NaN    NaN    NaN    NaN  \n",
      "28    NaN    NaN       NaN    NaN    NaN    NaN  \n",
      "29    NaN    NaN       NaN    NaN    NaN    NaN  \n",
      "30    NaN    NaN       NaN    NaN    NaN    NaN  \n",
      "31    NaN    NaN       NaN    NaN    NaN    NaN  \n",
      "32    NaN    NaN       NaN    NaN    NaN    NaN  \n",
      "33    NaN    NaN       NaN    NaN    NaN    NaN  \n",
      "34    NaN    NaN       NaN    NaN    NaN    NaN  \n",
      "35    NaN    NaN       NaN    NaN    NaN    NaN  \n",
      "36    NaN    NaN       NaN    NaN    NaN    NaN  \n",
      "37    NaN    NaN       NaN    NaN    NaN    NaN  \n",
      "38    NaN    NaN       NaN    NaN    NaN    NaN  \n",
      "39    NaN    NaN       NaN    NaN    NaN    NaN  \n",
      "40    NaN    NaN       NaN    NaN    NaN    NaN  \n",
      "41    NaN    NaN       NaN    NaN    NaN    NaN  \n",
      "42    NaN    NaN       NaN    NaN    NaN    NaN  \n",
      "43    NaN    NaN       NaN    NaN    NaN    NaN  \n",
      "44    NaN    NaN       NaN    NaN    NaN    NaN  \n",
      "45    NaN    NaN       NaN    NaN    NaN    NaN  \n",
      "46    NaN    NaN       NaN    NaN    NaN    NaN  \n",
      "47    NaN    NaN       NaN    NaN    NaN    NaN  \n",
      "48    NaN    NaN       NaN    NaN    NaN    NaN  \n",
      "49    NaN    NaN       NaN    NaN    NaN    3.6  \n",
      "50    NaN    NaN       NaN    NaN    NaN    1.5  \n",
      "51    NaN    NaN       NaN    NaN    NaN    2.0  \n",
      "52    NaN    NaN       NaN    NaN    NaN    NaN  \n",
      "53    NaN    NaN       NaN    NaN    NaN    2.1  \n",
      "54    NaN    NaN       NaN    NaN    NaN    NaN  \n",
      "55    NaN    NaN       NaN    NaN    NaN    NaN  \n",
      "56    NaN    NaN       NaN    NaN    NaN    NaN  \n",
      "57    NaN    NaN       NaN    NaN    NaN    NaN  \n",
      "\n",
      "[56 rows x 21 columns]\n"
     ]
    }
   ],
   "source": [
    "usgsWQdata = usgsWQdata[['DateTime', 'sample_start_time_datum_cd', 'agency_cd', 'site_no', 'r00003',\n",
    "       'p00003', 'r00004', 'p00004', 'r00009', 'p00009', 'r00010','p99206', 'r99833', 'p99833', 'r99834', 'p99834', 'r99870', 'p99870',\n",
    "       'r99871', 'p99871','p00600']]\n",
    "print(usgsWQdata)"
   ]
  },
  {
   "cell_type": "code",
   "execution_count": 16,
   "id": "8a588a85-abc5-42fc-9ddc-ca8d415c0052",
   "metadata": {},
   "outputs": [
    {
     "name": "stdout",
     "output_type": "stream",
     "text": [
      "              DateTime p00600\n",
      "2  2023-01-23 10:00:00    2.3\n",
      "3  2023-01-24 09:30:00    6.4\n",
      "4  2023-01-10 09:15:00    1.9\n",
      "5  2023-01-23 10:45:00    5.8\n",
      "6  2023-01-12 08:30:00   0.94\n",
      "7  2023-01-09 12:00:00    NaN\n",
      "8  2023-01-09 12:45:00    1.9\n",
      "9  2023-01-26 11:30:00    NaN\n",
      "10 2023-01-26 12:00:00    2.0\n",
      "11 2023-01-30 13:45:00    1.3\n",
      "12 2023-01-10 11:30:00    NaN\n",
      "13 2023-01-09 10:30:00    NaN\n",
      "14 2023-01-30 17:00:00    NaN\n",
      "15 2023-01-30 13:00:00    NaN\n",
      "16 2023-01-17 09:50:00    1.5\n",
      "17 2023-01-12 10:00:00    1.7\n",
      "18 2023-01-10 10:00:00    NaN\n",
      "19 2023-01-10 10:30:00   0.12\n",
      "20 2023-01-12 12:00:00    1.1\n",
      "21 2023-01-18 10:00:00    2.2\n",
      "22 2023-01-10 10:00:00    9.7\n",
      "23                 NaT    NaN\n",
      "24                 NaT    NaN\n",
      "25                 NaT    NaN\n",
      "26                 NaT    NaN\n",
      "27                 NaT    NaN\n",
      "28                 NaT    NaN\n",
      "29                 NaT    NaN\n",
      "30                 NaT    NaN\n",
      "31                 NaT    NaN\n",
      "32                 NaT    NaN\n",
      "33                 NaT    NaN\n",
      "34                 NaT    NaN\n",
      "35                 NaT    NaN\n",
      "36 2023-01-14 19:12:00    NaN\n",
      "37 2023-01-17 13:30:00    NaN\n",
      "38 2023-01-17 13:37:00    NaN\n",
      "39 2023-01-17 13:44:00    NaN\n",
      "40 2023-01-17 13:45:00    NaN\n",
      "41 2023-01-17 13:52:00    NaN\n",
      "42 2023-01-17 14:00:00    NaN\n",
      "43 2023-01-24 15:50:00    NaN\n",
      "44 2023-01-24 15:55:00    NaN\n",
      "45 2023-01-24 16:00:00    NaN\n",
      "46 2023-01-24 16:01:00    NaN\n",
      "47 2023-01-24 16:05:00    NaN\n",
      "48 2023-01-24 16:10:00    NaN\n",
      "49 2023-01-09 11:30:00    3.6\n",
      "50 2023-01-11 11:00:00    1.5\n",
      "51 2023-01-19 09:30:00    2.0\n",
      "52 2023-01-10 10:20:00    NaN\n",
      "53 2023-01-19 11:00:00    2.1\n",
      "54 2023-01-09 11:50:00    NaN\n",
      "55 2023-01-11 11:40:00    NaN\n",
      "56                 NaT    NaN\n",
      "57 2023-01-30 12:30:00    NaN\n"
     ]
    }
   ],
   "source": [
    "nitrateDF = usgsWQdata[['DateTime','p00600']]\n",
    "print(nitrateDF)"
   ]
  },
  {
   "cell_type": "code",
   "execution_count": 28,
   "id": "647b2ab6-b2de-47d9-826f-99ec47a770ff",
   "metadata": {},
   "outputs": [
    {
     "name": "stdout",
     "output_type": "stream",
     "text": [
      "              DateTime p00600\n",
      "2  2023-01-23 10:00:00    2.3\n",
      "3  2023-01-24 09:30:00    6.4\n",
      "4  2023-01-10 09:15:00    1.9\n",
      "5  2023-01-23 10:45:00    5.8\n",
      "6  2023-01-12 08:30:00   0.94\n",
      "7  2023-01-09 12:00:00    NaN\n",
      "8  2023-01-09 12:45:00    1.9\n",
      "9  2023-01-26 11:30:00    NaN\n",
      "10 2023-01-26 12:00:00    2.0\n",
      "11 2023-01-30 13:45:00    1.3\n",
      "12 2023-01-10 11:30:00    NaN\n",
      "13 2023-01-09 10:30:00    NaN\n",
      "14 2023-01-30 17:00:00    NaN\n",
      "15 2023-01-30 13:00:00    NaN\n",
      "16 2023-01-17 09:50:00    1.5\n",
      "17 2023-01-12 10:00:00    1.7\n",
      "18 2023-01-10 10:00:00    NaN\n",
      "19 2023-01-10 10:30:00   0.12\n",
      "20 2023-01-12 12:00:00    1.1\n",
      "21 2023-01-18 10:00:00    2.2\n",
      "22 2023-01-10 10:00:00    9.7\n",
      "23                 NaT    NaN\n",
      "24                 NaT    NaN\n",
      "25                 NaT    NaN\n",
      "26                 NaT    NaN\n",
      "27                 NaT    NaN\n",
      "28                 NaT    NaN\n",
      "29                 NaT    NaN\n",
      "30                 NaT    NaN\n",
      "31                 NaT    NaN\n",
      "32                 NaT    NaN\n",
      "33                 NaT    NaN\n",
      "34                 NaT    NaN\n",
      "35                 NaT    NaN\n",
      "36 2023-01-14 19:12:00    NaN\n",
      "37 2023-01-17 13:30:00    NaN\n",
      "38 2023-01-17 13:37:00    NaN\n",
      "39 2023-01-17 13:44:00    NaN\n",
      "40 2023-01-17 13:45:00    NaN\n",
      "41 2023-01-17 13:52:00    NaN\n",
      "42 2023-01-17 14:00:00    NaN\n",
      "43 2023-01-24 15:50:00    NaN\n",
      "44 2023-01-24 15:55:00    NaN\n",
      "45 2023-01-24 16:00:00    NaN\n",
      "46 2023-01-24 16:01:00    NaN\n",
      "47 2023-01-24 16:05:00    NaN\n",
      "48 2023-01-24 16:10:00    NaN\n",
      "49 2023-01-09 11:30:00    3.6\n",
      "50 2023-01-11 11:00:00    1.5\n",
      "51 2023-01-19 09:30:00    2.0\n",
      "52 2023-01-10 10:20:00    NaN\n",
      "53 2023-01-19 11:00:00    2.1\n",
      "54 2023-01-09 11:50:00    NaN\n",
      "55 2023-01-11 11:40:00    NaN\n",
      "56                 NaT    NaN\n",
      "57 2023-01-30 12:30:00    NaN\n"
     ]
    }
   ],
   "source": [
    "nitrateDF.dropna()\n",
    "print(nitrateDF)"
   ]
  },
  {
   "cell_type": "code",
   "execution_count": 31,
   "id": "a5f08619-91e9-4daf-b839-1eb8f2475d28",
   "metadata": {},
   "outputs": [],
   "source": [
    "import plotly\n",
    "import statsmodels"
   ]
  },
  {
   "cell_type": "code",
   "execution_count": 34,
   "id": "7e03df16-1be8-4eca-836a-1714590d6bdc",
   "metadata": {},
   "outputs": [
    {
     "data": {
      "application/vnd.plotly.v1+json": {
       "config": {
        "plotlyServerURL": "https://plot.ly"
       },
       "data": [
        {
         "hovertemplate": "DateTime=%{x}<br>p00600=%{y}<extra></extra>",
         "legendgroup": "",
         "marker": {
          "color": "#636efa",
          "symbol": "circle"
         },
         "mode": "markers",
         "name": "",
         "orientation": "v",
         "showlegend": false,
         "type": "scatter",
         "x": [
          "2023-01-23T10:00:00",
          "2023-01-24T09:30:00",
          "2023-01-10T09:15:00",
          "2023-01-23T10:45:00",
          "2023-01-12T08:30:00",
          "2023-01-09T12:00:00",
          "2023-01-09T12:45:00",
          "2023-01-26T11:30:00",
          "2023-01-26T12:00:00",
          "2023-01-30T13:45:00",
          "2023-01-10T11:30:00",
          "2023-01-09T10:30:00",
          "2023-01-30T17:00:00",
          "2023-01-30T13:00:00",
          "2023-01-17T09:50:00",
          "2023-01-12T10:00:00",
          "2023-01-10T10:00:00",
          "2023-01-10T10:30:00",
          "2023-01-12T12:00:00",
          "2023-01-18T10:00:00",
          "2023-01-10T10:00:00",
          null,
          null,
          null,
          null,
          null,
          null,
          null,
          null,
          null,
          null,
          null,
          null,
          null,
          "2023-01-14T19:12:00",
          "2023-01-17T13:30:00",
          "2023-01-17T13:37:00",
          "2023-01-17T13:44:00",
          "2023-01-17T13:45:00",
          "2023-01-17T13:52:00",
          "2023-01-17T14:00:00",
          "2023-01-24T15:50:00",
          "2023-01-24T15:55:00",
          "2023-01-24T16:00:00",
          "2023-01-24T16:01:00",
          "2023-01-24T16:05:00",
          "2023-01-24T16:10:00",
          "2023-01-09T11:30:00",
          "2023-01-11T11:00:00",
          "2023-01-19T09:30:00",
          "2023-01-10T10:20:00",
          "2023-01-19T11:00:00",
          "2023-01-09T11:50:00",
          "2023-01-11T11:40:00",
          null,
          "2023-01-30T12:30:00"
         ],
         "xaxis": "x",
         "y": [
          "2.3",
          "6.4",
          "1.9",
          "5.8",
          "0.94",
          null,
          "1.9",
          null,
          "2.0",
          "1.3",
          null,
          null,
          null,
          null,
          "1.5",
          "1.7",
          null,
          "0.12",
          "1.1",
          "2.2",
          "9.7",
          null,
          null,
          null,
          null,
          null,
          null,
          null,
          null,
          null,
          null,
          null,
          null,
          null,
          null,
          null,
          null,
          null,
          null,
          null,
          null,
          null,
          null,
          null,
          null,
          null,
          null,
          "3.6",
          "1.5",
          "2.0",
          null,
          "2.1",
          null,
          null,
          null,
          null
         ],
         "yaxis": "y"
        }
       ],
       "layout": {
        "autosize": true,
        "legend": {
         "tracegroupgap": 0
        },
        "template": {
         "data": {
          "bar": [
           {
            "error_x": {
             "color": "#2a3f5f"
            },
            "error_y": {
             "color": "#2a3f5f"
            },
            "marker": {
             "line": {
              "color": "#E5ECF6",
              "width": 0.5
             },
             "pattern": {
              "fillmode": "overlay",
              "size": 10,
              "solidity": 0.2
             }
            },
            "type": "bar"
           }
          ],
          "barpolar": [
           {
            "marker": {
             "line": {
              "color": "#E5ECF6",
              "width": 0.5
             },
             "pattern": {
              "fillmode": "overlay",
              "size": 10,
              "solidity": 0.2
             }
            },
            "type": "barpolar"
           }
          ],
          "carpet": [
           {
            "aaxis": {
             "endlinecolor": "#2a3f5f",
             "gridcolor": "white",
             "linecolor": "white",
             "minorgridcolor": "white",
             "startlinecolor": "#2a3f5f"
            },
            "baxis": {
             "endlinecolor": "#2a3f5f",
             "gridcolor": "white",
             "linecolor": "white",
             "minorgridcolor": "white",
             "startlinecolor": "#2a3f5f"
            },
            "type": "carpet"
           }
          ],
          "choropleth": [
           {
            "colorbar": {
             "outlinewidth": 0,
             "ticks": ""
            },
            "type": "choropleth"
           }
          ],
          "contour": [
           {
            "colorbar": {
             "outlinewidth": 0,
             "ticks": ""
            },
            "colorscale": [
             [
              0,
              "#0d0887"
             ],
             [
              0.1111111111111111,
              "#46039f"
             ],
             [
              0.2222222222222222,
              "#7201a8"
             ],
             [
              0.3333333333333333,
              "#9c179e"
             ],
             [
              0.4444444444444444,
              "#bd3786"
             ],
             [
              0.5555555555555556,
              "#d8576b"
             ],
             [
              0.6666666666666666,
              "#ed7953"
             ],
             [
              0.7777777777777778,
              "#fb9f3a"
             ],
             [
              0.8888888888888888,
              "#fdca26"
             ],
             [
              1,
              "#f0f921"
             ]
            ],
            "type": "contour"
           }
          ],
          "contourcarpet": [
           {
            "colorbar": {
             "outlinewidth": 0,
             "ticks": ""
            },
            "type": "contourcarpet"
           }
          ],
          "heatmap": [
           {
            "colorbar": {
             "outlinewidth": 0,
             "ticks": ""
            },
            "colorscale": [
             [
              0,
              "#0d0887"
             ],
             [
              0.1111111111111111,
              "#46039f"
             ],
             [
              0.2222222222222222,
              "#7201a8"
             ],
             [
              0.3333333333333333,
              "#9c179e"
             ],
             [
              0.4444444444444444,
              "#bd3786"
             ],
             [
              0.5555555555555556,
              "#d8576b"
             ],
             [
              0.6666666666666666,
              "#ed7953"
             ],
             [
              0.7777777777777778,
              "#fb9f3a"
             ],
             [
              0.8888888888888888,
              "#fdca26"
             ],
             [
              1,
              "#f0f921"
             ]
            ],
            "type": "heatmap"
           }
          ],
          "heatmapgl": [
           {
            "colorbar": {
             "outlinewidth": 0,
             "ticks": ""
            },
            "colorscale": [
             [
              0,
              "#0d0887"
             ],
             [
              0.1111111111111111,
              "#46039f"
             ],
             [
              0.2222222222222222,
              "#7201a8"
             ],
             [
              0.3333333333333333,
              "#9c179e"
             ],
             [
              0.4444444444444444,
              "#bd3786"
             ],
             [
              0.5555555555555556,
              "#d8576b"
             ],
             [
              0.6666666666666666,
              "#ed7953"
             ],
             [
              0.7777777777777778,
              "#fb9f3a"
             ],
             [
              0.8888888888888888,
              "#fdca26"
             ],
             [
              1,
              "#f0f921"
             ]
            ],
            "type": "heatmapgl"
           }
          ],
          "histogram": [
           {
            "marker": {
             "pattern": {
              "fillmode": "overlay",
              "size": 10,
              "solidity": 0.2
             }
            },
            "type": "histogram"
           }
          ],
          "histogram2d": [
           {
            "colorbar": {
             "outlinewidth": 0,
             "ticks": ""
            },
            "colorscale": [
             [
              0,
              "#0d0887"
             ],
             [
              0.1111111111111111,
              "#46039f"
             ],
             [
              0.2222222222222222,
              "#7201a8"
             ],
             [
              0.3333333333333333,
              "#9c179e"
             ],
             [
              0.4444444444444444,
              "#bd3786"
             ],
             [
              0.5555555555555556,
              "#d8576b"
             ],
             [
              0.6666666666666666,
              "#ed7953"
             ],
             [
              0.7777777777777778,
              "#fb9f3a"
             ],
             [
              0.8888888888888888,
              "#fdca26"
             ],
             [
              1,
              "#f0f921"
             ]
            ],
            "type": "histogram2d"
           }
          ],
          "histogram2dcontour": [
           {
            "colorbar": {
             "outlinewidth": 0,
             "ticks": ""
            },
            "colorscale": [
             [
              0,
              "#0d0887"
             ],
             [
              0.1111111111111111,
              "#46039f"
             ],
             [
              0.2222222222222222,
              "#7201a8"
             ],
             [
              0.3333333333333333,
              "#9c179e"
             ],
             [
              0.4444444444444444,
              "#bd3786"
             ],
             [
              0.5555555555555556,
              "#d8576b"
             ],
             [
              0.6666666666666666,
              "#ed7953"
             ],
             [
              0.7777777777777778,
              "#fb9f3a"
             ],
             [
              0.8888888888888888,
              "#fdca26"
             ],
             [
              1,
              "#f0f921"
             ]
            ],
            "type": "histogram2dcontour"
           }
          ],
          "mesh3d": [
           {
            "colorbar": {
             "outlinewidth": 0,
             "ticks": ""
            },
            "type": "mesh3d"
           }
          ],
          "parcoords": [
           {
            "line": {
             "colorbar": {
              "outlinewidth": 0,
              "ticks": ""
             }
            },
            "type": "parcoords"
           }
          ],
          "pie": [
           {
            "automargin": true,
            "type": "pie"
           }
          ],
          "scatter": [
           {
            "fillpattern": {
             "fillmode": "overlay",
             "size": 10,
             "solidity": 0.2
            },
            "type": "scatter"
           }
          ],
          "scatter3d": [
           {
            "line": {
             "colorbar": {
              "outlinewidth": 0,
              "ticks": ""
             }
            },
            "marker": {
             "colorbar": {
              "outlinewidth": 0,
              "ticks": ""
             }
            },
            "type": "scatter3d"
           }
          ],
          "scattercarpet": [
           {
            "marker": {
             "colorbar": {
              "outlinewidth": 0,
              "ticks": ""
             }
            },
            "type": "scattercarpet"
           }
          ],
          "scattergeo": [
           {
            "marker": {
             "colorbar": {
              "outlinewidth": 0,
              "ticks": ""
             }
            },
            "type": "scattergeo"
           }
          ],
          "scattergl": [
           {
            "marker": {
             "colorbar": {
              "outlinewidth": 0,
              "ticks": ""
             }
            },
            "type": "scattergl"
           }
          ],
          "scattermapbox": [
           {
            "marker": {
             "colorbar": {
              "outlinewidth": 0,
              "ticks": ""
             }
            },
            "type": "scattermapbox"
           }
          ],
          "scatterpolar": [
           {
            "marker": {
             "colorbar": {
              "outlinewidth": 0,
              "ticks": ""
             }
            },
            "type": "scatterpolar"
           }
          ],
          "scatterpolargl": [
           {
            "marker": {
             "colorbar": {
              "outlinewidth": 0,
              "ticks": ""
             }
            },
            "type": "scatterpolargl"
           }
          ],
          "scatterternary": [
           {
            "marker": {
             "colorbar": {
              "outlinewidth": 0,
              "ticks": ""
             }
            },
            "type": "scatterternary"
           }
          ],
          "surface": [
           {
            "colorbar": {
             "outlinewidth": 0,
             "ticks": ""
            },
            "colorscale": [
             [
              0,
              "#0d0887"
             ],
             [
              0.1111111111111111,
              "#46039f"
             ],
             [
              0.2222222222222222,
              "#7201a8"
             ],
             [
              0.3333333333333333,
              "#9c179e"
             ],
             [
              0.4444444444444444,
              "#bd3786"
             ],
             [
              0.5555555555555556,
              "#d8576b"
             ],
             [
              0.6666666666666666,
              "#ed7953"
             ],
             [
              0.7777777777777778,
              "#fb9f3a"
             ],
             [
              0.8888888888888888,
              "#fdca26"
             ],
             [
              1,
              "#f0f921"
             ]
            ],
            "type": "surface"
           }
          ],
          "table": [
           {
            "cells": {
             "fill": {
              "color": "#EBF0F8"
             },
             "line": {
              "color": "white"
             }
            },
            "header": {
             "fill": {
              "color": "#C8D4E3"
             },
             "line": {
              "color": "white"
             }
            },
            "type": "table"
           }
          ]
         },
         "layout": {
          "annotationdefaults": {
           "arrowcolor": "#2a3f5f",
           "arrowhead": 0,
           "arrowwidth": 1
          },
          "autotypenumbers": "strict",
          "coloraxis": {
           "colorbar": {
            "outlinewidth": 0,
            "ticks": ""
           }
          },
          "colorscale": {
           "diverging": [
            [
             0,
             "#8e0152"
            ],
            [
             0.1,
             "#c51b7d"
            ],
            [
             0.2,
             "#de77ae"
            ],
            [
             0.3,
             "#f1b6da"
            ],
            [
             0.4,
             "#fde0ef"
            ],
            [
             0.5,
             "#f7f7f7"
            ],
            [
             0.6,
             "#e6f5d0"
            ],
            [
             0.7,
             "#b8e186"
            ],
            [
             0.8,
             "#7fbc41"
            ],
            [
             0.9,
             "#4d9221"
            ],
            [
             1,
             "#276419"
            ]
           ],
           "sequential": [
            [
             0,
             "#0d0887"
            ],
            [
             0.1111111111111111,
             "#46039f"
            ],
            [
             0.2222222222222222,
             "#7201a8"
            ],
            [
             0.3333333333333333,
             "#9c179e"
            ],
            [
             0.4444444444444444,
             "#bd3786"
            ],
            [
             0.5555555555555556,
             "#d8576b"
            ],
            [
             0.6666666666666666,
             "#ed7953"
            ],
            [
             0.7777777777777778,
             "#fb9f3a"
            ],
            [
             0.8888888888888888,
             "#fdca26"
            ],
            [
             1,
             "#f0f921"
            ]
           ],
           "sequentialminus": [
            [
             0,
             "#0d0887"
            ],
            [
             0.1111111111111111,
             "#46039f"
            ],
            [
             0.2222222222222222,
             "#7201a8"
            ],
            [
             0.3333333333333333,
             "#9c179e"
            ],
            [
             0.4444444444444444,
             "#bd3786"
            ],
            [
             0.5555555555555556,
             "#d8576b"
            ],
            [
             0.6666666666666666,
             "#ed7953"
            ],
            [
             0.7777777777777778,
             "#fb9f3a"
            ],
            [
             0.8888888888888888,
             "#fdca26"
            ],
            [
             1,
             "#f0f921"
            ]
           ]
          },
          "colorway": [
           "#636efa",
           "#EF553B",
           "#00cc96",
           "#ab63fa",
           "#FFA15A",
           "#19d3f3",
           "#FF6692",
           "#B6E880",
           "#FF97FF",
           "#FECB52"
          ],
          "font": {
           "color": "#2a3f5f"
          },
          "geo": {
           "bgcolor": "white",
           "lakecolor": "white",
           "landcolor": "#E5ECF6",
           "showlakes": true,
           "showland": true,
           "subunitcolor": "white"
          },
          "hoverlabel": {
           "align": "left"
          },
          "hovermode": "closest",
          "mapbox": {
           "style": "light"
          },
          "paper_bgcolor": "white",
          "plot_bgcolor": "#E5ECF6",
          "polar": {
           "angularaxis": {
            "gridcolor": "white",
            "linecolor": "white",
            "ticks": ""
           },
           "bgcolor": "#E5ECF6",
           "radialaxis": {
            "gridcolor": "white",
            "linecolor": "white",
            "ticks": ""
           }
          },
          "scene": {
           "xaxis": {
            "backgroundcolor": "#E5ECF6",
            "gridcolor": "white",
            "gridwidth": 2,
            "linecolor": "white",
            "showbackground": true,
            "ticks": "",
            "zerolinecolor": "white"
           },
           "yaxis": {
            "backgroundcolor": "#E5ECF6",
            "gridcolor": "white",
            "gridwidth": 2,
            "linecolor": "white",
            "showbackground": true,
            "ticks": "",
            "zerolinecolor": "white"
           },
           "zaxis": {
            "backgroundcolor": "#E5ECF6",
            "gridcolor": "white",
            "gridwidth": 2,
            "linecolor": "white",
            "showbackground": true,
            "ticks": "",
            "zerolinecolor": "white"
           }
          },
          "shapedefaults": {
           "line": {
            "color": "#2a3f5f"
           }
          },
          "ternary": {
           "aaxis": {
            "gridcolor": "white",
            "linecolor": "white",
            "ticks": ""
           },
           "baxis": {
            "gridcolor": "white",
            "linecolor": "white",
            "ticks": ""
           },
           "bgcolor": "#E5ECF6",
           "caxis": {
            "gridcolor": "white",
            "linecolor": "white",
            "ticks": ""
           }
          },
          "title": {
           "x": 0.05
          },
          "xaxis": {
           "automargin": true,
           "gridcolor": "white",
           "linecolor": "white",
           "ticks": "",
           "title": {
            "standoff": 15
           },
           "zerolinecolor": "white",
           "zerolinewidth": 2
          },
          "yaxis": {
           "automargin": true,
           "gridcolor": "white",
           "linecolor": "white",
           "ticks": "",
           "title": {
            "standoff": 15
           },
           "zerolinecolor": "white",
           "zerolinewidth": 2
          }
         }
        },
        "title": {
         "text": "Total Nitrogen over January 2023"
        },
        "xaxis": {
         "anchor": "y",
         "autorange": true,
         "domain": [
          0,
          1
         ],
         "range": [
          "2023-01-08 03:39:00.716",
          "2023-01-31 23:50:59.284"
         ],
         "title": {
          "text": "DateTime"
         },
         "type": "date"
        },
        "yaxis": {
         "anchor": "x",
         "autorange": true,
         "domain": [
          0,
          1
         ],
         "range": [
          -1.1553398058252429,
          15.155339805825243
         ],
         "title": {
          "text": "p00600"
         },
         "type": "category"
        }
       }
      },
      "image/png": "[encoded data removed]",
      "text/html": [
       "<div>                            <div id=\"cd7ee622-5114-4b57-b019-1e42c9e78ce6\" class=\"plotly-graph-div\" style=\"height:525px; width:100%;\"></div>            <script type=\"text/javascript\">                require([\"plotly\"], function(Plotly) {                    window.PLOTLYENV=window.PLOTLYENV || {};                                    if (document.getElementById(\"cd7ee622-5114-4b57-b019-1e42c9e78ce6\")) {                    Plotly.newPlot(                        \"cd7ee622-5114-4b57-b019-1e42c9e78ce6\",                        [{\"hovertemplate\":\"DateTime=%{x}\\u003cbr\\u003ep00600=%{y}\\u003cextra\\u003e\\u003c\\u002fextra\\u003e\",\"legendgroup\":\"\",\"marker\":{\"color\":\"#636efa\",\"symbol\":\"circle\"},\"mode\":\"markers\",\"name\":\"\",\"orientation\":\"v\",\"showlegend\":false,\"x\":[\"2023-01-23T10:00:00\",\"2023-01-24T09:30:00\",\"2023-01-10T09:15:00\",\"2023-01-23T10:45:00\",\"2023-01-12T08:30:00\",\"2023-01-09T12:00:00\",\"2023-01-09T12:45:00\",\"2023-01-26T11:30:00\",\"2023-01-26T12:00:00\",\"2023-01-30T13:45:00\",\"2023-01-10T11:30:00\",\"2023-01-09T10:30:00\",\"2023-01-30T17:00:00\",\"2023-01-30T13:00:00\",\"2023-01-17T09:50:00\",\"2023-01-12T10:00:00\",\"2023-01-10T10:00:00\",\"2023-01-10T10:30:00\",\"2023-01-12T12:00:00\",\"2023-01-18T10:00:00\",\"2023-01-10T10:00:00\",null,null,null,null,null,null,null,null,null,null,null,null,null,\"2023-01-14T19:12:00\",\"2023-01-17T13:30:00\",\"2023-01-17T13:37:00\",\"2023-01-17T13:44:00\",\"2023-01-17T13:45:00\",\"2023-01-17T13:52:00\",\"2023-01-17T14:00:00\",\"2023-01-24T15:50:00\",\"2023-01-24T15:55:00\",\"2023-01-24T16:00:00\",\"2023-01-24T16:01:00\",\"2023-01-24T16:05:00\",\"2023-01-24T16:10:00\",\"2023-01-09T11:30:00\",\"2023-01-11T11:00:00\",\"2023-01-19T09:30:00\",\"2023-01-10T10:20:00\",\"2023-01-19T11:00:00\",\"2023-01-09T11:50:00\",\"2023-01-11T11:40:00\",null,\"2023-01-30T12:30:00\"],\"xaxis\":\"x\",\"y\":[\"2.3\",\"6.4\",\"1.9\",\"5.8\",\"0.94\",null,\"1.9\",null,\"2.0\",\"1.3\",null,null,null,null,\"1.5\",\"1.7\",null,\"0.12\",\"1.1\",\"2.2\",\"9.7\",null,null,null,null,null,null,null,null,null,null,null,null,null,null,null,null,null,null,null,null,null,null,null,null,null,null,\"3.6\",\"1.5\",\"2.0\",null,\"2.1\",null,null,null,null],\"yaxis\":\"y\",\"type\":\"scatter\"}],                        {\"template\":{\"data\":{\"histogram2dcontour\":[{\"type\":\"histogram2dcontour\",\"colorbar\":{\"outlinewidth\":0,\"ticks\":\"\"},\"colorscale\":[[0.0,\"#0d0887\"],[0.1111111111111111,\"#46039f\"],[0.2222222222222222,\"#7201a8\"],[0.3333333333333333,\"#9c179e\"],[0.4444444444444444,\"#bd3786\"],[0.5555555555555556,\"#d8576b\"],[0.6666666666666666,\"#ed7953\"],[0.7777777777777778,\"#fb9f3a\"],[0.8888888888888888,\"#fdca26\"],[1.0,\"#f0f921\"]]}],\"choropleth\":[{\"type\":\"choropleth\",\"colorbar\":{\"outlinewidth\":0,\"ticks\":\"\"}}],\"histogram2d\":[{\"type\":\"histogram2d\",\"colorbar\":{\"outlinewidth\":0,\"ticks\":\"\"},\"colorscale\":[[0.0,\"#0d0887\"],[0.1111111111111111,\"#46039f\"],[0.2222222222222222,\"#7201a8\"],[0.3333333333333333,\"#9c179e\"],[0.4444444444444444,\"#bd3786\"],[0.5555555555555556,\"#d8576b\"],[0.6666666666666666,\"#ed7953\"],[0.7777777777777778,\"#fb9f3a\"],[0.8888888888888888,\"#fdca26\"],[1.0,\"#f0f921\"]]}],\"heatmap\":[{\"type\":\"heatmap\",\"colorbar\":{\"outlinewidth\":0,\"ticks\":\"\"},\"colorscale\":[[0.0,\"#0d0887\"],[0.1111111111111111,\"#46039f\"],[0.2222222222222222,\"#7201a8\"],[0.3333333333333333,\"#9c179e\"],[0.4444444444444444,\"#bd3786\"],[0.5555555555555556,\"#d8576b\"],[0.6666666666666666,\"#ed7953\"],[0.7777777777777778,\"#fb9f3a\"],[0.8888888888888888,\"#fdca26\"],[1.0,\"#f0f921\"]]}],\"heatmapgl\":[{\"type\":\"heatmapgl\",\"colorbar\":{\"outlinewidth\":0,\"ticks\":\"\"},\"colorscale\":[[0.0,\"#0d0887\"],[0.1111111111111111,\"#46039f\"],[0.2222222222222222,\"#7201a8\"],[0.3333333333333333,\"#9c179e\"],[0.4444444444444444,\"#bd3786\"],[0.5555555555555556,\"#d8576b\"],[0.6666666666666666,\"#ed7953\"],[0.7777777777777778,\"#fb9f3a\"],[0.8888888888888888,\"#fdca26\"],[1.0,\"#f0f921\"]]}],\"contourcarpet\":[{\"type\":\"contourcarpet\",\"colorbar\":{\"outlinewidth\":0,\"ticks\":\"\"}}],\"contour\":[{\"type\":\"contour\",\"colorbar\":{\"outlinewidth\":0,\"ticks\":\"\"},\"colorscale\":[[0.0,\"#0d0887\"],[0.1111111111111111,\"#46039f\"],[0.2222222222222222,\"#7201a8\"],[0.3333333333333333,\"#9c179e\"],[0.4444444444444444,\"#bd3786\"],[0.5555555555555556,\"#d8576b\"],[0.6666666666666666,\"#ed7953\"],[0.7777777777777778,\"#fb9f3a\"],[0.8888888888888888,\"#fdca26\"],[1.0,\"#f0f921\"]]}],\"surface\":[{\"type\":\"surface\",\"colorbar\":{\"outlinewidth\":0,\"ticks\":\"\"},\"colorscale\":[[0.0,\"#0d0887\"],[0.1111111111111111,\"#46039f\"],[0.2222222222222222,\"#7201a8\"],[0.3333333333333333,\"#9c179e\"],[0.4444444444444444,\"#bd3786\"],[0.5555555555555556,\"#d8576b\"],[0.6666666666666666,\"#ed7953\"],[0.7777777777777778,\"#fb9f3a\"],[0.8888888888888888,\"#fdca26\"],[1.0,\"#f0f921\"]]}],\"mesh3d\":[{\"type\":\"mesh3d\",\"colorbar\":{\"outlinewidth\":0,\"ticks\":\"\"}}],\"scatter\":[{\"fillpattern\":{\"fillmode\":\"overlay\",\"size\":10,\"solidity\":0.2},\"type\":\"scatter\"}],\"parcoords\":[{\"type\":\"parcoords\",\"line\":{\"colorbar\":{\"outlinewidth\":0,\"ticks\":\"\"}}}],\"scatterpolargl\":[{\"type\":\"scatterpolargl\",\"marker\":{\"colorbar\":{\"outlinewidth\":0,\"ticks\":\"\"}}}],\"bar\":[{\"error_x\":{\"color\":\"#2a3f5f\"},\"error_y\":{\"color\":\"#2a3f5f\"},\"marker\":{\"line\":{\"color\":\"#E5ECF6\",\"width\":0.5},\"pattern\":{\"fillmode\":\"overlay\",\"size\":10,\"solidity\":0.2}},\"type\":\"bar\"}],\"scattergeo\":[{\"type\":\"scattergeo\",\"marker\":{\"colorbar\":{\"outlinewidth\":0,\"ticks\":\"\"}}}],\"scatterpolar\":[{\"type\":\"scatterpolar\",\"marker\":{\"colorbar\":{\"outlinewidth\":0,\"ticks\":\"\"}}}],\"histogram\":[{\"marker\":{\"pattern\":{\"fillmode\":\"overlay\",\"size\":10,\"solidity\":0.2}},\"type\":\"histogram\"}],\"scattergl\":[{\"type\":\"scattergl\",\"marker\":{\"colorbar\":{\"outlinewidth\":0,\"ticks\":\"\"}}}],\"scatter3d\":[{\"type\":\"scatter3d\",\"line\":{\"colorbar\":{\"outlinewidth\":0,\"ticks\":\"\"}},\"marker\":{\"colorbar\":{\"outlinewidth\":0,\"ticks\":\"\"}}}],\"scattermapbox\":[{\"type\":\"scattermapbox\",\"marker\":{\"colorbar\":{\"outlinewidth\":0,\"ticks\":\"\"}}}],\"scatterternary\":[{\"type\":\"scatterternary\",\"marker\":{\"colorbar\":{\"outlinewidth\":0,\"ticks\":\"\"}}}],\"scattercarpet\":[{\"type\":\"scattercarpet\",\"marker\":{\"colorbar\":{\"outlinewidth\":0,\"ticks\":\"\"}}}],\"carpet\":[{\"aaxis\":{\"endlinecolor\":\"#2a3f5f\",\"gridcolor\":\"white\",\"linecolor\":\"white\",\"minorgridcolor\":\"white\",\"startlinecolor\":\"#2a3f5f\"},\"baxis\":{\"endlinecolor\":\"#2a3f5f\",\"gridcolor\":\"white\",\"linecolor\":\"white\",\"minorgridcolor\":\"white\",\"startlinecolor\":\"#2a3f5f\"},\"type\":\"carpet\"}],\"table\":[{\"cells\":{\"fill\":{\"color\":\"#EBF0F8\"},\"line\":{\"color\":\"white\"}},\"header\":{\"fill\":{\"color\":\"#C8D4E3\"},\"line\":{\"color\":\"white\"}},\"type\":\"table\"}],\"barpolar\":[{\"marker\":{\"line\":{\"color\":\"#E5ECF6\",\"width\":0.5},\"pattern\":{\"fillmode\":\"overlay\",\"size\":10,\"solidity\":0.2}},\"type\":\"barpolar\"}],\"pie\":[{\"automargin\":true,\"type\":\"pie\"}]},\"layout\":{\"autotypenumbers\":\"strict\",\"colorway\":[\"#636efa\",\"#EF553B\",\"#00cc96\",\"#ab63fa\",\"#FFA15A\",\"#19d3f3\",\"#FF6692\",\"#B6E880\",\"#FF97FF\",\"#FECB52\"],\"font\":{\"color\":\"#2a3f5f\"},\"hovermode\":\"closest\",\"hoverlabel\":{\"align\":\"left\"},\"paper_bgcolor\":\"white\",\"plot_bgcolor\":\"#E5ECF6\",\"polar\":{\"bgcolor\":\"#E5ECF6\",\"angularaxis\":{\"gridcolor\":\"white\",\"linecolor\":\"white\",\"ticks\":\"\"},\"radialaxis\":{\"gridcolor\":\"white\",\"linecolor\":\"white\",\"ticks\":\"\"}},\"ternary\":{\"bgcolor\":\"#E5ECF6\",\"aaxis\":{\"gridcolor\":\"white\",\"linecolor\":\"white\",\"ticks\":\"\"},\"baxis\":{\"gridcolor\":\"white\",\"linecolor\":\"white\",\"ticks\":\"\"},\"caxis\":{\"gridcolor\":\"white\",\"linecolor\":\"white\",\"ticks\":\"\"}},\"coloraxis\":{\"colorbar\":{\"outlinewidth\":0,\"ticks\":\"\"}},\"colorscale\":{\"sequential\":[[0.0,\"#0d0887\"],[0.1111111111111111,\"#46039f\"],[0.2222222222222222,\"#7201a8\"],[0.3333333333333333,\"#9c179e\"],[0.4444444444444444,\"#bd3786\"],[0.5555555555555556,\"#d8576b\"],[0.6666666666666666,\"#ed7953\"],[0.7777777777777778,\"#fb9f3a\"],[0.8888888888888888,\"#fdca26\"],[1.0,\"#f0f921\"]],\"sequentialminus\":[[0.0,\"#0d0887\"],[0.1111111111111111,\"#46039f\"],[0.2222222222222222,\"#7201a8\"],[0.3333333333333333,\"#9c179e\"],[0.4444444444444444,\"#bd3786\"],[0.5555555555555556,\"#d8576b\"],[0.6666666666666666,\"#ed7953\"],[0.7777777777777778,\"#fb9f3a\"],[0.8888888888888888,\"#fdca26\"],[1.0,\"#f0f921\"]],\"diverging\":[[0,\"#8e0152\"],[0.1,\"#c51b7d\"],[0.2,\"#de77ae\"],[0.3,\"#f1b6da\"],[0.4,\"#fde0ef\"],[0.5,\"#f7f7f7\"],[0.6,\"#e6f5d0\"],[0.7,\"#b8e186\"],[0.8,\"#7fbc41\"],[0.9,\"#4d9221\"],[1,\"#276419\"]]},\"xaxis\":{\"gridcolor\":\"white\",\"linecolor\":\"white\",\"ticks\":\"\",\"title\":{\"standoff\":15},\"zerolinecolor\":\"white\",\"automargin\":true,\"zerolinewidth\":2},\"yaxis\":{\"gridcolor\":\"white\",\"linecolor\":\"white\",\"ticks\":\"\",\"title\":{\"standoff\":15},\"zerolinecolor\":\"white\",\"automargin\":true,\"zerolinewidth\":2},\"scene\":{\"xaxis\":{\"backgroundcolor\":\"#E5ECF6\",\"gridcolor\":\"white\",\"linecolor\":\"white\",\"showbackground\":true,\"ticks\":\"\",\"zerolinecolor\":\"white\",\"gridwidth\":2},\"yaxis\":{\"backgroundcolor\":\"#E5ECF6\",\"gridcolor\":\"white\",\"linecolor\":\"white\",\"showbackground\":true,\"ticks\":\"\",\"zerolinecolor\":\"white\",\"gridwidth\":2},\"zaxis\":{\"backgroundcolor\":\"#E5ECF6\",\"gridcolor\":\"white\",\"linecolor\":\"white\",\"showbackground\":true,\"ticks\":\"\",\"zerolinecolor\":\"white\",\"gridwidth\":2}},\"shapedefaults\":{\"line\":{\"color\":\"#2a3f5f\"}},\"annotationdefaults\":{\"arrowcolor\":\"#2a3f5f\",\"arrowhead\":0,\"arrowwidth\":1},\"geo\":{\"bgcolor\":\"white\",\"landcolor\":\"#E5ECF6\",\"subunitcolor\":\"white\",\"showland\":true,\"showlakes\":true,\"lakecolor\":\"white\"},\"title\":{\"x\":0.05},\"mapbox\":{\"style\":\"light\"}}},\"xaxis\":{\"anchor\":\"y\",\"domain\":[0.0,1.0],\"title\":{\"text\":\"DateTime\"}},\"yaxis\":{\"anchor\":\"x\",\"domain\":[0.0,1.0],\"title\":{\"text\":\"p00600\"}},\"legend\":{\"tracegroupgap\":0},\"title\":{\"text\":\"Total Nitrogen over January 2023\"}},                        {\"responsive\": true}                    ).then(function(){\n",
       "                            \n",
       "var gd = document.getElementById('cd7ee622-5114-4b57-b019-1e42c9e78ce6');\n",
       "var x = new MutationObserver(function (mutations, observer) {{\n",
       "        var display = window.getComputedStyle(gd).display;\n",
       "        if (!display || display === 'none') {{\n",
       "            console.log([gd, 'removed!']);\n",
       "            Plotly.purge(gd);\n",
       "            observer.disconnect();\n",
       "        }}\n",
       "}});\n",
       "\n",
       "// Listen for the removal of the full notebook cells\n",
       "var notebookContainer = gd.closest('#notebook-container');\n",
       "if (notebookContainer) {{\n",
       "    x.observe(notebookContainer, {childList: true});\n",
       "}}\n",
       "\n",
       "// Listen for the clearing of the current output cell\n",
       "var outputEl = gd.closest('.output');\n",
       "if (outputEl) {{\n",
       "    x.observe(outputEl, {childList: true});\n",
       "}}\n",
       "\n",
       "                        })                };                });            </script>        </div>"
      ]
     },
     "metadata": {},
     "output_type": "display_data"
    }
   ],
   "source": [
    "import plotly.express as px\n",
    "\n",
    "fig = px.scatter(nitrateDF, x='DateTime', y='p00600', title = 'Total Nitrogen over January 2023')\n",
    "fig.show()"
   ]
  },
  {
   "cell_type": "code",
   "execution_count": 35,
   "id": "8185e92f-9897-4503-8eff-e7523da7e43f",
   "metadata": {},
   "outputs": [
    {
     "data": {
      "application/vnd.plotly.v1+json": {
       "config": {
        "plotlyServerURL": "https://plot.ly"
       },
       "data": [
        {
         "hovertemplate": "DateTime=%{x}<br>p00600=%{y}<extra></extra>",
         "legendgroup": "",
         "marker": {
          "color": "#636efa",
          "symbol": "circle"
         },
         "mode": "markers",
         "name": "",
         "orientation": "v",
         "showlegend": false,
         "type": "scatter",
         "x": [
          "2023-01-23T10:00:00",
          "2023-01-24T09:30:00",
          "2023-01-10T09:15:00",
          "2023-01-23T10:45:00",
          "2023-01-12T08:30:00",
          "2023-01-09T12:00:00",
          "2023-01-09T12:45:00",
          "2023-01-26T11:30:00",
          "2023-01-26T12:00:00",
          "2023-01-30T13:45:00",
          "2023-01-10T11:30:00",
          "2023-01-09T10:30:00",
          "2023-01-30T17:00:00",
          "2023-01-30T13:00:00",
          "2023-01-17T09:50:00",
          "2023-01-12T10:00:00",
          "2023-01-10T10:00:00",
          "2023-01-10T10:30:00",
          "2023-01-12T12:00:00",
          "2023-01-18T10:00:00",
          "2023-01-10T10:00:00",
          null,
          null,
          null,
          null,
          null,
          null,
          null,
          null,
          null,
          null,
          null,
          null,
          null,
          "2023-01-14T19:12:00",
          "2023-01-17T13:30:00",
          "2023-01-17T13:37:00",
          "2023-01-17T13:44:00",
          "2023-01-17T13:45:00",
          "2023-01-17T13:52:00",
          "2023-01-17T14:00:00",
          "2023-01-24T15:50:00",
          "2023-01-24T15:55:00",
          "2023-01-24T16:00:00",
          "2023-01-24T16:01:00",
          "2023-01-24T16:05:00",
          "2023-01-24T16:10:00",
          "2023-01-09T11:30:00",
          "2023-01-11T11:00:00",
          "2023-01-19T09:30:00",
          "2023-01-10T10:20:00",
          "2023-01-19T11:00:00",
          "2023-01-09T11:50:00",
          "2023-01-11T11:40:00",
          null,
          "2023-01-30T12:30:00"
         ],
         "xaxis": "x",
         "y": [
          "2.3",
          "6.4",
          "1.9",
          "5.8",
          "0.94",
          null,
          "1.9",
          null,
          "2.0",
          "1.3",
          null,
          null,
          null,
          null,
          "1.5",
          "1.7",
          null,
          "0.12",
          "1.1",
          "2.2",
          "9.7",
          null,
          null,
          null,
          null,
          null,
          null,
          null,
          null,
          null,
          null,
          null,
          null,
          null,
          null,
          null,
          null,
          null,
          null,
          null,
          null,
          null,
          null,
          null,
          null,
          null,
          null,
          "3.6",
          "1.5",
          "2.0",
          null,
          "2.1",
          null,
          null,
          null,
          null
         ],
         "yaxis": "y"
        }
       ],
       "layout": {
        "autosize": true,
        "legend": {
         "tracegroupgap": 0
        },
        "template": {
         "data": {
          "bar": [
           {
            "error_x": {
             "color": "#2a3f5f"
            },
            "error_y": {
             "color": "#2a3f5f"
            },
            "marker": {
             "line": {
              "color": "#E5ECF6",
              "width": 0.5
             },
             "pattern": {
              "fillmode": "overlay",
              "size": 10,
              "solidity": 0.2
             }
            },
            "type": "bar"
           }
          ],
          "barpolar": [
           {
            "marker": {
             "line": {
              "color": "#E5ECF6",
              "width": 0.5
             },
             "pattern": {
              "fillmode": "overlay",
              "size": 10,
              "solidity": 0.2
             }
            },
            "type": "barpolar"
           }
          ],
          "carpet": [
           {
            "aaxis": {
             "endlinecolor": "#2a3f5f",
             "gridcolor": "white",
             "linecolor": "white",
             "minorgridcolor": "white",
             "startlinecolor": "#2a3f5f"
            },
            "baxis": {
             "endlinecolor": "#2a3f5f",
             "gridcolor": "white",
             "linecolor": "white",
             "minorgridcolor": "white",
             "startlinecolor": "#2a3f5f"
            },
            "type": "carpet"
           }
          ],
          "choropleth": [
           {
            "colorbar": {
             "outlinewidth": 0,
             "ticks": ""
            },
            "type": "choropleth"
           }
          ],
          "contour": [
           {
            "colorbar": {
             "outlinewidth": 0,
             "ticks": ""
            },
            "colorscale": [
             [
              0,
              "#0d0887"
             ],
             [
              0.1111111111111111,
              "#46039f"
             ],
             [
              0.2222222222222222,
              "#7201a8"
             ],
             [
              0.3333333333333333,
              "#9c179e"
             ],
             [
              0.4444444444444444,
              "#bd3786"
             ],
             [
              0.5555555555555556,
              "#d8576b"
             ],
             [
              0.6666666666666666,
              "#ed7953"
             ],
             [
              0.7777777777777778,
              "#fb9f3a"
             ],
             [
              0.8888888888888888,
              "#fdca26"
             ],
             [
              1,
              "#f0f921"
             ]
            ],
            "type": "contour"
           }
          ],
          "contourcarpet": [
           {
            "colorbar": {
             "outlinewidth": 0,
             "ticks": ""
            },
            "type": "contourcarpet"
           }
          ],
          "heatmap": [
           {
            "colorbar": {
             "outlinewidth": 0,
             "ticks": ""
            },
            "colorscale": [
             [
              0,
              "#0d0887"
             ],
             [
              0.1111111111111111,
              "#46039f"
             ],
             [
              0.2222222222222222,
              "#7201a8"
             ],
             [
              0.3333333333333333,
              "#9c179e"
             ],
             [
              0.4444444444444444,
              "#bd3786"
             ],
             [
              0.5555555555555556,
              "#d8576b"
             ],
             [
              0.6666666666666666,
              "#ed7953"
             ],
             [
              0.7777777777777778,
              "#fb9f3a"
             ],
             [
              0.8888888888888888,
              "#fdca26"
             ],
             [
              1,
              "#f0f921"
             ]
            ],
            "type": "heatmap"
           }
          ],
          "heatmapgl": [
           {
            "colorbar": {
             "outlinewidth": 0,
             "ticks": ""
            },
            "colorscale": [
             [
              0,
              "#0d0887"
             ],
             [
              0.1111111111111111,
              "#46039f"
             ],
             [
              0.2222222222222222,
              "#7201a8"
             ],
             [
              0.3333333333333333,
              "#9c179e"
             ],
             [
              0.4444444444444444,
              "#bd3786"
             ],
             [
              0.5555555555555556,
              "#d8576b"
             ],
             [
              0.6666666666666666,
              "#ed7953"
             ],
             [
              0.7777777777777778,
              "#fb9f3a"
             ],
             [
              0.8888888888888888,
              "#fdca26"
             ],
             [
              1,
              "#f0f921"
             ]
            ],
            "type": "heatmapgl"
           }
          ],
          "histogram": [
           {
            "marker": {
             "pattern": {
              "fillmode": "overlay",
              "size": 10,
              "solidity": 0.2
             }
            },
            "type": "histogram"
           }
          ],
          "histogram2d": [
           {
            "colorbar": {
             "outlinewidth": 0,
             "ticks": ""
            },
            "colorscale": [
             [
              0,
              "#0d0887"
             ],
             [
              0.1111111111111111,
              "#46039f"
             ],
             [
              0.2222222222222222,
              "#7201a8"
             ],
             [
              0.3333333333333333,
              "#9c179e"
             ],
             [
              0.4444444444444444,
              "#bd3786"
             ],
             [
              0.5555555555555556,
              "#d8576b"
             ],
             [
              0.6666666666666666,
              "#ed7953"
             ],
             [
              0.7777777777777778,
              "#fb9f3a"
             ],
             [
              0.8888888888888888,
              "#fdca26"
             ],
             [
              1,
              "#f0f921"
             ]
            ],
            "type": "histogram2d"
           }
          ],
          "histogram2dcontour": [
           {
            "colorbar": {
             "outlinewidth": 0,
             "ticks": ""
            },
            "colorscale": [
             [
              0,
              "#0d0887"
             ],
             [
              0.1111111111111111,
              "#46039f"
             ],
             [
              0.2222222222222222,
              "#7201a8"
             ],
             [
              0.3333333333333333,
              "#9c179e"
             ],
             [
              0.4444444444444444,
              "#bd3786"
             ],
             [
              0.5555555555555556,
              "#d8576b"
             ],
             [
              0.6666666666666666,
              "#ed7953"
             ],
             [
              0.7777777777777778,
              "#fb9f3a"
             ],
             [
              0.8888888888888888,
              "#fdca26"
             ],
             [
              1,
              "#f0f921"
             ]
            ],
            "type": "histogram2dcontour"
           }
          ],
          "mesh3d": [
           {
            "colorbar": {
             "outlinewidth": 0,
             "ticks": ""
            },
            "type": "mesh3d"
           }
          ],
          "parcoords": [
           {
            "line": {
             "colorbar": {
              "outlinewidth": 0,
              "ticks": ""
             }
            },
            "type": "parcoords"
           }
          ],
          "pie": [
           {
            "automargin": true,
            "type": "pie"
           }
          ],
          "scatter": [
           {
            "fillpattern": {
             "fillmode": "overlay",
             "size": 10,
             "solidity": 0.2
            },
            "type": "scatter"
           }
          ],
          "scatter3d": [
           {
            "line": {
             "colorbar": {
              "outlinewidth": 0,
              "ticks": ""
             }
            },
            "marker": {
             "colorbar": {
              "outlinewidth": 0,
              "ticks": ""
             }
            },
            "type": "scatter3d"
           }
          ],
          "scattercarpet": [
           {
            "marker": {
             "colorbar": {
              "outlinewidth": 0,
              "ticks": ""
             }
            },
            "type": "scattercarpet"
           }
          ],
          "scattergeo": [
           {
            "marker": {
             "colorbar": {
              "outlinewidth": 0,
              "ticks": ""
             }
            },
            "type": "scattergeo"
           }
          ],
          "scattergl": [
           {
            "marker": {
             "colorbar": {
              "outlinewidth": 0,
              "ticks": ""
             }
            },
            "type": "scattergl"
           }
          ],
          "scattermapbox": [
           {
            "marker": {
             "colorbar": {
              "outlinewidth": 0,
              "ticks": ""
             }
            },
            "type": "scattermapbox"
           }
          ],
          "scatterpolar": [
           {
            "marker": {
             "colorbar": {
              "outlinewidth": 0,
              "ticks": ""
             }
            },
            "type": "scatterpolar"
           }
          ],
          "scatterpolargl": [
           {
            "marker": {
             "colorbar": {
              "outlinewidth": 0,
              "ticks": ""
             }
            },
            "type": "scatterpolargl"
           }
          ],
          "scatterternary": [
           {
            "marker": {
             "colorbar": {
              "outlinewidth": 0,
              "ticks": ""
             }
            },
            "type": "scatterternary"
           }
          ],
          "surface": [
           {
            "colorbar": {
             "outlinewidth": 0,
             "ticks": ""
            },
            "colorscale": [
             [
              0,
              "#0d0887"
             ],
             [
              0.1111111111111111,
              "#46039f"
             ],
             [
              0.2222222222222222,
              "#7201a8"
             ],
             [
              0.3333333333333333,
              "#9c179e"
             ],
             [
              0.4444444444444444,
              "#bd3786"
             ],
             [
              0.5555555555555556,
              "#d8576b"
             ],
             [
              0.6666666666666666,
              "#ed7953"
             ],
             [
              0.7777777777777778,
              "#fb9f3a"
             ],
             [
              0.8888888888888888,
              "#fdca26"
             ],
             [
              1,
              "#f0f921"
             ]
            ],
            "type": "surface"
           }
          ],
          "table": [
           {
            "cells": {
             "fill": {
              "color": "#EBF0F8"
             },
             "line": {
              "color": "white"
             }
            },
            "header": {
             "fill": {
              "color": "#C8D4E3"
             },
             "line": {
              "color": "white"
             }
            },
            "type": "table"
           }
          ]
         },
         "layout": {
          "annotationdefaults": {
           "arrowcolor": "#2a3f5f",
           "arrowhead": 0,
           "arrowwidth": 1
          },
          "autotypenumbers": "strict",
          "coloraxis": {
           "colorbar": {
            "outlinewidth": 0,
            "ticks": ""
           }
          },
          "colorscale": {
           "diverging": [
            [
             0,
             "#8e0152"
            ],
            [
             0.1,
             "#c51b7d"
            ],
            [
             0.2,
             "#de77ae"
            ],
            [
             0.3,
             "#f1b6da"
            ],
            [
             0.4,
             "#fde0ef"
            ],
            [
             0.5,
             "#f7f7f7"
            ],
            [
             0.6,
             "#e6f5d0"
            ],
            [
             0.7,
             "#b8e186"
            ],
            [
             0.8,
             "#7fbc41"
            ],
            [
             0.9,
             "#4d9221"
            ],
            [
             1,
             "#276419"
            ]
           ],
           "sequential": [
            [
             0,
             "#0d0887"
            ],
            [
             0.1111111111111111,
             "#46039f"
            ],
            [
             0.2222222222222222,
             "#7201a8"
            ],
            [
             0.3333333333333333,
             "#9c179e"
            ],
            [
             0.4444444444444444,
             "#bd3786"
            ],
            [
             0.5555555555555556,
             "#d8576b"
            ],
            [
             0.6666666666666666,
             "#ed7953"
            ],
            [
             0.7777777777777778,
             "#fb9f3a"
            ],
            [
             0.8888888888888888,
             "#fdca26"
            ],
            [
             1,
             "#f0f921"
            ]
           ],
           "sequentialminus": [
            [
             0,
             "#0d0887"
            ],
            [
             0.1111111111111111,
             "#46039f"
            ],
            [
             0.2222222222222222,
             "#7201a8"
            ],
            [
             0.3333333333333333,
             "#9c179e"
            ],
            [
             0.4444444444444444,
             "#bd3786"
            ],
            [
             0.5555555555555556,
             "#d8576b"
            ],
            [
             0.6666666666666666,
             "#ed7953"
            ],
            [
             0.7777777777777778,
             "#fb9f3a"
            ],
            [
             0.8888888888888888,
             "#fdca26"
            ],
            [
             1,
             "#f0f921"
            ]
           ]
          },
          "colorway": [
           "#636efa",
           "#EF553B",
           "#00cc96",
           "#ab63fa",
           "#FFA15A",
           "#19d3f3",
           "#FF6692",
           "#B6E880",
           "#FF97FF",
           "#FECB52"
          ],
          "font": {
           "color": "#2a3f5f"
          },
          "geo": {
           "bgcolor": "white",
           "lakecolor": "white",
           "landcolor": "#E5ECF6",
           "showlakes": true,
           "showland": true,
           "subunitcolor": "white"
          },
          "hoverlabel": {
           "align": "left"
          },
          "hovermode": "closest",
          "mapbox": {
           "style": "light"
          },
          "paper_bgcolor": "white",
          "plot_bgcolor": "#E5ECF6",
          "polar": {
           "angularaxis": {
            "gridcolor": "white",
            "linecolor": "white",
            "ticks": ""
           },
           "bgcolor": "#E5ECF6",
           "radialaxis": {
            "gridcolor": "white",
            "linecolor": "white",
            "ticks": ""
           }
          },
          "scene": {
           "xaxis": {
            "backgroundcolor": "#E5ECF6",
            "gridcolor": "white",
            "gridwidth": 2,
            "linecolor": "white",
            "showbackground": true,
            "ticks": "",
            "zerolinecolor": "white"
           },
           "yaxis": {
            "backgroundcolor": "#E5ECF6",
            "gridcolor": "white",
            "gridwidth": 2,
            "linecolor": "white",
            "showbackground": true,
            "ticks": "",
            "zerolinecolor": "white"
           },
           "zaxis": {
            "backgroundcolor": "#E5ECF6",
            "gridcolor": "white",
            "gridwidth": 2,
            "linecolor": "white",
            "showbackground": true,
            "ticks": "",
            "zerolinecolor": "white"
           }
          },
          "shapedefaults": {
           "line": {
            "color": "#2a3f5f"
           }
          },
          "ternary": {
           "aaxis": {
            "gridcolor": "white",
            "linecolor": "white",
            "ticks": ""
           },
           "baxis": {
            "gridcolor": "white",
            "linecolor": "white",
            "ticks": ""
           },
           "bgcolor": "#E5ECF6",
           "caxis": {
            "gridcolor": "white",
            "linecolor": "white",
            "ticks": ""
           }
          },
          "title": {
           "x": 0.05
          },
          "xaxis": {
           "automargin": true,
           "gridcolor": "white",
           "linecolor": "white",
           "ticks": "",
           "title": {
            "standoff": 15
           },
           "zerolinecolor": "white",
           "zerolinewidth": 2
          },
          "yaxis": {
           "automargin": true,
           "gridcolor": "white",
           "linecolor": "white",
           "ticks": "",
           "title": {
            "standoff": 15
           },
           "zerolinecolor": "white",
           "zerolinewidth": 2
          }
         }
        },
        "title": {
         "text": "Total Nitrogen over January 2023"
        },
        "xaxis": {
         "anchor": "y",
         "autorange": true,
         "domain": [
          0,
          1
         ],
         "range": [
          "2023-01-08 03:39:00.716",
          "2023-01-31 23:50:59.284"
         ],
         "title": {
          "text": "Date"
         },
         "type": "date"
        },
        "yaxis": {
         "anchor": "x",
         "autorange": true,
         "domain": [
          0,
          1
         ],
         "range": [
          -1.1553398058252429,
          15.155339805825243
         ],
         "title": {
          "text": "Total Nitrogen [mg/L]"
         },
         "type": "category"
        }
       }
      },
      "image/png": "[encoded data removed]",
      "text/html": [
       "<div>                            <div id=\"f2bebb62-61de-4f59-9d01-1180dc600b95\" class=\"plotly-graph-div\" style=\"height:525px; width:100%;\"></div>            <script type=\"text/javascript\">                require([\"plotly\"], function(Plotly) {                    window.PLOTLYENV=window.PLOTLYENV || {};                                    if (document.getElementById(\"f2bebb62-61de-4f59-9d01-1180dc600b95\")) {                    Plotly.newPlot(                        \"f2bebb62-61de-4f59-9d01-1180dc600b95\",                        [{\"hovertemplate\":\"DateTime=%{x}\\u003cbr\\u003ep00600=%{y}\\u003cextra\\u003e\\u003c\\u002fextra\\u003e\",\"legendgroup\":\"\",\"marker\":{\"color\":\"#636efa\",\"symbol\":\"circle\"},\"mode\":\"markers\",\"name\":\"\",\"orientation\":\"v\",\"showlegend\":false,\"x\":[\"2023-01-23T10:00:00\",\"2023-01-24T09:30:00\",\"2023-01-10T09:15:00\",\"2023-01-23T10:45:00\",\"2023-01-12T08:30:00\",\"2023-01-09T12:00:00\",\"2023-01-09T12:45:00\",\"2023-01-26T11:30:00\",\"2023-01-26T12:00:00\",\"2023-01-30T13:45:00\",\"2023-01-10T11:30:00\",\"2023-01-09T10:30:00\",\"2023-01-30T17:00:00\",\"2023-01-30T13:00:00\",\"2023-01-17T09:50:00\",\"2023-01-12T10:00:00\",\"2023-01-10T10:00:00\",\"2023-01-10T10:30:00\",\"2023-01-12T12:00:00\",\"2023-01-18T10:00:00\",\"2023-01-10T10:00:00\",null,null,null,null,null,null,null,null,null,null,null,null,null,\"2023-01-14T19:12:00\",\"2023-01-17T13:30:00\",\"2023-01-17T13:37:00\",\"2023-01-17T13:44:00\",\"2023-01-17T13:45:00\",\"2023-01-17T13:52:00\",\"2023-01-17T14:00:00\",\"2023-01-24T15:50:00\",\"2023-01-24T15:55:00\",\"2023-01-24T16:00:00\",\"2023-01-24T16:01:00\",\"2023-01-24T16:05:00\",\"2023-01-24T16:10:00\",\"2023-01-09T11:30:00\",\"2023-01-11T11:00:00\",\"2023-01-19T09:30:00\",\"2023-01-10T10:20:00\",\"2023-01-19T11:00:00\",\"2023-01-09T11:50:00\",\"2023-01-11T11:40:00\",null,\"2023-01-30T12:30:00\"],\"xaxis\":\"x\",\"y\":[\"2.3\",\"6.4\",\"1.9\",\"5.8\",\"0.94\",null,\"1.9\",null,\"2.0\",\"1.3\",null,null,null,null,\"1.5\",\"1.7\",null,\"0.12\",\"1.1\",\"2.2\",\"9.7\",null,null,null,null,null,null,null,null,null,null,null,null,null,null,null,null,null,null,null,null,null,null,null,null,null,null,\"3.6\",\"1.5\",\"2.0\",null,\"2.1\",null,null,null,null],\"yaxis\":\"y\",\"type\":\"scatter\"}],                        {\"template\":{\"data\":{\"histogram2dcontour\":[{\"type\":\"histogram2dcontour\",\"colorbar\":{\"outlinewidth\":0,\"ticks\":\"\"},\"colorscale\":[[0.0,\"#0d0887\"],[0.1111111111111111,\"#46039f\"],[0.2222222222222222,\"#7201a8\"],[0.3333333333333333,\"#9c179e\"],[0.4444444444444444,\"#bd3786\"],[0.5555555555555556,\"#d8576b\"],[0.6666666666666666,\"#ed7953\"],[0.7777777777777778,\"#fb9f3a\"],[0.8888888888888888,\"#fdca26\"],[1.0,\"#f0f921\"]]}],\"choropleth\":[{\"type\":\"choropleth\",\"colorbar\":{\"outlinewidth\":0,\"ticks\":\"\"}}],\"histogram2d\":[{\"type\":\"histogram2d\",\"colorbar\":{\"outlinewidth\":0,\"ticks\":\"\"},\"colorscale\":[[0.0,\"#0d0887\"],[0.1111111111111111,\"#46039f\"],[0.2222222222222222,\"#7201a8\"],[0.3333333333333333,\"#9c179e\"],[0.4444444444444444,\"#bd3786\"],[0.5555555555555556,\"#d8576b\"],[0.6666666666666666,\"#ed7953\"],[0.7777777777777778,\"#fb9f3a\"],[0.8888888888888888,\"#fdca26\"],[1.0,\"#f0f921\"]]}],\"heatmap\":[{\"type\":\"heatmap\",\"colorbar\":{\"outlinewidth\":0,\"ticks\":\"\"},\"colorscale\":[[0.0,\"#0d0887\"],[0.1111111111111111,\"#46039f\"],[0.2222222222222222,\"#7201a8\"],[0.3333333333333333,\"#9c179e\"],[0.4444444444444444,\"#bd3786\"],[0.5555555555555556,\"#d8576b\"],[0.6666666666666666,\"#ed7953\"],[0.7777777777777778,\"#fb9f3a\"],[0.8888888888888888,\"#fdca26\"],[1.0,\"#f0f921\"]]}],\"heatmapgl\":[{\"type\":\"heatmapgl\",\"colorbar\":{\"outlinewidth\":0,\"ticks\":\"\"},\"colorscale\":[[0.0,\"#0d0887\"],[0.1111111111111111,\"#46039f\"],[0.2222222222222222,\"#7201a8\"],[0.3333333333333333,\"#9c179e\"],[0.4444444444444444,\"#bd3786\"],[0.5555555555555556,\"#d8576b\"],[0.6666666666666666,\"#ed7953\"],[0.7777777777777778,\"#fb9f3a\"],[0.8888888888888888,\"#fdca26\"],[1.0,\"#f0f921\"]]}],\"contourcarpet\":[{\"type\":\"contourcarpet\",\"colorbar\":{\"outlinewidth\":0,\"ticks\":\"\"}}],\"contour\":[{\"type\":\"contour\",\"colorbar\":{\"outlinewidth\":0,\"ticks\":\"\"},\"colorscale\":[[0.0,\"#0d0887\"],[0.1111111111111111,\"#46039f\"],[0.2222222222222222,\"#7201a8\"],[0.3333333333333333,\"#9c179e\"],[0.4444444444444444,\"#bd3786\"],[0.5555555555555556,\"#d8576b\"],[0.6666666666666666,\"#ed7953\"],[0.7777777777777778,\"#fb9f3a\"],[0.8888888888888888,\"#fdca26\"],[1.0,\"#f0f921\"]]}],\"surface\":[{\"type\":\"surface\",\"colorbar\":{\"outlinewidth\":0,\"ticks\":\"\"},\"colorscale\":[[0.0,\"#0d0887\"],[0.1111111111111111,\"#46039f\"],[0.2222222222222222,\"#7201a8\"],[0.3333333333333333,\"#9c179e\"],[0.4444444444444444,\"#bd3786\"],[0.5555555555555556,\"#d8576b\"],[0.6666666666666666,\"#ed7953\"],[0.7777777777777778,\"#fb9f3a\"],[0.8888888888888888,\"#fdca26\"],[1.0,\"#f0f921\"]]}],\"mesh3d\":[{\"type\":\"mesh3d\",\"colorbar\":{\"outlinewidth\":0,\"ticks\":\"\"}}],\"scatter\":[{\"fillpattern\":{\"fillmode\":\"overlay\",\"size\":10,\"solidity\":0.2},\"type\":\"scatter\"}],\"parcoords\":[{\"type\":\"parcoords\",\"line\":{\"colorbar\":{\"outlinewidth\":0,\"ticks\":\"\"}}}],\"scatterpolargl\":[{\"type\":\"scatterpolargl\",\"marker\":{\"colorbar\":{\"outlinewidth\":0,\"ticks\":\"\"}}}],\"bar\":[{\"error_x\":{\"color\":\"#2a3f5f\"},\"error_y\":{\"color\":\"#2a3f5f\"},\"marker\":{\"line\":{\"color\":\"#E5ECF6\",\"width\":0.5},\"pattern\":{\"fillmode\":\"overlay\",\"size\":10,\"solidity\":0.2}},\"type\":\"bar\"}],\"scattergeo\":[{\"type\":\"scattergeo\",\"marker\":{\"colorbar\":{\"outlinewidth\":0,\"ticks\":\"\"}}}],\"scatterpolar\":[{\"type\":\"scatterpolar\",\"marker\":{\"colorbar\":{\"outlinewidth\":0,\"ticks\":\"\"}}}],\"histogram\":[{\"marker\":{\"pattern\":{\"fillmode\":\"overlay\",\"size\":10,\"solidity\":0.2}},\"type\":\"histogram\"}],\"scattergl\":[{\"type\":\"scattergl\",\"marker\":{\"colorbar\":{\"outlinewidth\":0,\"ticks\":\"\"}}}],\"scatter3d\":[{\"type\":\"scatter3d\",\"line\":{\"colorbar\":{\"outlinewidth\":0,\"ticks\":\"\"}},\"marker\":{\"colorbar\":{\"outlinewidth\":0,\"ticks\":\"\"}}}],\"scattermapbox\":[{\"type\":\"scattermapbox\",\"marker\":{\"colorbar\":{\"outlinewidth\":0,\"ticks\":\"\"}}}],\"scatterternary\":[{\"type\":\"scatterternary\",\"marker\":{\"colorbar\":{\"outlinewidth\":0,\"ticks\":\"\"}}}],\"scattercarpet\":[{\"type\":\"scattercarpet\",\"marker\":{\"colorbar\":{\"outlinewidth\":0,\"ticks\":\"\"}}}],\"carpet\":[{\"aaxis\":{\"endlinecolor\":\"#2a3f5f\",\"gridcolor\":\"white\",\"linecolor\":\"white\",\"minorgridcolor\":\"white\",\"startlinecolor\":\"#2a3f5f\"},\"baxis\":{\"endlinecolor\":\"#2a3f5f\",\"gridcolor\":\"white\",\"linecolor\":\"white\",\"minorgridcolor\":\"white\",\"startlinecolor\":\"#2a3f5f\"},\"type\":\"carpet\"}],\"table\":[{\"cells\":{\"fill\":{\"color\":\"#EBF0F8\"},\"line\":{\"color\":\"white\"}},\"header\":{\"fill\":{\"color\":\"#C8D4E3\"},\"line\":{\"color\":\"white\"}},\"type\":\"table\"}],\"barpolar\":[{\"marker\":{\"line\":{\"color\":\"#E5ECF6\",\"width\":0.5},\"pattern\":{\"fillmode\":\"overlay\",\"size\":10,\"solidity\":0.2}},\"type\":\"barpolar\"}],\"pie\":[{\"automargin\":true,\"type\":\"pie\"}]},\"layout\":{\"autotypenumbers\":\"strict\",\"colorway\":[\"#636efa\",\"#EF553B\",\"#00cc96\",\"#ab63fa\",\"#FFA15A\",\"#19d3f3\",\"#FF6692\",\"#B6E880\",\"#FF97FF\",\"#FECB52\"],\"font\":{\"color\":\"#2a3f5f\"},\"hovermode\":\"closest\",\"hoverlabel\":{\"align\":\"left\"},\"paper_bgcolor\":\"white\",\"plot_bgcolor\":\"#E5ECF6\",\"polar\":{\"bgcolor\":\"#E5ECF6\",\"angularaxis\":{\"gridcolor\":\"white\",\"linecolor\":\"white\",\"ticks\":\"\"},\"radialaxis\":{\"gridcolor\":\"white\",\"linecolor\":\"white\",\"ticks\":\"\"}},\"ternary\":{\"bgcolor\":\"#E5ECF6\",\"aaxis\":{\"gridcolor\":\"white\",\"linecolor\":\"white\",\"ticks\":\"\"},\"baxis\":{\"gridcolor\":\"white\",\"linecolor\":\"white\",\"ticks\":\"\"},\"caxis\":{\"gridcolor\":\"white\",\"linecolor\":\"white\",\"ticks\":\"\"}},\"coloraxis\":{\"colorbar\":{\"outlinewidth\":0,\"ticks\":\"\"}},\"colorscale\":{\"sequential\":[[0.0,\"#0d0887\"],[0.1111111111111111,\"#46039f\"],[0.2222222222222222,\"#7201a8\"],[0.3333333333333333,\"#9c179e\"],[0.4444444444444444,\"#bd3786\"],[0.5555555555555556,\"#d8576b\"],[0.6666666666666666,\"#ed7953\"],[0.7777777777777778,\"#fb9f3a\"],[0.8888888888888888,\"#fdca26\"],[1.0,\"#f0f921\"]],\"sequentialminus\":[[0.0,\"#0d0887\"],[0.1111111111111111,\"#46039f\"],[0.2222222222222222,\"#7201a8\"],[0.3333333333333333,\"#9c179e\"],[0.4444444444444444,\"#bd3786\"],[0.5555555555555556,\"#d8576b\"],[0.6666666666666666,\"#ed7953\"],[0.7777777777777778,\"#fb9f3a\"],[0.8888888888888888,\"#fdca26\"],[1.0,\"#f0f921\"]],\"diverging\":[[0,\"#8e0152\"],[0.1,\"#c51b7d\"],[0.2,\"#de77ae\"],[0.3,\"#f1b6da\"],[0.4,\"#fde0ef\"],[0.5,\"#f7f7f7\"],[0.6,\"#e6f5d0\"],[0.7,\"#b8e186\"],[0.8,\"#7fbc41\"],[0.9,\"#4d9221\"],[1,\"#276419\"]]},\"xaxis\":{\"gridcolor\":\"white\",\"linecolor\":\"white\",\"ticks\":\"\",\"title\":{\"standoff\":15},\"zerolinecolor\":\"white\",\"automargin\":true,\"zerolinewidth\":2},\"yaxis\":{\"gridcolor\":\"white\",\"linecolor\":\"white\",\"ticks\":\"\",\"title\":{\"standoff\":15},\"zerolinecolor\":\"white\",\"automargin\":true,\"zerolinewidth\":2},\"scene\":{\"xaxis\":{\"backgroundcolor\":\"#E5ECF6\",\"gridcolor\":\"white\",\"linecolor\":\"white\",\"showbackground\":true,\"ticks\":\"\",\"zerolinecolor\":\"white\",\"gridwidth\":2},\"yaxis\":{\"backgroundcolor\":\"#E5ECF6\",\"gridcolor\":\"white\",\"linecolor\":\"white\",\"showbackground\":true,\"ticks\":\"\",\"zerolinecolor\":\"white\",\"gridwidth\":2},\"zaxis\":{\"backgroundcolor\":\"#E5ECF6\",\"gridcolor\":\"white\",\"linecolor\":\"white\",\"showbackground\":true,\"ticks\":\"\",\"zerolinecolor\":\"white\",\"gridwidth\":2}},\"shapedefaults\":{\"line\":{\"color\":\"#2a3f5f\"}},\"annotationdefaults\":{\"arrowcolor\":\"#2a3f5f\",\"arrowhead\":0,\"arrowwidth\":1},\"geo\":{\"bgcolor\":\"white\",\"landcolor\":\"#E5ECF6\",\"subunitcolor\":\"white\",\"showland\":true,\"showlakes\":true,\"lakecolor\":\"white\"},\"title\":{\"x\":0.05},\"mapbox\":{\"style\":\"light\"}}},\"xaxis\":{\"anchor\":\"y\",\"domain\":[0.0,1.0],\"title\":{\"text\":\"Date\"}},\"yaxis\":{\"anchor\":\"x\",\"domain\":[0.0,1.0],\"title\":{\"text\":\"Total Nitrogen [mg\\u002fL]\"}},\"legend\":{\"tracegroupgap\":0},\"title\":{\"text\":\"Total Nitrogen over January 2023\"}},                        {\"responsive\": true}                    ).then(function(){\n",
       "                            \n",
       "var gd = document.getElementById('f2bebb62-61de-4f59-9d01-1180dc600b95');\n",
       "var x = new MutationObserver(function (mutations, observer) {{\n",
       "        var display = window.getComputedStyle(gd).display;\n",
       "        if (!display || display === 'none') {{\n",
       "            console.log([gd, 'removed!']);\n",
       "            Plotly.purge(gd);\n",
       "            observer.disconnect();\n",
       "        }}\n",
       "}});\n",
       "\n",
       "// Listen for the removal of the full notebook cells\n",
       "var notebookContainer = gd.closest('#notebook-container');\n",
       "if (notebookContainer) {{\n",
       "    x.observe(notebookContainer, {childList: true});\n",
       "}}\n",
       "\n",
       "// Listen for the clearing of the current output cell\n",
       "var outputEl = gd.closest('.output');\n",
       "if (outputEl) {{\n",
       "    x.observe(outputEl, {childList: true});\n",
       "}}\n",
       "\n",
       "                        })                };                });            </script>        </div>"
      ]
     },
     "metadata": {},
     "output_type": "display_data"
    }
   ],
   "source": [
    "fig.update_layout(\n",
    "    xaxis_title='Date',\n",
    "    yaxis_title='Total Nitrogen [mg/L]'\n",
    ")\n",
    "\n",
    "fig.show()"
   ]
  },
  {
   "cell_type": "code",
   "execution_count": 36,
   "id": "7f62e147-f8be-4163-8429-d0664fe3035b",
   "metadata": {},
   "outputs": [
    {
     "data": {
      "application/vnd.plotly.v1+json": {
       "config": {
        "plotlyServerURL": "https://plot.ly"
       },
       "data": [
        {
         "hovertemplate": "DateTime=%{x}<br>p00600=%{y}<extra></extra>",
         "legendgroup": "",
         "marker": {
          "color": "#636efa",
          "symbol": "circle"
         },
         "mode": "markers",
         "name": "",
         "orientation": "v",
         "showlegend": false,
         "type": "scatter",
         "x": [
          "2023-01-23T10:00:00",
          "2023-01-24T09:30:00",
          "2023-01-10T09:15:00",
          "2023-01-23T10:45:00",
          "2023-01-12T08:30:00",
          "2023-01-09T12:00:00",
          "2023-01-09T12:45:00",
          "2023-01-26T11:30:00",
          "2023-01-26T12:00:00",
          "2023-01-30T13:45:00",
          "2023-01-10T11:30:00",
          "2023-01-09T10:30:00",
          "2023-01-30T17:00:00",
          "2023-01-30T13:00:00",
          "2023-01-17T09:50:00",
          "2023-01-12T10:00:00",
          "2023-01-10T10:00:00",
          "2023-01-10T10:30:00",
          "2023-01-12T12:00:00",
          "2023-01-18T10:00:00",
          "2023-01-10T10:00:00",
          null,
          null,
          null,
          null,
          null,
          null,
          null,
          null,
          null,
          null,
          null,
          null,
          null,
          "2023-01-14T19:12:00",
          "2023-01-17T13:30:00",
          "2023-01-17T13:37:00",
          "2023-01-17T13:44:00",
          "2023-01-17T13:45:00",
          "2023-01-17T13:52:00",
          "2023-01-17T14:00:00",
          "2023-01-24T15:50:00",
          "2023-01-24T15:55:00",
          "2023-01-24T16:00:00",
          "2023-01-24T16:01:00",
          "2023-01-24T16:05:00",
          "2023-01-24T16:10:00",
          "2023-01-09T11:30:00",
          "2023-01-11T11:00:00",
          "2023-01-19T09:30:00",
          "2023-01-10T10:20:00",
          "2023-01-19T11:00:00",
          "2023-01-09T11:50:00",
          "2023-01-11T11:40:00",
          null,
          "2023-01-30T12:30:00"
         ],
         "xaxis": "x",
         "y": [
          "2.3",
          "6.4",
          "1.9",
          "5.8",
          "0.94",
          null,
          "1.9",
          null,
          "2.0",
          "1.3",
          null,
          null,
          null,
          null,
          "1.5",
          "1.7",
          null,
          "0.12",
          "1.1",
          "2.2",
          "9.7",
          null,
          null,
          null,
          null,
          null,
          null,
          null,
          null,
          null,
          null,
          null,
          null,
          null,
          null,
          null,
          null,
          null,
          null,
          null,
          null,
          null,
          null,
          null,
          null,
          null,
          null,
          "3.6",
          "1.5",
          "2.0",
          null,
          "2.1",
          null,
          null,
          null,
          null
         ],
         "yaxis": "y"
        }
       ],
       "layout": {
        "autosize": true,
        "dragmode": "pan",
        "legend": {
         "tracegroupgap": 0
        },
        "template": {
         "data": {
          "bar": [
           {
            "error_x": {
             "color": "#2a3f5f"
            },
            "error_y": {
             "color": "#2a3f5f"
            },
            "marker": {
             "line": {
              "color": "#E5ECF6",
              "width": 0.5
             },
             "pattern": {
              "fillmode": "overlay",
              "size": 10,
              "solidity": 0.2
             }
            },
            "type": "bar"
           }
          ],
          "barpolar": [
           {
            "marker": {
             "line": {
              "color": "#E5ECF6",
              "width": 0.5
             },
             "pattern": {
              "fillmode": "overlay",
              "size": 10,
              "solidity": 0.2
             }
            },
            "type": "barpolar"
           }
          ],
          "carpet": [
           {
            "aaxis": {
             "endlinecolor": "#2a3f5f",
             "gridcolor": "white",
             "linecolor": "white",
             "minorgridcolor": "white",
             "startlinecolor": "#2a3f5f"
            },
            "baxis": {
             "endlinecolor": "#2a3f5f",
             "gridcolor": "white",
             "linecolor": "white",
             "minorgridcolor": "white",
             "startlinecolor": "#2a3f5f"
            },
            "type": "carpet"
           }
          ],
          "choropleth": [
           {
            "colorbar": {
             "outlinewidth": 0,
             "ticks": ""
            },
            "type": "choropleth"
           }
          ],
          "contour": [
           {
            "colorbar": {
             "outlinewidth": 0,
             "ticks": ""
            },
            "colorscale": [
             [
              0,
              "#0d0887"
             ],
             [
              0.1111111111111111,
              "#46039f"
             ],
             [
              0.2222222222222222,
              "#7201a8"
             ],
             [
              0.3333333333333333,
              "#9c179e"
             ],
             [
              0.4444444444444444,
              "#bd3786"
             ],
             [
              0.5555555555555556,
              "#d8576b"
             ],
             [
              0.6666666666666666,
              "#ed7953"
             ],
             [
              0.7777777777777778,
              "#fb9f3a"
             ],
             [
              0.8888888888888888,
              "#fdca26"
             ],
             [
              1,
              "#f0f921"
             ]
            ],
            "type": "contour"
           }
          ],
          "contourcarpet": [
           {
            "colorbar": {
             "outlinewidth": 0,
             "ticks": ""
            },
            "type": "contourcarpet"
           }
          ],
          "heatmap": [
           {
            "colorbar": {
             "outlinewidth": 0,
             "ticks": ""
            },
            "colorscale": [
             [
              0,
              "#0d0887"
             ],
             [
              0.1111111111111111,
              "#46039f"
             ],
             [
              0.2222222222222222,
              "#7201a8"
             ],
             [
              0.3333333333333333,
              "#9c179e"
             ],
             [
              0.4444444444444444,
              "#bd3786"
             ],
             [
              0.5555555555555556,
              "#d8576b"
             ],
             [
              0.6666666666666666,
              "#ed7953"
             ],
             [
              0.7777777777777778,
              "#fb9f3a"
             ],
             [
              0.8888888888888888,
              "#fdca26"
             ],
             [
              1,
              "#f0f921"
             ]
            ],
            "type": "heatmap"
           }
          ],
          "heatmapgl": [
           {
            "colorbar": {
             "outlinewidth": 0,
             "ticks": ""
            },
            "colorscale": [
             [
              0,
              "#0d0887"
             ],
             [
              0.1111111111111111,
              "#46039f"
             ],
             [
              0.2222222222222222,
              "#7201a8"
             ],
             [
              0.3333333333333333,
              "#9c179e"
             ],
             [
              0.4444444444444444,
              "#bd3786"
             ],
             [
              0.5555555555555556,
              "#d8576b"
             ],
             [
              0.6666666666666666,
              "#ed7953"
             ],
             [
              0.7777777777777778,
              "#fb9f3a"
             ],
             [
              0.8888888888888888,
              "#fdca26"
             ],
             [
              1,
              "#f0f921"
             ]
            ],
            "type": "heatmapgl"
           }
          ],
          "histogram": [
           {
            "marker": {
             "pattern": {
              "fillmode": "overlay",
              "size": 10,
              "solidity": 0.2
             }
            },
            "type": "histogram"
           }
          ],
          "histogram2d": [
           {
            "colorbar": {
             "outlinewidth": 0,
             "ticks": ""
            },
            "colorscale": [
             [
              0,
              "#0d0887"
             ],
             [
              0.1111111111111111,
              "#46039f"
             ],
             [
              0.2222222222222222,
              "#7201a8"
             ],
             [
              0.3333333333333333,
              "#9c179e"
             ],
             [
              0.4444444444444444,
              "#bd3786"
             ],
             [
              0.5555555555555556,
              "#d8576b"
             ],
             [
              0.6666666666666666,
              "#ed7953"
             ],
             [
              0.7777777777777778,
              "#fb9f3a"
             ],
             [
              0.8888888888888888,
              "#fdca26"
             ],
             [
              1,
              "#f0f921"
             ]
            ],
            "type": "histogram2d"
           }
          ],
          "histogram2dcontour": [
           {
            "colorbar": {
             "outlinewidth": 0,
             "ticks": ""
            },
            "colorscale": [
             [
              0,
              "#0d0887"
             ],
             [
              0.1111111111111111,
              "#46039f"
             ],
             [
              0.2222222222222222,
              "#7201a8"
             ],
             [
              0.3333333333333333,
              "#9c179e"
             ],
             [
              0.4444444444444444,
              "#bd3786"
             ],
             [
              0.5555555555555556,
              "#d8576b"
             ],
             [
              0.6666666666666666,
              "#ed7953"
             ],
             [
              0.7777777777777778,
              "#fb9f3a"
             ],
             [
              0.8888888888888888,
              "#fdca26"
             ],
             [
              1,
              "#f0f921"
             ]
            ],
            "type": "histogram2dcontour"
           }
          ],
          "mesh3d": [
           {
            "colorbar": {
             "outlinewidth": 0,
             "ticks": ""
            },
            "type": "mesh3d"
           }
          ],
          "parcoords": [
           {
            "line": {
             "colorbar": {
              "outlinewidth": 0,
              "ticks": ""
             }
            },
            "type": "parcoords"
           }
          ],
          "pie": [
           {
            "automargin": true,
            "type": "pie"
           }
          ],
          "scatter": [
           {
            "fillpattern": {
             "fillmode": "overlay",
             "size": 10,
             "solidity": 0.2
            },
            "type": "scatter"
           }
          ],
          "scatter3d": [
           {
            "line": {
             "colorbar": {
              "outlinewidth": 0,
              "ticks": ""
             }
            },
            "marker": {
             "colorbar": {
              "outlinewidth": 0,
              "ticks": ""
             }
            },
            "type": "scatter3d"
           }
          ],
          "scattercarpet": [
           {
            "marker": {
             "colorbar": {
              "outlinewidth": 0,
              "ticks": ""
             }
            },
            "type": "scattercarpet"
           }
          ],
          "scattergeo": [
           {
            "marker": {
             "colorbar": {
              "outlinewidth": 0,
              "ticks": ""
             }
            },
            "type": "scattergeo"
           }
          ],
          "scattergl": [
           {
            "marker": {
             "colorbar": {
              "outlinewidth": 0,
              "ticks": ""
             }
            },
            "type": "scattergl"
           }
          ],
          "scattermapbox": [
           {
            "marker": {
             "colorbar": {
              "outlinewidth": 0,
              "ticks": ""
             }
            },
            "type": "scattermapbox"
           }
          ],
          "scatterpolar": [
           {
            "marker": {
             "colorbar": {
              "outlinewidth": 0,
              "ticks": ""
             }
            },
            "type": "scatterpolar"
           }
          ],
          "scatterpolargl": [
           {
            "marker": {
             "colorbar": {
              "outlinewidth": 0,
              "ticks": ""
             }
            },
            "type": "scatterpolargl"
           }
          ],
          "scatterternary": [
           {
            "marker": {
             "colorbar": {
              "outlinewidth": 0,
              "ticks": ""
             }
            },
            "type": "scatterternary"
           }
          ],
          "surface": [
           {
            "colorbar": {
             "outlinewidth": 0,
             "ticks": ""
            },
            "colorscale": [
             [
              0,
              "#0d0887"
             ],
             [
              0.1111111111111111,
              "#46039f"
             ],
             [
              0.2222222222222222,
              "#7201a8"
             ],
             [
              0.3333333333333333,
              "#9c179e"
             ],
             [
              0.4444444444444444,
              "#bd3786"
             ],
             [
              0.5555555555555556,
              "#d8576b"
             ],
             [
              0.6666666666666666,
              "#ed7953"
             ],
             [
              0.7777777777777778,
              "#fb9f3a"
             ],
             [
              0.8888888888888888,
              "#fdca26"
             ],
             [
              1,
              "#f0f921"
             ]
            ],
            "type": "surface"
           }
          ],
          "table": [
           {
            "cells": {
             "fill": {
              "color": "#EBF0F8"
             },
             "line": {
              "color": "white"
             }
            },
            "header": {
             "fill": {
              "color": "#C8D4E3"
             },
             "line": {
              "color": "white"
             }
            },
            "type": "table"
           }
          ]
         },
         "layout": {
          "annotationdefaults": {
           "arrowcolor": "#2a3f5f",
           "arrowhead": 0,
           "arrowwidth": 1
          },
          "autotypenumbers": "strict",
          "coloraxis": {
           "colorbar": {
            "outlinewidth": 0,
            "ticks": ""
           }
          },
          "colorscale": {
           "diverging": [
            [
             0,
             "#8e0152"
            ],
            [
             0.1,
             "#c51b7d"
            ],
            [
             0.2,
             "#de77ae"
            ],
            [
             0.3,
             "#f1b6da"
            ],
            [
             0.4,
             "#fde0ef"
            ],
            [
             0.5,
             "#f7f7f7"
            ],
            [
             0.6,
             "#e6f5d0"
            ],
            [
             0.7,
             "#b8e186"
            ],
            [
             0.8,
             "#7fbc41"
            ],
            [
             0.9,
             "#4d9221"
            ],
            [
             1,
             "#276419"
            ]
           ],
           "sequential": [
            [
             0,
             "#0d0887"
            ],
            [
             0.1111111111111111,
             "#46039f"
            ],
            [
             0.2222222222222222,
             "#7201a8"
            ],
            [
             0.3333333333333333,
             "#9c179e"
            ],
            [
             0.4444444444444444,
             "#bd3786"
            ],
            [
             0.5555555555555556,
             "#d8576b"
            ],
            [
             0.6666666666666666,
             "#ed7953"
            ],
            [
             0.7777777777777778,
             "#fb9f3a"
            ],
            [
             0.8888888888888888,
             "#fdca26"
            ],
            [
             1,
             "#f0f921"
            ]
           ],
           "sequentialminus": [
            [
             0,
             "#0d0887"
            ],
            [
             0.1111111111111111,
             "#46039f"
            ],
            [
             0.2222222222222222,
             "#7201a8"
            ],
            [
             0.3333333333333333,
             "#9c179e"
            ],
            [
             0.4444444444444444,
             "#bd3786"
            ],
            [
             0.5555555555555556,
             "#d8576b"
            ],
            [
             0.6666666666666666,
             "#ed7953"
            ],
            [
             0.7777777777777778,
             "#fb9f3a"
            ],
            [
             0.8888888888888888,
             "#fdca26"
            ],
            [
             1,
             "#f0f921"
            ]
           ]
          },
          "colorway": [
           "#636efa",
           "#EF553B",
           "#00cc96",
           "#ab63fa",
           "#FFA15A",
           "#19d3f3",
           "#FF6692",
           "#B6E880",
           "#FF97FF",
           "#FECB52"
          ],
          "font": {
           "color": "#2a3f5f"
          },
          "geo": {
           "bgcolor": "white",
           "lakecolor": "white",
           "landcolor": "#E5ECF6",
           "showlakes": true,
           "showland": true,
           "subunitcolor": "white"
          },
          "hoverlabel": {
           "align": "left"
          },
          "hovermode": "closest",
          "mapbox": {
           "style": "light"
          },
          "paper_bgcolor": "white",
          "plot_bgcolor": "#E5ECF6",
          "polar": {
           "angularaxis": {
            "gridcolor": "white",
            "linecolor": "white",
            "ticks": ""
           },
           "bgcolor": "#E5ECF6",
           "radialaxis": {
            "gridcolor": "white",
            "linecolor": "white",
            "ticks": ""
           }
          },
          "scene": {
           "xaxis": {
            "backgroundcolor": "#E5ECF6",
            "gridcolor": "white",
            "gridwidth": 2,
            "linecolor": "white",
            "showbackground": true,
            "ticks": "",
            "zerolinecolor": "white"
           },
           "yaxis": {
            "backgroundcolor": "#E5ECF6",
            "gridcolor": "white",
            "gridwidth": 2,
            "linecolor": "white",
            "showbackground": true,
            "ticks": "",
            "zerolinecolor": "white"
           },
           "zaxis": {
            "backgroundcolor": "#E5ECF6",
            "gridcolor": "white",
            "gridwidth": 2,
            "linecolor": "white",
            "showbackground": true,
            "ticks": "",
            "zerolinecolor": "white"
           }
          },
          "shapedefaults": {
           "line": {
            "color": "#2a3f5f"
           }
          },
          "ternary": {
           "aaxis": {
            "gridcolor": "white",
            "linecolor": "white",
            "ticks": ""
           },
           "baxis": {
            "gridcolor": "white",
            "linecolor": "white",
            "ticks": ""
           },
           "bgcolor": "#E5ECF6",
           "caxis": {
            "gridcolor": "white",
            "linecolor": "white",
            "ticks": ""
           }
          },
          "title": {
           "x": 0.05
          },
          "xaxis": {
           "automargin": true,
           "gridcolor": "white",
           "linecolor": "white",
           "ticks": "",
           "title": {
            "standoff": 15
           },
           "zerolinecolor": "white",
           "zerolinewidth": 2
          },
          "yaxis": {
           "automargin": true,
           "gridcolor": "white",
           "linecolor": "white",
           "ticks": "",
           "title": {
            "standoff": 15
           },
           "zerolinecolor": "white",
           "zerolinewidth": 2
          }
         }
        },
        "title": {
         "text": "Water Sample Total Nitrogen over January 2023 Across Texas"
        },
        "xaxis": {
         "anchor": "y",
         "autorange": false,
         "domain": [
          0,
          1
         ],
         "range": [
          "2023-01-08 03:39:00.716",
          "2023-01-31 23:50:59.284"
         ],
         "showspikes": false,
         "title": {
          "text": "Date"
         },
         "type": "date"
        },
        "yaxis": {
         "anchor": "x",
         "autorange": false,
         "domain": [
          0,
          1
         ],
         "range": [
          -1.1553398058252426,
          15.155339805825243
         ],
         "showspikes": false,
         "title": {
          "text": "Total Nitrogen [mg/L]"
         },
         "type": "category"
        }
       }
      },
      "image/png": "[encoded data removed]",
      "text/html": [
       "<div>                            <div id=\"0473cadb-cf22-4199-bd6f-96013f9e7e1d\" class=\"plotly-graph-div\" style=\"height:525px; width:100%;\"></div>            <script type=\"text/javascript\">                require([\"plotly\"], function(Plotly) {                    window.PLOTLYENV=window.PLOTLYENV || {};                                    if (document.getElementById(\"0473cadb-cf22-4199-bd6f-96013f9e7e1d\")) {                    Plotly.newPlot(                        \"0473cadb-cf22-4199-bd6f-96013f9e7e1d\",                        [{\"hovertemplate\":\"DateTime=%{x}\\u003cbr\\u003ep00600=%{y}\\u003cextra\\u003e\\u003c\\u002fextra\\u003e\",\"legendgroup\":\"\",\"marker\":{\"color\":\"#636efa\",\"symbol\":\"circle\"},\"mode\":\"markers\",\"name\":\"\",\"orientation\":\"v\",\"showlegend\":false,\"x\":[\"2023-01-23T10:00:00\",\"2023-01-24T09:30:00\",\"2023-01-10T09:15:00\",\"2023-01-23T10:45:00\",\"2023-01-12T08:30:00\",\"2023-01-09T12:00:00\",\"2023-01-09T12:45:00\",\"2023-01-26T11:30:00\",\"2023-01-26T12:00:00\",\"2023-01-30T13:45:00\",\"2023-01-10T11:30:00\",\"2023-01-09T10:30:00\",\"2023-01-30T17:00:00\",\"2023-01-30T13:00:00\",\"2023-01-17T09:50:00\",\"2023-01-12T10:00:00\",\"2023-01-10T10:00:00\",\"2023-01-10T10:30:00\",\"2023-01-12T12:00:00\",\"2023-01-18T10:00:00\",\"2023-01-10T10:00:00\",null,null,null,null,null,null,null,null,null,null,null,null,null,\"2023-01-14T19:12:00\",\"2023-01-17T13:30:00\",\"2023-01-17T13:37:00\",\"2023-01-17T13:44:00\",\"2023-01-17T13:45:00\",\"2023-01-17T13:52:00\",\"2023-01-17T14:00:00\",\"2023-01-24T15:50:00\",\"2023-01-24T15:55:00\",\"2023-01-24T16:00:00\",\"2023-01-24T16:01:00\",\"2023-01-24T16:05:00\",\"2023-01-24T16:10:00\",\"2023-01-09T11:30:00\",\"2023-01-11T11:00:00\",\"2023-01-19T09:30:00\",\"2023-01-10T10:20:00\",\"2023-01-19T11:00:00\",\"2023-01-09T11:50:00\",\"2023-01-11T11:40:00\",null,\"2023-01-30T12:30:00\"],\"xaxis\":\"x\",\"y\":[\"2.3\",\"6.4\",\"1.9\",\"5.8\",\"0.94\",null,\"1.9\",null,\"2.0\",\"1.3\",null,null,null,null,\"1.5\",\"1.7\",null,\"0.12\",\"1.1\",\"2.2\",\"9.7\",null,null,null,null,null,null,null,null,null,null,null,null,null,null,null,null,null,null,null,null,null,null,null,null,null,null,\"3.6\",\"1.5\",\"2.0\",null,\"2.1\",null,null,null,null],\"yaxis\":\"y\",\"type\":\"scatter\"}],                        {\"template\":{\"data\":{\"histogram2dcontour\":[{\"type\":\"histogram2dcontour\",\"colorbar\":{\"outlinewidth\":0,\"ticks\":\"\"},\"colorscale\":[[0.0,\"#0d0887\"],[0.1111111111111111,\"#46039f\"],[0.2222222222222222,\"#7201a8\"],[0.3333333333333333,\"#9c179e\"],[0.4444444444444444,\"#bd3786\"],[0.5555555555555556,\"#d8576b\"],[0.6666666666666666,\"#ed7953\"],[0.7777777777777778,\"#fb9f3a\"],[0.8888888888888888,\"#fdca26\"],[1.0,\"#f0f921\"]]}],\"choropleth\":[{\"type\":\"choropleth\",\"colorbar\":{\"outlinewidth\":0,\"ticks\":\"\"}}],\"histogram2d\":[{\"type\":\"histogram2d\",\"colorbar\":{\"outlinewidth\":0,\"ticks\":\"\"},\"colorscale\":[[0.0,\"#0d0887\"],[0.1111111111111111,\"#46039f\"],[0.2222222222222222,\"#7201a8\"],[0.3333333333333333,\"#9c179e\"],[0.4444444444444444,\"#bd3786\"],[0.5555555555555556,\"#d8576b\"],[0.6666666666666666,\"#ed7953\"],[0.7777777777777778,\"#fb9f3a\"],[0.8888888888888888,\"#fdca26\"],[1.0,\"#f0f921\"]]}],\"heatmap\":[{\"type\":\"heatmap\",\"colorbar\":{\"outlinewidth\":0,\"ticks\":\"\"},\"colorscale\":[[0.0,\"#0d0887\"],[0.1111111111111111,\"#46039f\"],[0.2222222222222222,\"#7201a8\"],[0.3333333333333333,\"#9c179e\"],[0.4444444444444444,\"#bd3786\"],[0.5555555555555556,\"#d8576b\"],[0.6666666666666666,\"#ed7953\"],[0.7777777777777778,\"#fb9f3a\"],[0.8888888888888888,\"#fdca26\"],[1.0,\"#f0f921\"]]}],\"heatmapgl\":[{\"type\":\"heatmapgl\",\"colorbar\":{\"outlinewidth\":0,\"ticks\":\"\"},\"colorscale\":[[0.0,\"#0d0887\"],[0.1111111111111111,\"#46039f\"],[0.2222222222222222,\"#7201a8\"],[0.3333333333333333,\"#9c179e\"],[0.4444444444444444,\"#bd3786\"],[0.5555555555555556,\"#d8576b\"],[0.6666666666666666,\"#ed7953\"],[0.7777777777777778,\"#fb9f3a\"],[0.8888888888888888,\"#fdca26\"],[1.0,\"#f0f921\"]]}],\"contourcarpet\":[{\"type\":\"contourcarpet\",\"colorbar\":{\"outlinewidth\":0,\"ticks\":\"\"}}],\"contour\":[{\"type\":\"contour\",\"colorbar\":{\"outlinewidth\":0,\"ticks\":\"\"},\"colorscale\":[[0.0,\"#0d0887\"],[0.1111111111111111,\"#46039f\"],[0.2222222222222222,\"#7201a8\"],[0.3333333333333333,\"#9c179e\"],[0.4444444444444444,\"#bd3786\"],[0.5555555555555556,\"#d8576b\"],[0.6666666666666666,\"#ed7953\"],[0.7777777777777778,\"#fb9f3a\"],[0.8888888888888888,\"#fdca26\"],[1.0,\"#f0f921\"]]}],\"surface\":[{\"type\":\"surface\",\"colorbar\":{\"outlinewidth\":0,\"ticks\":\"\"},\"colorscale\":[[0.0,\"#0d0887\"],[0.1111111111111111,\"#46039f\"],[0.2222222222222222,\"#7201a8\"],[0.3333333333333333,\"#9c179e\"],[0.4444444444444444,\"#bd3786\"],[0.5555555555555556,\"#d8576b\"],[0.6666666666666666,\"#ed7953\"],[0.7777777777777778,\"#fb9f3a\"],[0.8888888888888888,\"#fdca26\"],[1.0,\"#f0f921\"]]}],\"mesh3d\":[{\"type\":\"mesh3d\",\"colorbar\":{\"outlinewidth\":0,\"ticks\":\"\"}}],\"scatter\":[{\"fillpattern\":{\"fillmode\":\"overlay\",\"size\":10,\"solidity\":0.2},\"type\":\"scatter\"}],\"parcoords\":[{\"type\":\"parcoords\",\"line\":{\"colorbar\":{\"outlinewidth\":0,\"ticks\":\"\"}}}],\"scatterpolargl\":[{\"type\":\"scatterpolargl\",\"marker\":{\"colorbar\":{\"outlinewidth\":0,\"ticks\":\"\"}}}],\"bar\":[{\"error_x\":{\"color\":\"#2a3f5f\"},\"error_y\":{\"color\":\"#2a3f5f\"},\"marker\":{\"line\":{\"color\":\"#E5ECF6\",\"width\":0.5},\"pattern\":{\"fillmode\":\"overlay\",\"size\":10,\"solidity\":0.2}},\"type\":\"bar\"}],\"scattergeo\":[{\"type\":\"scattergeo\",\"marker\":{\"colorbar\":{\"outlinewidth\":0,\"ticks\":\"\"}}}],\"scatterpolar\":[{\"type\":\"scatterpolar\",\"marker\":{\"colorbar\":{\"outlinewidth\":0,\"ticks\":\"\"}}}],\"histogram\":[{\"marker\":{\"pattern\":{\"fillmode\":\"overlay\",\"size\":10,\"solidity\":0.2}},\"type\":\"histogram\"}],\"scattergl\":[{\"type\":\"scattergl\",\"marker\":{\"colorbar\":{\"outlinewidth\":0,\"ticks\":\"\"}}}],\"scatter3d\":[{\"type\":\"scatter3d\",\"line\":{\"colorbar\":{\"outlinewidth\":0,\"ticks\":\"\"}},\"marker\":{\"colorbar\":{\"outlinewidth\":0,\"ticks\":\"\"}}}],\"scattermapbox\":[{\"type\":\"scattermapbox\",\"marker\":{\"colorbar\":{\"outlinewidth\":0,\"ticks\":\"\"}}}],\"scatterternary\":[{\"type\":\"scatterternary\",\"marker\":{\"colorbar\":{\"outlinewidth\":0,\"ticks\":\"\"}}}],\"scattercarpet\":[{\"type\":\"scattercarpet\",\"marker\":{\"colorbar\":{\"outlinewidth\":0,\"ticks\":\"\"}}}],\"carpet\":[{\"aaxis\":{\"endlinecolor\":\"#2a3f5f\",\"gridcolor\":\"white\",\"linecolor\":\"white\",\"minorgridcolor\":\"white\",\"startlinecolor\":\"#2a3f5f\"},\"baxis\":{\"endlinecolor\":\"#2a3f5f\",\"gridcolor\":\"white\",\"linecolor\":\"white\",\"minorgridcolor\":\"white\",\"startlinecolor\":\"#2a3f5f\"},\"type\":\"carpet\"}],\"table\":[{\"cells\":{\"fill\":{\"color\":\"#EBF0F8\"},\"line\":{\"color\":\"white\"}},\"header\":{\"fill\":{\"color\":\"#C8D4E3\"},\"line\":{\"color\":\"white\"}},\"type\":\"table\"}],\"barpolar\":[{\"marker\":{\"line\":{\"color\":\"#E5ECF6\",\"width\":0.5},\"pattern\":{\"fillmode\":\"overlay\",\"size\":10,\"solidity\":0.2}},\"type\":\"barpolar\"}],\"pie\":[{\"automargin\":true,\"type\":\"pie\"}]},\"layout\":{\"autotypenumbers\":\"strict\",\"colorway\":[\"#636efa\",\"#EF553B\",\"#00cc96\",\"#ab63fa\",\"#FFA15A\",\"#19d3f3\",\"#FF6692\",\"#B6E880\",\"#FF97FF\",\"#FECB52\"],\"font\":{\"color\":\"#2a3f5f\"},\"hovermode\":\"closest\",\"hoverlabel\":{\"align\":\"left\"},\"paper_bgcolor\":\"white\",\"plot_bgcolor\":\"#E5ECF6\",\"polar\":{\"bgcolor\":\"#E5ECF6\",\"angularaxis\":{\"gridcolor\":\"white\",\"linecolor\":\"white\",\"ticks\":\"\"},\"radialaxis\":{\"gridcolor\":\"white\",\"linecolor\":\"white\",\"ticks\":\"\"}},\"ternary\":{\"bgcolor\":\"#E5ECF6\",\"aaxis\":{\"gridcolor\":\"white\",\"linecolor\":\"white\",\"ticks\":\"\"},\"baxis\":{\"gridcolor\":\"white\",\"linecolor\":\"white\",\"ticks\":\"\"},\"caxis\":{\"gridcolor\":\"white\",\"linecolor\":\"white\",\"ticks\":\"\"}},\"coloraxis\":{\"colorbar\":{\"outlinewidth\":0,\"ticks\":\"\"}},\"colorscale\":{\"sequential\":[[0.0,\"#0d0887\"],[0.1111111111111111,\"#46039f\"],[0.2222222222222222,\"#7201a8\"],[0.3333333333333333,\"#9c179e\"],[0.4444444444444444,\"#bd3786\"],[0.5555555555555556,\"#d8576b\"],[0.6666666666666666,\"#ed7953\"],[0.7777777777777778,\"#fb9f3a\"],[0.8888888888888888,\"#fdca26\"],[1.0,\"#f0f921\"]],\"sequentialminus\":[[0.0,\"#0d0887\"],[0.1111111111111111,\"#46039f\"],[0.2222222222222222,\"#7201a8\"],[0.3333333333333333,\"#9c179e\"],[0.4444444444444444,\"#bd3786\"],[0.5555555555555556,\"#d8576b\"],[0.6666666666666666,\"#ed7953\"],[0.7777777777777778,\"#fb9f3a\"],[0.8888888888888888,\"#fdca26\"],[1.0,\"#f0f921\"]],\"diverging\":[[0,\"#8e0152\"],[0.1,\"#c51b7d\"],[0.2,\"#de77ae\"],[0.3,\"#f1b6da\"],[0.4,\"#fde0ef\"],[0.5,\"#f7f7f7\"],[0.6,\"#e6f5d0\"],[0.7,\"#b8e186\"],[0.8,\"#7fbc41\"],[0.9,\"#4d9221\"],[1,\"#276419\"]]},\"xaxis\":{\"gridcolor\":\"white\",\"linecolor\":\"white\",\"ticks\":\"\",\"title\":{\"standoff\":15},\"zerolinecolor\":\"white\",\"automargin\":true,\"zerolinewidth\":2},\"yaxis\":{\"gridcolor\":\"white\",\"linecolor\":\"white\",\"ticks\":\"\",\"title\":{\"standoff\":15},\"zerolinecolor\":\"white\",\"automargin\":true,\"zerolinewidth\":2},\"scene\":{\"xaxis\":{\"backgroundcolor\":\"#E5ECF6\",\"gridcolor\":\"white\",\"linecolor\":\"white\",\"showbackground\":true,\"ticks\":\"\",\"zerolinecolor\":\"white\",\"gridwidth\":2},\"yaxis\":{\"backgroundcolor\":\"#E5ECF6\",\"gridcolor\":\"white\",\"linecolor\":\"white\",\"showbackground\":true,\"ticks\":\"\",\"zerolinecolor\":\"white\",\"gridwidth\":2},\"zaxis\":{\"backgroundcolor\":\"#E5ECF6\",\"gridcolor\":\"white\",\"linecolor\":\"white\",\"showbackground\":true,\"ticks\":\"\",\"zerolinecolor\":\"white\",\"gridwidth\":2}},\"shapedefaults\":{\"line\":{\"color\":\"#2a3f5f\"}},\"annotationdefaults\":{\"arrowcolor\":\"#2a3f5f\",\"arrowhead\":0,\"arrowwidth\":1},\"geo\":{\"bgcolor\":\"white\",\"landcolor\":\"#E5ECF6\",\"subunitcolor\":\"white\",\"showland\":true,\"showlakes\":true,\"lakecolor\":\"white\"},\"title\":{\"x\":0.05},\"mapbox\":{\"style\":\"light\"}}},\"xaxis\":{\"anchor\":\"y\",\"domain\":[0.0,1.0],\"title\":{\"text\":\"Date\"}},\"yaxis\":{\"anchor\":\"x\",\"domain\":[0.0,1.0],\"title\":{\"text\":\"Total Nitrogen [mg\\u002fL]\"}},\"legend\":{\"tracegroupgap\":0},\"title\":{\"text\":\"Water Sample Total Nitrogen over January 2023 Across Texas\"}},                        {\"responsive\": true}                    ).then(function(){\n",
       "                            \n",
       "var gd = document.getElementById('0473cadb-cf22-4199-bd6f-96013f9e7e1d');\n",
       "var x = new MutationObserver(function (mutations, observer) {{\n",
       "        var display = window.getComputedStyle(gd).display;\n",
       "        if (!display || display === 'none') {{\n",
       "            console.log([gd, 'removed!']);\n",
       "            Plotly.purge(gd);\n",
       "            observer.disconnect();\n",
       "        }}\n",
       "}});\n",
       "\n",
       "// Listen for the removal of the full notebook cells\n",
       "var notebookContainer = gd.closest('#notebook-container');\n",
       "if (notebookContainer) {{\n",
       "    x.observe(notebookContainer, {childList: true});\n",
       "}}\n",
       "\n",
       "// Listen for the clearing of the current output cell\n",
       "var outputEl = gd.closest('.output');\n",
       "if (outputEl) {{\n",
       "    x.observe(outputEl, {childList: true});\n",
       "}}\n",
       "\n",
       "                        })                };                });            </script>        </div>"
      ]
     },
     "metadata": {},
     "output_type": "display_data"
    }
   ],
   "source": [
    "fig.update_layout(\n",
    "    title = 'Water Sample Total Nitrogen over January 2023 Across Texas'\n",
    ")\n",
    "\n",
    "fig.show()"
   ]
  },
  {
   "cell_type": "code",
   "execution_count": 41,
   "id": "2d096573-39f6-4369-9f09-d90b9179c621",
   "metadata": {},
   "outputs": [
    {
     "data": {
      "application/vnd.plotly.v1+json": {
       "config": {
        "plotlyServerURL": "https://plot.ly"
       },
       "data": [
        {
         "hovertemplate": "DateTime=%{x}<br>p00600=%{y}<extra></extra>",
         "legendgroup": "",
         "marker": {
          "color": "#636efa",
          "symbol": "circle"
         },
         "mode": "markers",
         "name": "",
         "orientation": "v",
         "showlegend": false,
         "type": "scatter",
         "x": [
          "2023-01-23T10:00:00",
          "2023-01-24T09:30:00",
          "2023-01-10T09:15:00",
          "2023-01-23T10:45:00",
          "2023-01-12T08:30:00",
          "2023-01-09T12:00:00",
          "2023-01-09T12:45:00",
          "2023-01-26T11:30:00",
          "2023-01-26T12:00:00",
          "2023-01-30T13:45:00",
          "2023-01-10T11:30:00",
          "2023-01-09T10:30:00",
          "2023-01-30T17:00:00",
          "2023-01-30T13:00:00",
          "2023-01-17T09:50:00",
          "2023-01-12T10:00:00",
          "2023-01-10T10:00:00",
          "2023-01-10T10:30:00",
          "2023-01-12T12:00:00",
          "2023-01-18T10:00:00",
          "2023-01-10T10:00:00",
          null,
          null,
          null,
          null,
          null,
          null,
          null,
          null,
          null,
          null,
          null,
          null,
          null,
          "2023-01-14T19:12:00",
          "2023-01-17T13:30:00",
          "2023-01-17T13:37:00",
          "2023-01-17T13:44:00",
          "2023-01-17T13:45:00",
          "2023-01-17T13:52:00",
          "2023-01-17T14:00:00",
          "2023-01-24T15:50:00",
          "2023-01-24T15:55:00",
          "2023-01-24T16:00:00",
          "2023-01-24T16:01:00",
          "2023-01-24T16:05:00",
          "2023-01-24T16:10:00",
          "2023-01-09T11:30:00",
          "2023-01-11T11:00:00",
          "2023-01-19T09:30:00",
          "2023-01-10T10:20:00",
          "2023-01-19T11:00:00",
          "2023-01-09T11:50:00",
          "2023-01-11T11:40:00",
          null,
          "2023-01-30T12:30:00"
         ],
         "xaxis": "x",
         "y": [
          "2.3",
          "6.4",
          "1.9",
          "5.8",
          "0.94",
          null,
          "1.9",
          null,
          "2.0",
          "1.3",
          null,
          null,
          null,
          null,
          "1.5",
          "1.7",
          null,
          "0.12",
          "1.1",
          "2.2",
          "9.7",
          null,
          null,
          null,
          null,
          null,
          null,
          null,
          null,
          null,
          null,
          null,
          null,
          null,
          null,
          null,
          null,
          null,
          null,
          null,
          null,
          null,
          null,
          null,
          null,
          null,
          null,
          "3.6",
          "1.5",
          "2.0",
          null,
          "2.1",
          null,
          null,
          null,
          null
         ],
         "yaxis": "y"
        }
       ],
       "layout": {
        "autosize": true,
        "legend": {
         "tracegroupgap": 0
        },
        "template": {
         "data": {
          "bar": [
           {
            "error_x": {
             "color": "#2a3f5f"
            },
            "error_y": {
             "color": "#2a3f5f"
            },
            "marker": {
             "line": {
              "color": "#E5ECF6",
              "width": 0.5
             },
             "pattern": {
              "fillmode": "overlay",
              "size": 10,
              "solidity": 0.2
             }
            },
            "type": "bar"
           }
          ],
          "barpolar": [
           {
            "marker": {
             "line": {
              "color": "#E5ECF6",
              "width": 0.5
             },
             "pattern": {
              "fillmode": "overlay",
              "size": 10,
              "solidity": 0.2
             }
            },
            "type": "barpolar"
           }
          ],
          "carpet": [
           {
            "aaxis": {
             "endlinecolor": "#2a3f5f",
             "gridcolor": "white",
             "linecolor": "white",
             "minorgridcolor": "white",
             "startlinecolor": "#2a3f5f"
            },
            "baxis": {
             "endlinecolor": "#2a3f5f",
             "gridcolor": "white",
             "linecolor": "white",
             "minorgridcolor": "white",
             "startlinecolor": "#2a3f5f"
            },
            "type": "carpet"
           }
          ],
          "choropleth": [
           {
            "colorbar": {
             "outlinewidth": 0,
             "ticks": ""
            },
            "type": "choropleth"
           }
          ],
          "contour": [
           {
            "colorbar": {
             "outlinewidth": 0,
             "ticks": ""
            },
            "colorscale": [
             [
              0,
              "#0d0887"
             ],
             [
              0.1111111111111111,
              "#46039f"
             ],
             [
              0.2222222222222222,
              "#7201a8"
             ],
             [
              0.3333333333333333,
              "#9c179e"
             ],
             [
              0.4444444444444444,
              "#bd3786"
             ],
             [
              0.5555555555555556,
              "#d8576b"
             ],
             [
              0.6666666666666666,
              "#ed7953"
             ],
             [
              0.7777777777777778,
              "#fb9f3a"
             ],
             [
              0.8888888888888888,
              "#fdca26"
             ],
             [
              1,
              "#f0f921"
             ]
            ],
            "type": "contour"
           }
          ],
          "contourcarpet": [
           {
            "colorbar": {
             "outlinewidth": 0,
             "ticks": ""
            },
            "type": "contourcarpet"
           }
          ],
          "heatmap": [
           {
            "colorbar": {
             "outlinewidth": 0,
             "ticks": ""
            },
            "colorscale": [
             [
              0,
              "#0d0887"
             ],
             [
              0.1111111111111111,
              "#46039f"
             ],
             [
              0.2222222222222222,
              "#7201a8"
             ],
             [
              0.3333333333333333,
              "#9c179e"
             ],
             [
              0.4444444444444444,
              "#bd3786"
             ],
             [
              0.5555555555555556,
              "#d8576b"
             ],
             [
              0.6666666666666666,
              "#ed7953"
             ],
             [
              0.7777777777777778,
              "#fb9f3a"
             ],
             [
              0.8888888888888888,
              "#fdca26"
             ],
             [
              1,
              "#f0f921"
             ]
            ],
            "type": "heatmap"
           }
          ],
          "heatmapgl": [
           {
            "colorbar": {
             "outlinewidth": 0,
             "ticks": ""
            },
            "colorscale": [
             [
              0,
              "#0d0887"
             ],
             [
              0.1111111111111111,
              "#46039f"
             ],
             [
              0.2222222222222222,
              "#7201a8"
             ],
             [
              0.3333333333333333,
              "#9c179e"
             ],
             [
              0.4444444444444444,
              "#bd3786"
             ],
             [
              0.5555555555555556,
              "#d8576b"
             ],
             [
              0.6666666666666666,
              "#ed7953"
             ],
             [
              0.7777777777777778,
              "#fb9f3a"
             ],
             [
              0.8888888888888888,
              "#fdca26"
             ],
             [
              1,
              "#f0f921"
             ]
            ],
            "type": "heatmapgl"
           }
          ],
          "histogram": [
           {
            "marker": {
             "pattern": {
              "fillmode": "overlay",
              "size": 10,
              "solidity": 0.2
             }
            },
            "type": "histogram"
           }
          ],
          "histogram2d": [
           {
            "colorbar": {
             "outlinewidth": 0,
             "ticks": ""
            },
            "colorscale": [
             [
              0,
              "#0d0887"
             ],
             [
              0.1111111111111111,
              "#46039f"
             ],
             [
              0.2222222222222222,
              "#7201a8"
             ],
             [
              0.3333333333333333,
              "#9c179e"
             ],
             [
              0.4444444444444444,
              "#bd3786"
             ],
             [
              0.5555555555555556,
              "#d8576b"
             ],
             [
              0.6666666666666666,
              "#ed7953"
             ],
             [
              0.7777777777777778,
              "#fb9f3a"
             ],
             [
              0.8888888888888888,
              "#fdca26"
             ],
             [
              1,
              "#f0f921"
             ]
            ],
            "type": "histogram2d"
           }
          ],
          "histogram2dcontour": [
           {
            "colorbar": {
             "outlinewidth": 0,
             "ticks": ""
            },
            "colorscale": [
             [
              0,
              "#0d0887"
             ],
             [
              0.1111111111111111,
              "#46039f"
             ],
             [
              0.2222222222222222,
              "#7201a8"
             ],
             [
              0.3333333333333333,
              "#9c179e"
             ],
             [
              0.4444444444444444,
              "#bd3786"
             ],
             [
              0.5555555555555556,
              "#d8576b"
             ],
             [
              0.6666666666666666,
              "#ed7953"
             ],
             [
              0.7777777777777778,
              "#fb9f3a"
             ],
             [
              0.8888888888888888,
              "#fdca26"
             ],
             [
              1,
              "#f0f921"
             ]
            ],
            "type": "histogram2dcontour"
           }
          ],
          "mesh3d": [
           {
            "colorbar": {
             "outlinewidth": 0,
             "ticks": ""
            },
            "type": "mesh3d"
           }
          ],
          "parcoords": [
           {
            "line": {
             "colorbar": {
              "outlinewidth": 0,
              "ticks": ""
             }
            },
            "type": "parcoords"
           }
          ],
          "pie": [
           {
            "automargin": true,
            "type": "pie"
           }
          ],
          "scatter": [
           {
            "fillpattern": {
             "fillmode": "overlay",
             "size": 10,
             "solidity": 0.2
            },
            "type": "scatter"
           }
          ],
          "scatter3d": [
           {
            "line": {
             "colorbar": {
              "outlinewidth": 0,
              "ticks": ""
             }
            },
            "marker": {
             "colorbar": {
              "outlinewidth": 0,
              "ticks": ""
             }
            },
            "type": "scatter3d"
           }
          ],
          "scattercarpet": [
           {
            "marker": {
             "colorbar": {
              "outlinewidth": 0,
              "ticks": ""
             }
            },
            "type": "scattercarpet"
           }
          ],
          "scattergeo": [
           {
            "marker": {
             "colorbar": {
              "outlinewidth": 0,
              "ticks": ""
             }
            },
            "type": "scattergeo"
           }
          ],
          "scattergl": [
           {
            "marker": {
             "colorbar": {
              "outlinewidth": 0,
              "ticks": ""
             }
            },
            "type": "scattergl"
           }
          ],
          "scattermapbox": [
           {
            "marker": {
             "colorbar": {
              "outlinewidth": 0,
              "ticks": ""
             }
            },
            "type": "scattermapbox"
           }
          ],
          "scatterpolar": [
           {
            "marker": {
             "colorbar": {
              "outlinewidth": 0,
              "ticks": ""
             }
            },
            "type": "scatterpolar"
           }
          ],
          "scatterpolargl": [
           {
            "marker": {
             "colorbar": {
              "outlinewidth": 0,
              "ticks": ""
             }
            },
            "type": "scatterpolargl"
           }
          ],
          "scatterternary": [
           {
            "marker": {
             "colorbar": {
              "outlinewidth": 0,
              "ticks": ""
             }
            },
            "type": "scatterternary"
           }
          ],
          "surface": [
           {
            "colorbar": {
             "outlinewidth": 0,
             "ticks": ""
            },
            "colorscale": [
             [
              0,
              "#0d0887"
             ],
             [
              0.1111111111111111,
              "#46039f"
             ],
             [
              0.2222222222222222,
              "#7201a8"
             ],
             [
              0.3333333333333333,
              "#9c179e"
             ],
             [
              0.4444444444444444,
              "#bd3786"
             ],
             [
              0.5555555555555556,
              "#d8576b"
             ],
             [
              0.6666666666666666,
              "#ed7953"
             ],
             [
              0.7777777777777778,
              "#fb9f3a"
             ],
             [
              0.8888888888888888,
              "#fdca26"
             ],
             [
              1,
              "#f0f921"
             ]
            ],
            "type": "surface"
           }
          ],
          "table": [
           {
            "cells": {
             "fill": {
              "color": "#EBF0F8"
             },
             "line": {
              "color": "white"
             }
            },
            "header": {
             "fill": {
              "color": "#C8D4E3"
             },
             "line": {
              "color": "white"
             }
            },
            "type": "table"
           }
          ]
         },
         "layout": {
          "annotationdefaults": {
           "arrowcolor": "#2a3f5f",
           "arrowhead": 0,
           "arrowwidth": 1
          },
          "autotypenumbers": "strict",
          "coloraxis": {
           "colorbar": {
            "outlinewidth": 0,
            "ticks": ""
           }
          },
          "colorscale": {
           "diverging": [
            [
             0,
             "#8e0152"
            ],
            [
             0.1,
             "#c51b7d"
            ],
            [
             0.2,
             "#de77ae"
            ],
            [
             0.3,
             "#f1b6da"
            ],
            [
             0.4,
             "#fde0ef"
            ],
            [
             0.5,
             "#f7f7f7"
            ],
            [
             0.6,
             "#e6f5d0"
            ],
            [
             0.7,
             "#b8e186"
            ],
            [
             0.8,
             "#7fbc41"
            ],
            [
             0.9,
             "#4d9221"
            ],
            [
             1,
             "#276419"
            ]
           ],
           "sequential": [
            [
             0,
             "#0d0887"
            ],
            [
             0.1111111111111111,
             "#46039f"
            ],
            [
             0.2222222222222222,
             "#7201a8"
            ],
            [
             0.3333333333333333,
             "#9c179e"
            ],
            [
             0.4444444444444444,
             "#bd3786"
            ],
            [
             0.5555555555555556,
             "#d8576b"
            ],
            [
             0.6666666666666666,
             "#ed7953"
            ],
            [
             0.7777777777777778,
             "#fb9f3a"
            ],
            [
             0.8888888888888888,
             "#fdca26"
            ],
            [
             1,
             "#f0f921"
            ]
           ],
           "sequentialminus": [
            [
             0,
             "#0d0887"
            ],
            [
             0.1111111111111111,
             "#46039f"
            ],
            [
             0.2222222222222222,
             "#7201a8"
            ],
            [
             0.3333333333333333,
             "#9c179e"
            ],
            [
             0.4444444444444444,
             "#bd3786"
            ],
            [
             0.5555555555555556,
             "#d8576b"
            ],
            [
             0.6666666666666666,
             "#ed7953"
            ],
            [
             0.7777777777777778,
             "#fb9f3a"
            ],
            [
             0.8888888888888888,
             "#fdca26"
            ],
            [
             1,
             "#f0f921"
            ]
           ]
          },
          "colorway": [
           "#636efa",
           "#EF553B",
           "#00cc96",
           "#ab63fa",
           "#FFA15A",
           "#19d3f3",
           "#FF6692",
           "#B6E880",
           "#FF97FF",
           "#FECB52"
          ],
          "font": {
           "color": "#2a3f5f"
          },
          "geo": {
           "bgcolor": "white",
           "lakecolor": "white",
           "landcolor": "#E5ECF6",
           "showlakes": true,
           "showland": true,
           "subunitcolor": "white"
          },
          "hoverlabel": {
           "align": "left"
          },
          "hovermode": "closest",
          "mapbox": {
           "style": "light"
          },
          "paper_bgcolor": "white",
          "plot_bgcolor": "#E5ECF6",
          "polar": {
           "angularaxis": {
            "gridcolor": "white",
            "linecolor": "white",
            "ticks": ""
           },
           "bgcolor": "#E5ECF6",
           "radialaxis": {
            "gridcolor": "white",
            "linecolor": "white",
            "ticks": ""
           }
          },
          "scene": {
           "xaxis": {
            "backgroundcolor": "#E5ECF6",
            "gridcolor": "white",
            "gridwidth": 2,
            "linecolor": "white",
            "showbackground": true,
            "ticks": "",
            "zerolinecolor": "white"
           },
           "yaxis": {
            "backgroundcolor": "#E5ECF6",
            "gridcolor": "white",
            "gridwidth": 2,
            "linecolor": "white",
            "showbackground": true,
            "ticks": "",
            "zerolinecolor": "white"
           },
           "zaxis": {
            "backgroundcolor": "#E5ECF6",
            "gridcolor": "white",
            "gridwidth": 2,
            "linecolor": "white",
            "showbackground": true,
            "ticks": "",
            "zerolinecolor": "white"
           }
          },
          "shapedefaults": {
           "line": {
            "color": "#2a3f5f"
           }
          },
          "ternary": {
           "aaxis": {
            "gridcolor": "white",
            "linecolor": "white",
            "ticks": ""
           },
           "baxis": {
            "gridcolor": "white",
            "linecolor": "white",
            "ticks": ""
           },
           "bgcolor": "#E5ECF6",
           "caxis": {
            "gridcolor": "white",
            "linecolor": "white",
            "ticks": ""
           }
          },
          "title": {
           "x": 0.05
          },
          "xaxis": {
           "automargin": true,
           "gridcolor": "white",
           "linecolor": "white",
           "ticks": "",
           "title": {
            "standoff": 15
           },
           "zerolinecolor": "white",
           "zerolinewidth": 2
          },
          "yaxis": {
           "automargin": true,
           "gridcolor": "white",
           "linecolor": "white",
           "ticks": "",
           "title": {
            "standoff": 15
           },
           "zerolinecolor": "white",
           "zerolinewidth": 2
          }
         }
        },
        "title": {
         "text": "Water Sample Total Nitrogen over January 2023 Across Texas"
        },
        "xaxis": {
         "anchor": "y",
         "autorange": true,
         "domain": [
          0,
          1
         ],
         "range": [
          "2023-01-08 03:39:00.716",
          "2023-01-31 23:50:59.284"
         ],
         "title": {
          "text": "Date"
         },
         "type": "date"
        },
        "yaxis": {
         "anchor": "x",
         "autorange": true,
         "domain": [
          0,
          1
         ],
         "range": [
          -0.6705825242718447,
          10.490582524271844
         ],
         "title": {
          "text": "Total Nitrogen [mg/L]"
         },
         "type": "linear"
        }
       }
      },
      "image/png": "[encoded data removed]",
      "text/html": [
       "<div>                            <div id=\"07e6e8ec-702b-4019-b244-0e5bbf3b5e22\" class=\"plotly-graph-div\" style=\"height:525px; width:100%;\"></div>            <script type=\"text/javascript\">                require([\"plotly\"], function(Plotly) {                    window.PLOTLYENV=window.PLOTLYENV || {};                                    if (document.getElementById(\"07e6e8ec-702b-4019-b244-0e5bbf3b5e22\")) {                    Plotly.newPlot(                        \"07e6e8ec-702b-4019-b244-0e5bbf3b5e22\",                        [{\"hovertemplate\":\"DateTime=%{x}\\u003cbr\\u003ep00600=%{y}\\u003cextra\\u003e\\u003c\\u002fextra\\u003e\",\"legendgroup\":\"\",\"marker\":{\"color\":\"#636efa\",\"symbol\":\"circle\"},\"mode\":\"markers\",\"name\":\"\",\"orientation\":\"v\",\"showlegend\":false,\"x\":[\"2023-01-23T10:00:00\",\"2023-01-24T09:30:00\",\"2023-01-10T09:15:00\",\"2023-01-23T10:45:00\",\"2023-01-12T08:30:00\",\"2023-01-09T12:00:00\",\"2023-01-09T12:45:00\",\"2023-01-26T11:30:00\",\"2023-01-26T12:00:00\",\"2023-01-30T13:45:00\",\"2023-01-10T11:30:00\",\"2023-01-09T10:30:00\",\"2023-01-30T17:00:00\",\"2023-01-30T13:00:00\",\"2023-01-17T09:50:00\",\"2023-01-12T10:00:00\",\"2023-01-10T10:00:00\",\"2023-01-10T10:30:00\",\"2023-01-12T12:00:00\",\"2023-01-18T10:00:00\",\"2023-01-10T10:00:00\",null,null,null,null,null,null,null,null,null,null,null,null,null,\"2023-01-14T19:12:00\",\"2023-01-17T13:30:00\",\"2023-01-17T13:37:00\",\"2023-01-17T13:44:00\",\"2023-01-17T13:45:00\",\"2023-01-17T13:52:00\",\"2023-01-17T14:00:00\",\"2023-01-24T15:50:00\",\"2023-01-24T15:55:00\",\"2023-01-24T16:00:00\",\"2023-01-24T16:01:00\",\"2023-01-24T16:05:00\",\"2023-01-24T16:10:00\",\"2023-01-09T11:30:00\",\"2023-01-11T11:00:00\",\"2023-01-19T09:30:00\",\"2023-01-10T10:20:00\",\"2023-01-19T11:00:00\",\"2023-01-09T11:50:00\",\"2023-01-11T11:40:00\",null,\"2023-01-30T12:30:00\"],\"xaxis\":\"x\",\"y\":[\"2.3\",\"6.4\",\"1.9\",\"5.8\",\"0.94\",null,\"1.9\",null,\"2.0\",\"1.3\",null,null,null,null,\"1.5\",\"1.7\",null,\"0.12\",\"1.1\",\"2.2\",\"9.7\",null,null,null,null,null,null,null,null,null,null,null,null,null,null,null,null,null,null,null,null,null,null,null,null,null,null,\"3.6\",\"1.5\",\"2.0\",null,\"2.1\",null,null,null,null],\"yaxis\":\"y\",\"type\":\"scatter\"}],                        {\"template\":{\"data\":{\"histogram2dcontour\":[{\"type\":\"histogram2dcontour\",\"colorbar\":{\"outlinewidth\":0,\"ticks\":\"\"},\"colorscale\":[[0.0,\"#0d0887\"],[0.1111111111111111,\"#46039f\"],[0.2222222222222222,\"#7201a8\"],[0.3333333333333333,\"#9c179e\"],[0.4444444444444444,\"#bd3786\"],[0.5555555555555556,\"#d8576b\"],[0.6666666666666666,\"#ed7953\"],[0.7777777777777778,\"#fb9f3a\"],[0.8888888888888888,\"#fdca26\"],[1.0,\"#f0f921\"]]}],\"choropleth\":[{\"type\":\"choropleth\",\"colorbar\":{\"outlinewidth\":0,\"ticks\":\"\"}}],\"histogram2d\":[{\"type\":\"histogram2d\",\"colorbar\":{\"outlinewidth\":0,\"ticks\":\"\"},\"colorscale\":[[0.0,\"#0d0887\"],[0.1111111111111111,\"#46039f\"],[0.2222222222222222,\"#7201a8\"],[0.3333333333333333,\"#9c179e\"],[0.4444444444444444,\"#bd3786\"],[0.5555555555555556,\"#d8576b\"],[0.6666666666666666,\"#ed7953\"],[0.7777777777777778,\"#fb9f3a\"],[0.8888888888888888,\"#fdca26\"],[1.0,\"#f0f921\"]]}],\"heatmap\":[{\"type\":\"heatmap\",\"colorbar\":{\"outlinewidth\":0,\"ticks\":\"\"},\"colorscale\":[[0.0,\"#0d0887\"],[0.1111111111111111,\"#46039f\"],[0.2222222222222222,\"#7201a8\"],[0.3333333333333333,\"#9c179e\"],[0.4444444444444444,\"#bd3786\"],[0.5555555555555556,\"#d8576b\"],[0.6666666666666666,\"#ed7953\"],[0.7777777777777778,\"#fb9f3a\"],[0.8888888888888888,\"#fdca26\"],[1.0,\"#f0f921\"]]}],\"heatmapgl\":[{\"type\":\"heatmapgl\",\"colorbar\":{\"outlinewidth\":0,\"ticks\":\"\"},\"colorscale\":[[0.0,\"#0d0887\"],[0.1111111111111111,\"#46039f\"],[0.2222222222222222,\"#7201a8\"],[0.3333333333333333,\"#9c179e\"],[0.4444444444444444,\"#bd3786\"],[0.5555555555555556,\"#d8576b\"],[0.6666666666666666,\"#ed7953\"],[0.7777777777777778,\"#fb9f3a\"],[0.8888888888888888,\"#fdca26\"],[1.0,\"#f0f921\"]]}],\"contourcarpet\":[{\"type\":\"contourcarpet\",\"colorbar\":{\"outlinewidth\":0,\"ticks\":\"\"}}],\"contour\":[{\"type\":\"contour\",\"colorbar\":{\"outlinewidth\":0,\"ticks\":\"\"},\"colorscale\":[[0.0,\"#0d0887\"],[0.1111111111111111,\"#46039f\"],[0.2222222222222222,\"#7201a8\"],[0.3333333333333333,\"#9c179e\"],[0.4444444444444444,\"#bd3786\"],[0.5555555555555556,\"#d8576b\"],[0.6666666666666666,\"#ed7953\"],[0.7777777777777778,\"#fb9f3a\"],[0.8888888888888888,\"#fdca26\"],[1.0,\"#f0f921\"]]}],\"surface\":[{\"type\":\"surface\",\"colorbar\":{\"outlinewidth\":0,\"ticks\":\"\"},\"colorscale\":[[0.0,\"#0d0887\"],[0.1111111111111111,\"#46039f\"],[0.2222222222222222,\"#7201a8\"],[0.3333333333333333,\"#9c179e\"],[0.4444444444444444,\"#bd3786\"],[0.5555555555555556,\"#d8576b\"],[0.6666666666666666,\"#ed7953\"],[0.7777777777777778,\"#fb9f3a\"],[0.8888888888888888,\"#fdca26\"],[1.0,\"#f0f921\"]]}],\"mesh3d\":[{\"type\":\"mesh3d\",\"colorbar\":{\"outlinewidth\":0,\"ticks\":\"\"}}],\"scatter\":[{\"fillpattern\":{\"fillmode\":\"overlay\",\"size\":10,\"solidity\":0.2},\"type\":\"scatter\"}],\"parcoords\":[{\"type\":\"parcoords\",\"line\":{\"colorbar\":{\"outlinewidth\":0,\"ticks\":\"\"}}}],\"scatterpolargl\":[{\"type\":\"scatterpolargl\",\"marker\":{\"colorbar\":{\"outlinewidth\":0,\"ticks\":\"\"}}}],\"bar\":[{\"error_x\":{\"color\":\"#2a3f5f\"},\"error_y\":{\"color\":\"#2a3f5f\"},\"marker\":{\"line\":{\"color\":\"#E5ECF6\",\"width\":0.5},\"pattern\":{\"fillmode\":\"overlay\",\"size\":10,\"solidity\":0.2}},\"type\":\"bar\"}],\"scattergeo\":[{\"type\":\"scattergeo\",\"marker\":{\"colorbar\":{\"outlinewidth\":0,\"ticks\":\"\"}}}],\"scatterpolar\":[{\"type\":\"scatterpolar\",\"marker\":{\"colorbar\":{\"outlinewidth\":0,\"ticks\":\"\"}}}],\"histogram\":[{\"marker\":{\"pattern\":{\"fillmode\":\"overlay\",\"size\":10,\"solidity\":0.2}},\"type\":\"histogram\"}],\"scattergl\":[{\"type\":\"scattergl\",\"marker\":{\"colorbar\":{\"outlinewidth\":0,\"ticks\":\"\"}}}],\"scatter3d\":[{\"type\":\"scatter3d\",\"line\":{\"colorbar\":{\"outlinewidth\":0,\"ticks\":\"\"}},\"marker\":{\"colorbar\":{\"outlinewidth\":0,\"ticks\":\"\"}}}],\"scattermapbox\":[{\"type\":\"scattermapbox\",\"marker\":{\"colorbar\":{\"outlinewidth\":0,\"ticks\":\"\"}}}],\"scatterternary\":[{\"type\":\"scatterternary\",\"marker\":{\"colorbar\":{\"outlinewidth\":0,\"ticks\":\"\"}}}],\"scattercarpet\":[{\"type\":\"scattercarpet\",\"marker\":{\"colorbar\":{\"outlinewidth\":0,\"ticks\":\"\"}}}],\"carpet\":[{\"aaxis\":{\"endlinecolor\":\"#2a3f5f\",\"gridcolor\":\"white\",\"linecolor\":\"white\",\"minorgridcolor\":\"white\",\"startlinecolor\":\"#2a3f5f\"},\"baxis\":{\"endlinecolor\":\"#2a3f5f\",\"gridcolor\":\"white\",\"linecolor\":\"white\",\"minorgridcolor\":\"white\",\"startlinecolor\":\"#2a3f5f\"},\"type\":\"carpet\"}],\"table\":[{\"cells\":{\"fill\":{\"color\":\"#EBF0F8\"},\"line\":{\"color\":\"white\"}},\"header\":{\"fill\":{\"color\":\"#C8D4E3\"},\"line\":{\"color\":\"white\"}},\"type\":\"table\"}],\"barpolar\":[{\"marker\":{\"line\":{\"color\":\"#E5ECF6\",\"width\":0.5},\"pattern\":{\"fillmode\":\"overlay\",\"size\":10,\"solidity\":0.2}},\"type\":\"barpolar\"}],\"pie\":[{\"automargin\":true,\"type\":\"pie\"}]},\"layout\":{\"autotypenumbers\":\"strict\",\"colorway\":[\"#636efa\",\"#EF553B\",\"#00cc96\",\"#ab63fa\",\"#FFA15A\",\"#19d3f3\",\"#FF6692\",\"#B6E880\",\"#FF97FF\",\"#FECB52\"],\"font\":{\"color\":\"#2a3f5f\"},\"hovermode\":\"closest\",\"hoverlabel\":{\"align\":\"left\"},\"paper_bgcolor\":\"white\",\"plot_bgcolor\":\"#E5ECF6\",\"polar\":{\"bgcolor\":\"#E5ECF6\",\"angularaxis\":{\"gridcolor\":\"white\",\"linecolor\":\"white\",\"ticks\":\"\"},\"radialaxis\":{\"gridcolor\":\"white\",\"linecolor\":\"white\",\"ticks\":\"\"}},\"ternary\":{\"bgcolor\":\"#E5ECF6\",\"aaxis\":{\"gridcolor\":\"white\",\"linecolor\":\"white\",\"ticks\":\"\"},\"baxis\":{\"gridcolor\":\"white\",\"linecolor\":\"white\",\"ticks\":\"\"},\"caxis\":{\"gridcolor\":\"white\",\"linecolor\":\"white\",\"ticks\":\"\"}},\"coloraxis\":{\"colorbar\":{\"outlinewidth\":0,\"ticks\":\"\"}},\"colorscale\":{\"sequential\":[[0.0,\"#0d0887\"],[0.1111111111111111,\"#46039f\"],[0.2222222222222222,\"#7201a8\"],[0.3333333333333333,\"#9c179e\"],[0.4444444444444444,\"#bd3786\"],[0.5555555555555556,\"#d8576b\"],[0.6666666666666666,\"#ed7953\"],[0.7777777777777778,\"#fb9f3a\"],[0.8888888888888888,\"#fdca26\"],[1.0,\"#f0f921\"]],\"sequentialminus\":[[0.0,\"#0d0887\"],[0.1111111111111111,\"#46039f\"],[0.2222222222222222,\"#7201a8\"],[0.3333333333333333,\"#9c179e\"],[0.4444444444444444,\"#bd3786\"],[0.5555555555555556,\"#d8576b\"],[0.6666666666666666,\"#ed7953\"],[0.7777777777777778,\"#fb9f3a\"],[0.8888888888888888,\"#fdca26\"],[1.0,\"#f0f921\"]],\"diverging\":[[0,\"#8e0152\"],[0.1,\"#c51b7d\"],[0.2,\"#de77ae\"],[0.3,\"#f1b6da\"],[0.4,\"#fde0ef\"],[0.5,\"#f7f7f7\"],[0.6,\"#e6f5d0\"],[0.7,\"#b8e186\"],[0.8,\"#7fbc41\"],[0.9,\"#4d9221\"],[1,\"#276419\"]]},\"xaxis\":{\"gridcolor\":\"white\",\"linecolor\":\"white\",\"ticks\":\"\",\"title\":{\"standoff\":15},\"zerolinecolor\":\"white\",\"automargin\":true,\"zerolinewidth\":2},\"yaxis\":{\"gridcolor\":\"white\",\"linecolor\":\"white\",\"ticks\":\"\",\"title\":{\"standoff\":15},\"zerolinecolor\":\"white\",\"automargin\":true,\"zerolinewidth\":2},\"scene\":{\"xaxis\":{\"backgroundcolor\":\"#E5ECF6\",\"gridcolor\":\"white\",\"linecolor\":\"white\",\"showbackground\":true,\"ticks\":\"\",\"zerolinecolor\":\"white\",\"gridwidth\":2},\"yaxis\":{\"backgroundcolor\":\"#E5ECF6\",\"gridcolor\":\"white\",\"linecolor\":\"white\",\"showbackground\":true,\"ticks\":\"\",\"zerolinecolor\":\"white\",\"gridwidth\":2},\"zaxis\":{\"backgroundcolor\":\"#E5ECF6\",\"gridcolor\":\"white\",\"linecolor\":\"white\",\"showbackground\":true,\"ticks\":\"\",\"zerolinecolor\":\"white\",\"gridwidth\":2}},\"shapedefaults\":{\"line\":{\"color\":\"#2a3f5f\"}},\"annotationdefaults\":{\"arrowcolor\":\"#2a3f5f\",\"arrowhead\":0,\"arrowwidth\":1},\"geo\":{\"bgcolor\":\"white\",\"landcolor\":\"#E5ECF6\",\"subunitcolor\":\"white\",\"showland\":true,\"showlakes\":true,\"lakecolor\":\"white\"},\"title\":{\"x\":0.05},\"mapbox\":{\"style\":\"light\"}}},\"xaxis\":{\"anchor\":\"y\",\"domain\":[0.0,1.0],\"title\":{\"text\":\"Date\"}},\"yaxis\":{\"anchor\":\"x\",\"domain\":[0.0,1.0],\"title\":{\"text\":\"Total Nitrogen [mg\\u002fL]\"},\"type\":\"linear\"},\"legend\":{\"tracegroupgap\":0},\"title\":{\"text\":\"Water Sample Total Nitrogen over January 2023 Across Texas\"}},                        {\"responsive\": true}                    ).then(function(){\n",
       "                            \n",
       "var gd = document.getElementById('07e6e8ec-702b-4019-b244-0e5bbf3b5e22');\n",
       "var x = new MutationObserver(function (mutations, observer) {{\n",
       "        var display = window.getComputedStyle(gd).display;\n",
       "        if (!display || display === 'none') {{\n",
       "            console.log([gd, 'removed!']);\n",
       "            Plotly.purge(gd);\n",
       "            observer.disconnect();\n",
       "        }}\n",
       "}});\n",
       "\n",
       "// Listen for the removal of the full notebook cells\n",
       "var notebookContainer = gd.closest('#notebook-container');\n",
       "if (notebookContainer) {{\n",
       "    x.observe(notebookContainer, {childList: true});\n",
       "}}\n",
       "\n",
       "// Listen for the clearing of the current output cell\n",
       "var outputEl = gd.closest('.output');\n",
       "if (outputEl) {{\n",
       "    x.observe(outputEl, {childList: true});\n",
       "}}\n",
       "\n",
       "                        })                };                });            </script>        </div>"
      ]
     },
     "metadata": {},
     "output_type": "display_data"
    }
   ],
   "source": [
    "fig.update_layout(yaxis_type='linear')\n",
    "\n",
    "fig.show()"
   ]
  }
 ],
 "metadata": {
  "kernelspec": {
   "display_name": "Python 3 (ipykernel)",
   "language": "python",
   "name": "python3"
  },
  "language_info": {
   "codemirror_mode": {
    "name": "ipython",
    "version": 3
   },
   "file_extension": ".py",
   "mimetype": "text/x-python",
   "name": "python",
   "nbconvert_exporter": "python",
   "pygments_lexer": "ipython3",
   "version": "3.12.4"
  }
 },
 "nbformat": 4,
 "nbformat_minor": 5
}
