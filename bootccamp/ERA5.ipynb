{
 "cells": [
  {
   "cell_type": "code",
   "execution_count": 3,
   "metadata": {},
   "outputs": [],
   "source": [
    "import cdsapi # you will need to install this library \n",
    "import calendar\n",
    "import os"
   ]
  },
  {
   "cell_type": "code",
   "execution_count": 2,
   "metadata": {},
   "outputs": [
    {
     "name": "stdout",
     "output_type": "stream",
     "text": [
      "Defaulting to user installation because normal site-packages is not writeable\n",
      "Collecting cdsapi\n",
      "  Downloading cdsapi-0.7.0-py2.py3-none-any.whl (12 kB)\n",
      "Requirement already satisfied: requests>=2.5.0 in /apps/share64/debian7/anaconda/anaconda-6/lib/python3.7/site-packages (from cdsapi) (2.24.0)\n",
      "Collecting cads-api-client>=0.9.2\n",
      "  Downloading cads_api_client-1.0.2-py3-none-any.whl (20 kB)\n",
      "Requirement already satisfied: tqdm in /apps/share64/debian7/anaconda/anaconda-6/lib/python3.7/site-packages (from cdsapi) (4.48.2)\n",
      "Requirement already satisfied: idna<3,>=2.5 in /apps/share64/debian7/anaconda/anaconda-6/lib/python3.7/site-packages (from requests>=2.5.0->cdsapi) (2.10)\n",
      "Requirement already satisfied: urllib3!=1.25.0,!=1.25.1,<1.26,>=1.21.1 in /apps/share64/debian7/anaconda/anaconda-6/lib/python3.7/site-packages (from requests>=2.5.0->cdsapi) (1.25.9)\n",
      "Requirement already satisfied: certifi>=2017.4.17 in /apps/share64/debian7/anaconda/anaconda-6/lib/python3.7/site-packages (from requests>=2.5.0->cdsapi) (2022.6.15)\n",
      "Requirement already satisfied: chardet<4,>=3.0.2 in /apps/share64/debian7/anaconda/anaconda-6/lib/python3.7/site-packages (from requests>=2.5.0->cdsapi) (3.0.4)\n",
      "Collecting multiurl\n",
      "  Downloading multiurl-0.3.1.tar.gz (18 kB)\n",
      "Requirement already satisfied: typing-extensions in /apps/share64/debian7/anaconda/anaconda-6/lib/python3.7/site-packages (from cads-api-client>=0.9.2->cdsapi) (3.7.4.2)\n",
      "Requirement already satisfied: attrs in /apps/share64/debian7/anaconda/anaconda-6/lib/python3.7/site-packages (from cads-api-client>=0.9.2->cdsapi) (19.3.0)\n",
      "Requirement already satisfied: pytz in /apps/share64/debian7/anaconda/anaconda-6/lib/python3.7/site-packages (from multiurl->cads-api-client>=0.9.2->cdsapi) (2020.1)\n",
      "Requirement already satisfied: python-dateutil in /apps/share64/debian7/anaconda/anaconda-6/lib/python3.7/site-packages (from multiurl->cads-api-client>=0.9.2->cdsapi) (2.8.1)\n",
      "Requirement already satisfied: six>=1.5 in /apps/share64/debian7/anaconda/anaconda-6/lib/python3.7/site-packages (from python-dateutil->multiurl->cads-api-client>=0.9.2->cdsapi) (1.15.0)\n",
      "Building wheels for collected packages: multiurl\n",
      "  Building wheel for multiurl (setup.py) ... \u001b[?25ldone\n",
      "\u001b[?25h  Created wheel for multiurl: filename=multiurl-0.3.1-py3-none-any.whl size=21138 sha256=694b77facba7e35e3e290b9f964edc4b8928f9c9a70e595215b7626a4bba3f4c\n",
      "  Stored in directory: /home/mygeohub/junaid7582/.cache/pip/wheels/c1/16/f9/05d0e2b38fdf79d5c6ecbb1813caf136d702c24f18de2b30f4\n",
      "Successfully built multiurl\n",
      "Installing collected packages: multiurl, cads-api-client, cdsapi\n",
      "Successfully installed cads-api-client-1.0.2 cdsapi-0.7.0 multiurl-0.3.1\n",
      "Note: you may need to restart the kernel to use updated packages.\n"
     ]
    }
   ],
   "source": [
    "pip install cdsapi"
   ]
  },
  {
   "cell_type": "code",
   "execution_count": null,
   "metadata": {},
   "outputs": [],
   "source": [
    "def download_era5_land_data(start_year, end_year):\n",
    "    c = cdsapi.Client()\n",
    "\n",
    "    for year in range(start_year, end_year + 1):\n",
    "        for month in range(1, 13):\n",
    "            month_str = str(month).zfill(2)\n",
    "            days_in_month = calendar.monthrange(year, month)[1]\n",
    "            days = [str(day).zfill(2) for day in range(1, days_in_month + 1)]\n",
    "\n",
    "            c.retrieve(\n",
    "                'reanalysis-era5-land',\n",
    "                {\n",
    "                    'year': str(year),\n",
    "                    'month': month_str,\n",
    "                    'day': days,\n",
    "                    'time': [\n",
    "                        '00:00', '01:00', '02:00',\n",
    "                        '03:00', '04:00', '05:00',\n",
    "                        '06:00', '07:00', '08:00',\n",
    "                        '09:00', '10:00', '11:00',\n",
    "                        '12:00', '13:00', '14:00',\n",
    "                        '15:00', '16:00', '17:00',\n",
    "                        '18:00', '19:00', '20:00',\n",
    "                        '21:00', '22:00', '23:00',\n",
    "                    ],\n",
    "                    'area': [\n",
    "                        34, -98, 31,\n",
    "                        -95,\n",
    "                    ],\n",
    "                    'variable': [\n",
    "                        '10m_u_component_of_wind', '10m_v_component_of_wind', '2m_temperature',\n",
    "                    ],\n",
    "                    'format': 'netcdf.zip',\n",
    "                },\n",
    "                f'download_{year}_{month_str}.netcdf.zip'\n",
    "            )\n",
    "\n",
    "# Check if the API key file exists\n",
    "#check_api_key_file()\n",
    "\n",
    "# Download data\n",
    "download_era5_land_data(2015, 2015)"
   ]
  }
 ],
 "metadata": {
  "kernelspec": {
   "display_name": "Python 3",
   "language": "python",
   "name": "python3"
  },
  "language_info": {
   "codemirror_mode": {
    "name": "ipython",
    "version": 3
   },
   "file_extension": ".py",
   "mimetype": "text/x-python",
   "name": "python",
   "nbconvert_exporter": "python",
   "pygments_lexer": "ipython3",
   "version": "3.7.7"
  }
 },
 "nbformat": 4,
 "nbformat_minor": 4
}
