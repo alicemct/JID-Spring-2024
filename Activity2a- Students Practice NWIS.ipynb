{
 "cells": [
  {
   "cell_type": "markdown",
   "metadata": {},
   "source": [
    "# Activity \n",
    "Use any of the following stations and find 'peak', 'dv' and 'iv'. You will need to change service in nwis.get.record syntax to find these parameters. \n",
    "1. Station ID: 02336000 , Chattahoochee River at Atlanta, GA\n",
    "2. Station ID: 07191160 , Spavinaw Creek near Maysville, AR\n",
    "\n",
    "\n",
    "    Note: All the services may not be available at some stations. "
   ]
  },
  {
   "cell_type": "code",
   "execution_count": null,
   "metadata": {
    "scrolled": true
   },
   "outputs": [],
   "source": [
    "# import required library \n",
    "import dataretrieval.nwis as nwis"
   ]
  },
  {
   "cell_type": "code",
   "execution_count": null,
   "metadata": {
    "scrolled": true
   },
   "outputs": [],
   "source": [
    "site = '02336000'  \n",
    "# get basic info about the site (Another station_id=\"08075770\")\n",
    "df_I = nwis.get_record(sites=site, service='site')\n",
    "df_I"
   ]
  },
  {
   "cell_type": "code",
   "execution_count": null,
   "metadata": {
    "scrolled": false
   },
   "outputs": [],
   "source": [
    "# get daily values (dv) , parameterCd='00060' , Discharge\n",
    "site_1 = '02336000' # Chattahoochee River at Atlanta, GA\n",
    "dfn1 = nwis.get_record(sites=site_1, service='qwdata', start='2014-12-31', end='2016-01-01', parameterCd='00060')\n",
    "dfn1"
   ]
  },
  {
   "cell_type": "code",
   "execution_count": null,
   "metadata": {
    "scrolled": true
   },
   "outputs": [],
   "source": [
    "site_2 = '07191160' #Spavinaw Creek near Maysville, AR\n",
    "dfn2 = nwis.get_record(sites=site_2, service='peaks', start='2014-12-31', end='2016-01-01', parameterCd='00060')\n",
    "dfn2"
   ]
  },
  {
   "cell_type": "code",
   "execution_count": null,
   "metadata": {
    "scrolled": true
   },
   "outputs": [],
   "source": []
  }
 ],
 "metadata": {
  "kernelspec": {
   "display_name": "Python 3",
   "language": "python",
   "name": "python3"
  },
  "language_info": {
   "codemirror_mode": {
    "name": "ipython",
    "version": 3
   },
   "file_extension": ".py",
   "mimetype": "text/x-python",
   "name": "python",
   "nbconvert_exporter": "python",
   "pygments_lexer": "ipython3",
   "version": "3.7.7"
  }
 },
 "nbformat": 4,
 "nbformat_minor": 4
}
