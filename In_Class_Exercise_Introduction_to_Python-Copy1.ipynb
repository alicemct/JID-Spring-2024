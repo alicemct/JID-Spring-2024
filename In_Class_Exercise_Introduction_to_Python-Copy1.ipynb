{
 "cells": [
  {
   "cell_type": "markdown",
   "metadata": {},
   "source": [
    "# Introduction to Python\n",
    "##### By Nikhil Singh Yaduvanshi\n",
    "<hr style=\"border: 2px solid blue;\">\n",
    "\n",
    "\n",
    "#### Topics covered\n",
    "1. Python Basics\n",
    "2. Lists\n",
    "3. Dictionary\n",
    "4. Functions and Packages\n",
    "5. Loops"
   ]
  },
  {
   "cell_type": "markdown",
   "metadata": {},
   "source": [
    "# Python as a calculator"
   ]
  },
  {
   "cell_type": "markdown",
   "metadata": {},
   "source": [
    "### Print the sum of 27 and 30\n",
    "27 + 30\n",
    "\n",
    "print(27 + 30)"
   ]
  },
  {
   "cell_type": "code",
   "execution_count": null,
   "metadata": {
    "scrolled": true
   },
   "outputs": [],
   "source": []
  },
  {
   "cell_type": "markdown",
   "metadata": {},
   "source": [
    "### Addition\n",
    "print(3+5)\n",
    "\n",
    "### Subtraction\n",
    "print(385-54)\n",
    "\n",
    "### Multiplication\n",
    "print(3985*53457)\n",
    "\n",
    "### Division\n",
    "print(1024/248)"
   ]
  },
  {
   "cell_type": "code",
   "execution_count": null,
   "metadata": {},
   "outputs": [],
   "source": []
  },
  {
   "cell_type": "code",
   "execution_count": null,
   "metadata": {},
   "outputs": [],
   "source": []
  },
  {
   "cell_type": "code",
   "execution_count": null,
   "metadata": {},
   "outputs": [],
   "source": []
  },
  {
   "cell_type": "code",
   "execution_count": null,
   "metadata": {},
   "outputs": [],
   "source": []
  },
  {
   "cell_type": "markdown",
   "metadata": {},
   "source": [
    "# Variables in Python\n",
    "*(Refer slide for explaination)*"
   ]
  },
  {
   "cell_type": "markdown",
   "metadata": {},
   "source": [
    "### Create a variable savings\n",
    "savings = 1500\n",
    "### Print out savings\n",
    "print(savings)"
   ]
  },
  {
   "cell_type": "code",
   "execution_count": null,
   "metadata": {},
   "outputs": [],
   "source": []
  },
  {
   "cell_type": "markdown",
   "metadata": {},
   "source": [
    "### Create the variables daily_savings and num_days\n",
    "daily_savings = 15\n",
    "\n",
    "num_days = 365\n",
    "\n",
    "### Multiply daily_savings and num_days\n",
    "new_savings = daily_savings*num_days\n",
    "\n",
    "### Add new_savings to your savings\n",
    "total_savings = new_savings + savings\n",
    "\n",
    "### Print total_savings\n",
    "print(total_savings)"
   ]
  },
  {
   "cell_type": "code",
   "execution_count": null,
   "metadata": {},
   "outputs": [],
   "source": []
  },
  {
   "cell_type": "markdown",
   "metadata": {},
   "source": [
    "## Assigning Other variable types\n",
    "*(Refer slide for explaination)*\n",
    "\n",
    "\n",
    "\n",
    "**float**, or floating point: a number that has both an integer and fractional part.\n",
    "\n",
    "**str**, or string: a type to represent text. You can use single or double quotes to build a string.\n",
    "\n",
    "**bool**, or boolean: a type to represent logical values. It can only be True or False."
   ]
  },
  {
   "cell_type": "markdown",
   "metadata": {},
   "source": [
    "### Create a variable half\n",
    "half = 0.5\n",
    "\n",
    "### Create a variable intro\n",
    "intro = \"Hello! How are you?\"\n",
    "\n",
    "### Create a variable is_good\n",
    "is_good = True"
   ]
  },
  {
   "cell_type": "code",
   "execution_count": null,
   "metadata": {},
   "outputs": [],
   "source": []
  },
  {
   "cell_type": "code",
   "execution_count": null,
   "metadata": {},
   "outputs": [],
   "source": []
  },
  {
   "cell_type": "code",
   "execution_count": null,
   "metadata": {},
   "outputs": [],
   "source": []
  },
  {
   "cell_type": "markdown",
   "metadata": {},
   "source": [
    "### Try This!\n",
    "\n",
    "Calculate the sum of intro and intro and store the result in a new variable doubleintro. Print out doubleintro. What do you expect?\n",
    "\n",
    "### Assign sum of intro and intro to doubleintro\n",
    "doubleintro = intro + intro\n",
    "\n",
    "### Print out doubleintro\n",
    "print(doubleintro)"
   ]
  },
  {
   "cell_type": "code",
   "execution_count": null,
   "metadata": {},
   "outputs": [],
   "source": []
  },
  {
   "cell_type": "markdown",
   "metadata": {},
   "source": [
    "### Try this now!\n",
    "doubleintro = intro + \" \" + intro\n",
    "print(doubleintro)"
   ]
  },
  {
   "cell_type": "code",
   "execution_count": null,
   "metadata": {},
   "outputs": [],
   "source": []
  },
  {
   "cell_type": "markdown",
   "metadata": {},
   "source": [
    "### Do you remember our savings calculation? How can we print it as sentence? For example, I started with x amount of savings.\n",
    "\n",
    "print(\"I started with \\\\$\" + str(savings) + \" and now have \\\\$\" + str(total_savings) + \". Awesome!\")"
   ]
  },
  {
   "cell_type": "code",
   "execution_count": null,
   "metadata": {},
   "outputs": [],
   "source": []
  },
  {
   "cell_type": "markdown",
   "metadata": {},
   "source": [
    "<hr style=\"border: 2px solid blue;\">"
   ]
  },
  {
   "cell_type": "markdown",
   "metadata": {},
   "source": [
    "# Lists\n",
    "*(Refer slide for explaination)*"
   ]
  },
  {
   "cell_type": "markdown",
   "metadata": {},
   "source": [
    "## Define a list\n",
    "\n",
    "### area variables (in square feet)\n",
    "hall = 250.0\n",
    "\n",
    "kit = 50.0\n",
    "\n",
    "liv = 175.75\n",
    "\n",
    "bed = 65.25\n",
    "\n",
    "bath = 20.35\n",
    "\n",
    "\n",
    "### Create list of areas\n",
    "areas = [hall, kit, liv, bed, bath]\n",
    "\n",
    "### Print areas\n",
    "print(areas)"
   ]
  },
  {
   "cell_type": "code",
   "execution_count": null,
   "metadata": {},
   "outputs": [],
   "source": []
  },
  {
   "cell_type": "code",
   "execution_count": null,
   "metadata": {},
   "outputs": [],
   "source": []
  },
  {
   "cell_type": "code",
   "execution_count": null,
   "metadata": {},
   "outputs": [],
   "source": []
  },
  {
   "cell_type": "markdown",
   "metadata": {},
   "source": [
    "## Creating a list of \"lists\"\n",
    "\n",
    "### house information as list of lists\n",
    "house = [[\"hallway\", hall],\n",
    "         [\"kitchen\", kit],\n",
    "         [\"living room\", liv],\n",
    "         [\"bedroom\", bed],\n",
    "         [\"bathroom\", bath]]\n",
    "         \n",
    "\n",
    "### Print out house\n",
    "print(house)"
   ]
  },
  {
   "cell_type": "code",
   "execution_count": null,
   "metadata": {},
   "outputs": [],
   "source": []
  },
  {
   "cell_type": "code",
   "execution_count": null,
   "metadata": {},
   "outputs": [],
   "source": []
  },
  {
   "cell_type": "markdown",
   "metadata": {},
   "source": [
    "### Print out the type of house\n",
    "print(type(house))"
   ]
  },
  {
   "cell_type": "code",
   "execution_count": null,
   "metadata": {},
   "outputs": [],
   "source": []
  },
  {
   "cell_type": "markdown",
   "metadata": {},
   "source": [
    "## Python Indexing\n",
    "*(Refer slide for explaination)*"
   ]
  },
  {
   "cell_type": "markdown",
   "metadata": {},
   "source": [
    "### Create the areas list\n",
    "areas = [\"hallway\", 250.0, \"kitchen\", 50.0, \"living room\", 175.75, \"bedroom\", 65.25, \"bathroom\", 20.35]\n",
    "\n",
    "### Print out second element from areas\n",
    "print(areas[1])\n",
    "\n",
    "### Print out last element from areas\n",
    "print(areas[-1])\n",
    "\n",
    "### Print out the area of the living room\n",
    "print(areas[5])"
   ]
  },
  {
   "cell_type": "code",
   "execution_count": null,
   "metadata": {},
   "outputs": [],
   "source": []
  },
  {
   "cell_type": "code",
   "execution_count": null,
   "metadata": {},
   "outputs": [],
   "source": []
  },
  {
   "cell_type": "code",
   "execution_count": null,
   "metadata": {},
   "outputs": [],
   "source": []
  },
  {
   "cell_type": "code",
   "execution_count": null,
   "metadata": {},
   "outputs": [],
   "source": []
  },
  {
   "cell_type": "markdown",
   "metadata": {},
   "source": [
    "## Slicing lists\n",
    "*(Refer slide for explaination)*"
   ]
  },
  {
   "cell_type": "markdown",
   "metadata": {},
   "source": [
    "### Use slicing to create a new variable, downstairs, that contains the first 6 elements of areas.\n",
    "downstairs = areas[0:6]\n",
    "\n",
    "### Do a similar thing to create a new variable, upstairs, that contains the last 4 elements of areas.\n",
    "upstairs = areas[6:10]\n",
    "\n",
    "### Print out downstairs and upstairs\n",
    "print(downstairs)\n",
    "\n",
    "print(upstairs)"
   ]
  },
  {
   "cell_type": "code",
   "execution_count": null,
   "metadata": {},
   "outputs": [],
   "source": []
  },
  {
   "cell_type": "code",
   "execution_count": null,
   "metadata": {},
   "outputs": [],
   "source": []
  },
  {
   "cell_type": "code",
   "execution_count": null,
   "metadata": {},
   "outputs": [],
   "source": []
  },
  {
   "cell_type": "code",
   "execution_count": null,
   "metadata": {},
   "outputs": [],
   "source": []
  },
  {
   "cell_type": "markdown",
   "metadata": {},
   "source": [
    "## Extending a list"
   ]
  },
  {
   "cell_type": "markdown",
   "metadata": {},
   "source": [
    "# Add poolhouse data to areas, new list is new_areas\n",
    "\n",
    "new_areas = areas + [\"poolhouse\", 240.50]\n",
    "\n",
    "print(new_areas)"
   ]
  },
  {
   "cell_type": "code",
   "execution_count": null,
   "metadata": {},
   "outputs": [],
   "source": []
  },
  {
   "cell_type": "markdown",
   "metadata": {},
   "source": [
    "<hr style=\"border: 2px solid blue;\">"
   ]
  },
  {
   "cell_type": "markdown",
   "metadata": {},
   "source": [
    "# Dictionary\n",
    "\n",
    "\n",
    "In Python, a dictionary is a built-in data type that stores data in key-value pairs. It allows for fast retrieval, addition, and deletion of entries based on the unique key. Dictionaries are written with curly braces {}, with keys and values separated by a colon :, and pairs separated by commas. \n",
    "\n",
    "\n",
    "### Create a dictionary for two list of First and last names \n",
    "\n",
    "a_dictionary = {\"First\" : [\"Nikhil\",\"John\",\"Ismail\"],\"Last\" : [\"Singh\",\"Nash\",\"Raza\"]}"
   ]
  },
  {
   "cell_type": "code",
   "execution_count": null,
   "metadata": {},
   "outputs": [],
   "source": []
  },
  {
   "cell_type": "markdown",
   "metadata": {},
   "source": [
    "### Calling back the list within a column is similar but calling the name of the key.\n",
    "\n",
    "a_dictionary[\"First\"]\n"
   ]
  },
  {
   "cell_type": "code",
   "execution_count": null,
   "metadata": {},
   "outputs": [],
   "source": []
  },
  {
   "cell_type": "markdown",
   "metadata": {},
   "source": [
    "### Calling an individual name from a column uses a [key][index] pair.\n",
    "\n",
    "a_dictionary[\"First\"][0]"
   ]
  },
  {
   "cell_type": "code",
   "execution_count": null,
   "metadata": {},
   "outputs": [],
   "source": []
  },
  {
   "cell_type": "markdown",
   "metadata": {},
   "source": [
    "<hr style=\"border: 2px solid blue;\">"
   ]
  },
  {
   "cell_type": "markdown",
   "metadata": {},
   "source": [
    "# Functions\n",
    "*(Refer slide for explaination)*"
   ]
  },
  {
   "cell_type": "markdown",
   "metadata": {},
   "source": [
    "###  Python offers a bunch of built-in functions to make your life easier. \n",
    "\n",
    "You already know some functions: \n",
    "\n",
    "print()\n",
    "\n",
    "type()\n",
    "\n",
    "### These are also some common functions\n",
    "\n",
    "str()\n",
    "\n",
    "int()\n",
    "\n",
    "bool()\n",
    "\n",
    "float()\n",
    "\n",
    "These are built-in functions in python."
   ]
  },
  {
   "cell_type": "markdown",
   "metadata": {},
   "source": [
    "### Lets create variables var1 and var2\n",
    "var1 = [1, 2, 3, 4]\n",
    "\n",
    "var2 = True\n",
    "\n",
    "### Print out type of var1\n",
    "print(type(var1))\n",
    "\n",
    "print(type(var2))"
   ]
  },
  {
   "cell_type": "code",
   "execution_count": null,
   "metadata": {},
   "outputs": [],
   "source": []
  },
  {
   "cell_type": "code",
   "execution_count": null,
   "metadata": {},
   "outputs": [],
   "source": []
  },
  {
   "cell_type": "code",
   "execution_count": null,
   "metadata": {},
   "outputs": [],
   "source": []
  },
  {
   "cell_type": "markdown",
   "metadata": {},
   "source": [
    "### Convert var2 to an integer: out2\n",
    "out2 = int(var2)\n",
    "\n",
    "### Print out2\n",
    "print(out2)\n",
    "\n",
    "### Print out type of out2\n",
    "print(type(out2))"
   ]
  },
  {
   "cell_type": "code",
   "execution_count": null,
   "metadata": {},
   "outputs": [],
   "source": []
  },
  {
   "cell_type": "code",
   "execution_count": null,
   "metadata": {},
   "outputs": [],
   "source": []
  },
  {
   "cell_type": "markdown",
   "metadata": {},
   "source": [
    "## Methods\n",
    "In Python, methods are functions that are associated with objects and operate on the data contained within those objects, helping to manipulate or inquire about that data in specific ways. \n",
    "\n",
    "### Create list areas\n",
    "areas = [250.0, 50.0, 175.75, 65.25, 20.35, 50.0]\n",
    "\n",
    "### Print out the index of the element 50.0\n",
    "##### index(), to get the index of the first element of a list that matches its input and\n",
    "\n",
    "print(areas.index(250.0))\n",
    "\n",
    "### Print out how often 9.50 appears in areas\n",
    "##### count(), to get the number of times an element appears in a list.\n",
    "print(areas.count(50.0))"
   ]
  },
  {
   "cell_type": "code",
   "execution_count": null,
   "metadata": {},
   "outputs": [],
   "source": []
  },
  {
   "cell_type": "code",
   "execution_count": null,
   "metadata": {},
   "outputs": [],
   "source": []
  },
  {
   "cell_type": "code",
   "execution_count": null,
   "metadata": {},
   "outputs": [],
   "source": []
  },
  {
   "cell_type": "markdown",
   "metadata": {},
   "source": [
    "<hr style=\"border: 2px solid blue;\">"
   ]
  },
  {
   "cell_type": "markdown",
   "metadata": {},
   "source": [
    "# Packages"
   ]
  },
  {
   "cell_type": "markdown",
   "metadata": {},
   "source": [
    "In Python, the **import** statement is used to bring external modules into your script, allowing you to access functions, methods, classes, and other resources provided by those modules.\n",
    "\n"
   ]
  },
  {
   "cell_type": "markdown",
   "metadata": {},
   "source": [
    "## Numpy\n",
    "\n",
    "NumPy, which stands for Numerical Python, is a fundamental package for scientific computing in Python."
   ]
  },
  {
   "cell_type": "markdown",
   "metadata": {},
   "source": [
    "### Import the numpy package\n",
    "##### Note: using as np makes the library call shorter and easier to type\n",
    "\n",
    "import numpy as np"
   ]
  },
  {
   "cell_type": "markdown",
   "metadata": {},
   "source": [
    "### Create a list of areas\n",
    "\n",
    "areas = [250.0, 50.0, 175.75, 65.25, 20.35, 50.0]"
   ]
  },
  {
   "cell_type": "markdown",
   "metadata": {},
   "source": [
    "### Create a new NumPy array **'a'** from the data in the list **'areas'**. \n",
    "\n",
    "a = np.array(areas)\n",
    "\n",
    "a"
   ]
  },
  {
   "cell_type": "markdown",
   "metadata": {},
   "source": [
    "### Convert the array into a 2x3 matrix\n",
    "\n",
    "a = np.array(areas).reshape(2, 3)\n",
    "\n",
    "a"
   ]
  },
  {
   "cell_type": "code",
   "execution_count": null,
   "metadata": {},
   "outputs": [],
   "source": []
  },
  {
   "cell_type": "code",
   "execution_count": null,
   "metadata": {},
   "outputs": [],
   "source": []
  },
  {
   "cell_type": "code",
   "execution_count": null,
   "metadata": {},
   "outputs": [],
   "source": []
  },
  {
   "cell_type": "code",
   "execution_count": null,
   "metadata": {},
   "outputs": [],
   "source": []
  },
  {
   "cell_type": "markdown",
   "metadata": {},
   "source": [
    "## Pandas\n",
    "\n",
    "Pandas is a Python package that provides data structures and tools for effective data manipulation and analysis, particularly offering DataFrame objects for handling structured data."
   ]
  },
  {
   "cell_type": "markdown",
   "metadata": {},
   "source": [
    "### Import the pandas package\n",
    "##### Note: using as pd makes the library call shorter and easier to type\n",
    "\n",
    "import pandas as pd"
   ]
  },
  {
   "cell_type": "markdown",
   "metadata": {},
   "source": [
    "## Create an empty Dataframe\n",
    "\n",
    "df = pd.DataFrame()"
   ]
  },
  {
   "cell_type": "markdown",
   "metadata": {},
   "source": [
    "### Create a Pandas DataFrame 'df'\n",
    "\n",
    "df = pd.DataFrame({\"Col1\":[1,2,3],\n",
    "     \"Col2\":[4,5,6]})"
   ]
  },
  {
   "cell_type": "markdown",
   "metadata": {},
   "source": [
    "### Return the DataFrame\n",
    "\n",
    "df.head()\n",
    "\n",
    "##### Note: df.head() returns the first 5 rows of the DataFrame. You can specify the numbers of rows required using 'df.head(10)'"
   ]
  },
  {
   "cell_type": "code",
   "execution_count": null,
   "metadata": {},
   "outputs": [],
   "source": []
  },
  {
   "cell_type": "code",
   "execution_count": null,
   "metadata": {},
   "outputs": [],
   "source": []
  },
  {
   "cell_type": "code",
   "execution_count": null,
   "metadata": {},
   "outputs": [],
   "source": []
  },
  {
   "cell_type": "code",
   "execution_count": null,
   "metadata": {},
   "outputs": [],
   "source": []
  },
  {
   "cell_type": "code",
   "execution_count": null,
   "metadata": {},
   "outputs": [],
   "source": []
  },
  {
   "cell_type": "markdown",
   "metadata": {},
   "source": [
    "<hr style=\"border: 2px solid blue;\">"
   ]
  },
  {
   "cell_type": "markdown",
   "metadata": {},
   "source": [
    "# Loops\n",
    "*(Refer slide for explaination)*"
   ]
  },
  {
   "cell_type": "markdown",
   "metadata": {},
   "source": [
    "## 'For' Loop\n",
    "\n",
    "Below is an example of a for loop in action iterating over a list.\n",
    "\n",
    "This loop counts up every time it loops and gives us the number of items it looped through in this list.\n",
    "\n",
    "##### Note: The code that is looped needs to be indented in python."
   ]
  },
  {
   "cell_type": "markdown",
   "metadata": {},
   "source": [
    "### Create a list of 'words'\n",
    "\n",
    "words = [\"Hello\",\"no\",\"Wow!\",\"Happy\"]\n",
    "\n",
    "### Create a varible 'count' with starting value zero\n",
    "count = 0\n",
    "\n",
    "### Create a loop to go through each element in the 'words' list and count the no. of items\n",
    "\n",
    "<pre>\n",
    "<code>\n",
    "for word in words:\n",
    "    count += 1\n",
    "print(count)\n",
    "</code>\n",
    "</pre>"
   ]
  },
  {
   "cell_type": "code",
   "execution_count": null,
   "metadata": {},
   "outputs": [],
   "source": []
  },
  {
   "cell_type": "code",
   "execution_count": null,
   "metadata": {},
   "outputs": [],
   "source": []
  },
  {
   "cell_type": "code",
   "execution_count": null,
   "metadata": {},
   "outputs": [],
   "source": []
  },
  {
   "cell_type": "markdown",
   "metadata": {},
   "source": [
    "## 'For' loop iterating only 'n' number of times\n",
    "\n",
    "For example, iterate through the task exactly twice.\n",
    "\n",
    "It will loop for every number 'i' in range of 0-2, not including 2."
   ]
  },
  {
   "cell_type": "markdown",
   "metadata": {},
   "source": [
    "### Create a list of 'words'\n",
    "words = [\"I\",\"love\",\"teaching\",\"Python\", \"but\", \"not\", \"burgers\", \"and\", \"coffee\"]\n",
    "\n",
    "### Create a loop to go through each element in the 'words' list and print first 7 items\n",
    "\n",
    "<pre>\n",
    "<code>\n",
    "for i in range(7):\n",
    "    print(words[i])\n",
    "</code>\n",
    "</pre>"
   ]
  },
  {
   "cell_type": "code",
   "execution_count": null,
   "metadata": {},
   "outputs": [],
   "source": []
  },
  {
   "cell_type": "code",
   "execution_count": null,
   "metadata": {},
   "outputs": [],
   "source": []
  },
  {
   "cell_type": "markdown",
   "metadata": {},
   "source": [
    "## 'While' loops & 'Booleans'\n",
    "\n",
    "Below is an example of a while loop in where the exit condition is set outside the loop is reached from in side the loop.\n",
    "\n",
    "The exit condition can dynamically change inside the loop, contrasting to the set exit a for loop has."
   ]
  },
  {
   "cell_type": "markdown",
   "metadata": {},
   "source": [
    "### Create a boolean 'True' assigned to a varibable 'stay_in_loop'\n",
    "\n",
    "stay_in_loop = True\n",
    "\n",
    "### Create a variable 'counter' with starting value zero\n",
    "counter = 0\n",
    "\n",
    "### Implement a loop that does the task below.\n",
    "\n",
    "Continuously execute as long as the condition 'stay_in_loop' is 'True'.\n",
    "\n",
    "Inside the loop, check if the variable 'counter' is less than '10'. \n",
    "\n",
    "'If' counter is less than 10, print the value of counter and then increments counter by 1.\n",
    "\n",
    "'If' counter reaches 10, set the value of 'stay_in_loop' to 'False', effectively breaking the loop.\n",
    "\n",
    "\n",
    "<pre>\n",
    "<code>\n",
    "while stay_in_loop:\n",
    "    if counter &lt; 10:\n",
    "        print(counter)\n",
    "        counter += 1\n",
    "    else:\n",
    "        stay_in_loop = False\n",
    "        print(\"Exiting loop!\")\n",
    "</code>\n",
    "</pre>"
   ]
  },
  {
   "cell_type": "code",
   "execution_count": null,
   "metadata": {},
   "outputs": [],
   "source": []
  },
  {
   "cell_type": "code",
   "execution_count": null,
   "metadata": {},
   "outputs": [],
   "source": []
  },
  {
   "cell_type": "code",
   "execution_count": null,
   "metadata": {},
   "outputs": [],
   "source": []
  },
  {
   "cell_type": "markdown",
   "metadata": {},
   "source": [
    "## Conditional Statements\n",
    "\n",
    "*(Refer slide for explaination)*\n",
    "\n",
    "Below is an example of a simple if/else statement that checks the first letter of a word."
   ]
  },
  {
   "cell_type": "markdown",
   "metadata": {},
   "source": [
    "### Assign a word to a variable\n",
    "word = \"Hello!\"\n",
    "\n",
    "### Check if the first letter of a variable word is 'H'\n",
    "### If yes, print \"The First letter of this word is H!\"\n",
    "### If no, print \"There is no H at the start of this word.\"\n",
    "\n",
    "<pre>\n",
    "<code>\n",
    "if word[0] == \"H\":\n",
    "    print(\"The First letter of this word is H!\")\n",
    "else:\n",
    "    print(\"There is no H at the start of this word.\")\n",
    "</code>\n",
    "</pre>"
   ]
  },
  {
   "cell_type": "code",
   "execution_count": null,
   "metadata": {},
   "outputs": [],
   "source": []
  },
  {
   "cell_type": "code",
   "execution_count": null,
   "metadata": {},
   "outputs": [],
   "source": []
  },
  {
   "cell_type": "markdown",
   "metadata": {},
   "source": [
    "<hr style=\"border: 2px solid blue;\">"
   ]
  },
  {
   "cell_type": "markdown",
   "metadata": {},
   "source": [
    "# Thank you for your patience throughout this exercise."
   ]
  },
  {
   "cell_type": "markdown",
   "metadata": {},
   "source": [
    "## Happy Learning!"
   ]
  }
 ],
 "metadata": {
  "kernelspec": {
   "display_name": "Python 3",
   "language": "python",
   "name": "python3"
  },
  "language_info": {
   "codemirror_mode": {
    "name": "ipython",
    "version": 3
   },
   "file_extension": ".py",
   "mimetype": "text/x-python",
   "name": "python",
   "nbconvert_exporter": "python",
   "pygments_lexer": "ipython3",
   "version": "3.7.7"
  }
 },
 "nbformat": 4,
 "nbformat_minor": 5
}
