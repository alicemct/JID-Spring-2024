{
 "cells": [
  {
   "cell_type": "markdown",
   "metadata": {},
   "source": [
    "# Installing dataretrieval library \n",
    "To run this script make sure to install dataretrieval using pip. Pip is a Python package manager.\n",
    "When the library is installed, you may be asked to restart kernel. You can do so by clicking on 'kernel' tab and selecting 'Restart'."
   ]
  },
  {
   "cell_type": "code",
   "execution_count": null,
   "metadata": {},
   "outputs": [],
   "source": [
    "pip install -U dataretrieval"
   ]
  },
  {
   "cell_type": "code",
   "execution_count": null,
   "metadata": {},
   "outputs": [],
   "source": [
    "# import required library \n",
    "import dataretrieval.nwis as nwis"
   ]
  },
  {
   "cell_type": "code",
   "execution_count": null,
   "metadata": {},
   "outputs": [],
   "source": [
    "site = '08057000'  # url : https://waterdata.usgs.gov/tx/nwis/inventory/?site_no=08057000\n",
    "# get basic info about the site (Another station_id=\"08075770\")\n",
    "df_I = nwis.get_record(sites=site, service='site')\n",
    "df_I"
   ]
  },
  {
   "cell_type": "markdown",
   "metadata": {},
   "source": [
    "# Services available from NWIS:\n",
    "\n",
    "1. Instantaneous values (iv)\n",
    "2. Daily values (dv)\n",
    "3. Site info (site)\n",
    "4. Discharge peaks (peaks)\n",
    "5. Discharge measurements (measurements)\n",
    "6. Water quality samples (qwdata)"
   ]
  },
  {
   "cell_type": "markdown",
   "metadata": {},
   "source": [
    "# Parameter codes (parameterCd) :\n",
    "1. Water temperature, degrees Celsius = 00010\n",
    "2. Discharge, cubic feet per second = 00060\n",
    "3. Gage height, feet                =00065"
   ]
  },
  {
   "cell_type": "markdown",
   "metadata": {},
   "source": [
    "# Getting daily values for the three parameters : Water temperature, Discharge and Gage height. "
   ]
  },
  {
   "cell_type": "code",
   "execution_count": null,
   "metadata": {},
   "outputs": [],
   "source": [
    "# get daily values (dv) , parameterCd='00010' , water temperature\n",
    "site = '08057000'\n",
    "df = nwis.get_record(sites=site, service='dv', start='2014-12-31', end='2016-01-01', parameterCd='00010')\n",
    "df"
   ]
  },
  {
   "cell_type": "code",
   "execution_count": null,
   "metadata": {},
   "outputs": [],
   "source": [
    "# get daily values (dv) , parameterCd='00060' , Discharge , radar based: https://www.usgs.gov/data/radar-based-field-measurements-surface-velocity-and-discharge-10-us-geological-survey\n",
    "site = '08057000'\n",
    "df1 = nwis.get_record(sites=site, service='dv', start='2014-12-31', end='2016-01-01', parameterCd='00060')\n",
    "df1"
   ]
  },
  {
   "cell_type": "code",
   "execution_count": null,
   "metadata": {},
   "outputs": [],
   "source": [
    "# get daily values (dv) , parameterCd='00065' , Gage height\n",
    "site = '08057000'\n",
    "df2 = nwis.get_record(sites=site, service='dv', start='2014-12-31', end='2016-01-01', parameterCd='00065')\n",
    "df2"
   ]
  },
  {
   "cell_type": "markdown",
   "metadata": {},
   "source": [
    "# Getting instantaneous values for the three parameters : Water temperature, Discharge and Gage height. "
   ]
  },
  {
   "cell_type": "code",
   "execution_count": null,
   "metadata": {},
   "outputs": [],
   "source": [
    "# get instantaneous values (iv) , parameterCd='00065' , Gage height\n",
    "site = '08057000'\n",
    "df3 = nwis.get_record(sites=site, service='iv', start='2014-12-31', end='2016-01-01', parameterCd='00065')\n",
    "df3"
   ]
  },
  {
   "cell_type": "code",
   "execution_count": null,
   "metadata": {},
   "outputs": [],
   "source": [
    "# get instantaneous values (iv) , parameterCd='00060' , Discharge\n",
    "site = '08057000'\n",
    "df4 = nwis.get_record(sites=site, service='iv', start='2014-12-31', end='2016-01-01', parameterCd='00060')\n",
    "df4"
   ]
  },
  {
   "cell_type": "code",
   "execution_count": null,
   "metadata": {},
   "outputs": [],
   "source": [
    "# get instantaneous values (iv) , parameterCd='00010' , water temperature\n",
    "site = '08057000'\n",
    "df5 = nwis.get_record(sites=site, service='iv', start='2014-12-31', end='2016-01-01', parameterCd='00010')\n",
    "df5"
   ]
  },
  {
   "cell_type": "markdown",
   "metadata": {},
   "source": [
    "# Getting discharge peaks. "
   ]
  },
  {
   "cell_type": "code",
   "execution_count": null,
   "metadata": {},
   "outputs": [],
   "source": [
    "# get discharge peaks (peaks) , these are some severe storm events \n",
    "site = '08057000'\n",
    "df6 = nwis.get_record(sites=site, service='peaks', start='2012-12-31', end='2016-01-01') # no need of parameterCd\n",
    "df6"
   ]
  },
  {
   "cell_type": "markdown",
   "metadata": {},
   "source": [
    "# Getting discharge measurements. "
   ]
  },
  {
   "cell_type": "code",
   "execution_count": null,
   "metadata": {},
   "outputs": [],
   "source": [
    "# get discharge measurments (measurements) These are field measurements \n",
    "site = '08057000'\n",
    "df7 = nwis.get_record(sites=site, service='measurements', start='2012-12-31', end='2016-01-01') # no need of parameterCd\n",
    "df7"
   ]
  },
  {
   "cell_type": "code",
   "execution_count": null,
   "metadata": {},
   "outputs": [],
   "source": [
    "df7.to_csv('Measurements'+'.csv')"
   ]
  },
  {
   "cell_type": "markdown",
   "metadata": {},
   "source": [
    "# Getting water quality"
   ]
  },
  {
   "cell_type": "code",
   "execution_count": null,
   "metadata": {},
   "outputs": [],
   "source": [
    "# get water quality (qwdata) \n",
    "site = '08057000'\n",
    "df8 = nwis.get_record(sites=site, service='qwdata', start='2012-12-31', end='2016-01-01') # no need of parameterCd\n",
    "df8"
   ]
  },
  {
   "cell_type": "code",
   "execution_count": null,
   "metadata": {},
   "outputs": [],
   "source": [
    "# save dataframe to an excel file\n",
    "\n",
    "FileName = site + \".csv\"\n",
    "\n",
    "df8.to_csv(FileName)"
   ]
  },
  {
   "cell_type": "markdown",
   "metadata": {},
   "source": [
    "# Getting daily value discharge data from two different stations "
   ]
  },
  {
   "cell_type": "code",
   "execution_count": null,
   "metadata": {},
   "outputs": [],
   "source": [
    "# get daily values (dv) , parameterCd='00060' , Discharge\n",
    "site_1 = '08057000' # Trinity_Dallas\n",
    "site_2 = '08075770' #Hunting_Houston\n",
    "dfn1 = nwis.get_record(sites=site_1, service='dv', start='2014-12-31', end='2016-01-01', parameterCd='00060')\n",
    "dfn2 = nwis.get_record(sites=site_2, service='dv', start='2014-12-31', end='2016-01-01', parameterCd='00060')\n",
    "dfn1"
   ]
  },
  {
   "cell_type": "code",
   "execution_count": null,
   "metadata": {},
   "outputs": [],
   "source": [
    "dfn2"
   ]
  },
  {
   "cell_type": "code",
   "execution_count": null,
   "metadata": {},
   "outputs": [],
   "source": [
    "# Making a new dataframe by joining both dataframes \n",
    "import pandas as pd\n",
    "df_A= pd.concat([dfn1, dfn2], axis=1) "
   ]
  },
  {
   "cell_type": "code",
   "execution_count": null,
   "metadata": {},
   "outputs": [],
   "source": [
    "df_A"
   ]
  },
  {
   "cell_type": "code",
   "execution_count": null,
   "metadata": {},
   "outputs": [],
   "source": [
    "Place1 =df_A ['00060_radar_Mean'] # Trinity_Dallas\n",
    "Place2 = df_A ['00060_Mean'] #Hunting_Houston"
   ]
  },
  {
   "cell_type": "code",
   "execution_count": null,
   "metadata": {},
   "outputs": [],
   "source": [
    "# Making a new column for dates by creating a new dataframe\n",
    "import datetime\n",
    "\n",
    "# Define the start and end dates\n",
    "start_date = datetime.date(2014, 12, 31)\n",
    "end_date = datetime.date(2016, 1, 1)\n",
    "\n",
    "# Generate the date range\n",
    "date_range = pd.date_range(start=start_date, end=end_date, freq='D')\n",
    "\n",
    "# Create a DataFrame with the date range\n",
    "df_D = pd.DataFrame({'Date': date_range})\n",
    "\n",
    "# Display the DataFrame\n",
    "print(df_D)\n",
    "Date = df_D['Date']"
   ]
  },
  {
   "cell_type": "code",
   "execution_count": null,
   "metadata": {},
   "outputs": [],
   "source": [
    "# Plotting line graphs \n",
    "import matplotlib.pyplot as plt\n",
    "plt.plot(Date, df_A ['00060_radar_Mean'] , label='Trinity_Dallas') # You can replace df_A ['00060_radar_Mean'] with Place1\n",
    "plt.plot(Date, Place2, label='Hunting_Houston')\n",
    "plt.legend(loc='upper left')\n",
    "plt.xlabel('Time')\n",
    "plt.ylabel('Discharge (cfs)')\n",
    "plt.show()"
   ]
  },
  {
   "cell_type": "markdown",
   "metadata": {},
   "source": [
    "# Activity \n",
    "Use any of the following stations and find 'peak', 'dv' and 'iv'. You will need to change service in nwis.get.record syntax to find these parameters. \n",
    "1. Station ID: 02336000 , Chattahoochee River at Atlanta, GA\n",
    "2. Station ID: 07191160 , Spavinaw Creek near Maysville, AR\n",
    "\n",
    "\n",
    "    Note: All the services may not be available at some stations. "
   ]
  },
  {
   "cell_type": "code",
   "execution_count": null,
   "metadata": {},
   "outputs": [],
   "source": [
    "# get daily values (dv) , parameterCd='00060' , Discharge\n",
    "#site_1 = '02336000' # Chattahoochee River at Atlanta, GA\n",
    "#dfn1 = nwis.get_record(sites=site_1, service='qwdata', start='2014-12-31', end='2016-01-01', parameterCd='00060')\n",
    "#dfn1"
   ]
  },
  {
   "cell_type": "code",
   "execution_count": null,
   "metadata": {},
   "outputs": [],
   "source": [
    "#site_2 = '07191160' #Spavinaw Creek near Maysville, AR\n",
    "#dfn2 = nwis.get_record(sites=site_2, service='peaks', start='2014-12-31', end='2016-01-01', parameterCd='00060')\n",
    "#dfn2"
   ]
  }
 ],
 "metadata": {
  "kernelspec": {
   "display_name": "Python 3",
   "language": "python",
   "name": "python3"
  },
  "language_info": {
   "codemirror_mode": {
    "name": "ipython",
    "version": 3
   },
   "file_extension": ".py",
   "mimetype": "text/x-python",
   "name": "python",
   "nbconvert_exporter": "python",
   "pygments_lexer": "ipython3",
   "version": "3.7.7"
  }
 },
 "nbformat": 4,
 "nbformat_minor": 4
}
